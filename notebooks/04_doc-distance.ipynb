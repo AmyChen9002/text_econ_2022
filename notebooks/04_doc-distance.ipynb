{
 "cells": [
  {
   "cell_type": "markdown",
   "metadata": {
    "toc": true
   },
   "source": [
    "# Lecture 4. Document Distance"
   ]
  },
  {
   "cell_type": "markdown",
   "metadata": {},
   "source": [
    "Natural Language Processing for Law and Social Science<br>\n",
    "Elliott Ash, ETH Zurich"
   ]
  },
  {
   "cell_type": "code",
   "execution_count": 1,
   "metadata": {
    "ExecuteTime": {
     "end_time": "2022-03-11T09:40:51.192954Z",
     "start_time": "2022-03-11T09:40:51.186493Z"
    }
   },
   "outputs": [],
   "source": [
    "# set random seed\n",
    "import numpy as np\n",
    "np.random.seed(4)"
   ]
  },
  {
   "cell_type": "code",
   "execution_count": 2,
   "metadata": {
    "ExecuteTime": {
     "end_time": "2022-03-11T09:40:51.740668Z",
     "start_time": "2022-03-11T09:40:51.614198Z"
    }
   },
   "outputs": [],
   "source": [
    "# Setup\n",
    "import warnings; warnings.simplefilter('ignore')\n",
    "%matplotlib inline\n",
    "import pandas as pd\n",
    "df = pd.read_pickle('sc_cases_cleaned.pkl',compression='gzip')\n",
    "X = pd.read_pickle('X.pkl').toarray()\n",
    "X_tfidf = pd.read_pickle('X_tfidf.pkl').toarray()"
   ]
  },
  {
   "cell_type": "code",
   "execution_count": 3,
   "metadata": {
    "ExecuteTime": {
     "end_time": "2022-03-11T09:40:52.236650Z",
     "start_time": "2022-03-11T09:40:52.209792Z"
    }
   },
   "outputs": [
    {
     "data": {
      "text/plain": [
       "'justice stevens delivered the opinion of the court in most of the united states not including california the minimum price paid to dairy farmers producing raw milk is regulated pursuant to federal marketing orders those orders guarantee uniform price for the producers but through pooling mechanisms require the processors of different classes of dairy products to pay different prices thus for example processors of fluid milk pay premium price part of which goes into an equalization pool that provides partial subsidy for cheese manufacturers who pay net price that is lower than the farmers receive seewest lynn creamery inc healy ed ct the california legislature has adopted similar program to regulate the minimum prices paid by california processors to california producers in the cases before us today out of state producers are challenging the of amendment to that program they present us with two questions whether of the federal agriculture improvement and reform act of stat usc uscs exem'"
      ]
     },
     "execution_count": 3,
     "metadata": {},
     "output_type": "execute_result"
    }
   ],
   "source": [
    "from gensim.utils import simple_preprocess\n",
    "text0 = ' '.join(simple_preprocess(df['opinion_text'][0]))\n",
    "text1 = ' '.join(simple_preprocess(df['opinion_text'][1]))\n",
    "\n",
    "text1[:1000]"
   ]
  },
  {
   "cell_type": "markdown",
   "metadata": {},
   "source": [
    "# Document Distance"
   ]
  },
  {
   "cell_type": "markdown",
   "metadata": {},
   "source": [
    "## Text Re-Use"
   ]
  },
  {
   "cell_type": "markdown",
   "metadata": {},
   "source": [
    "Notes on this implementation of the Smith-Waterman algorithm can be found [here](https://tiefenauer.github.io/blog/smith-waterman/#step-1-scoring-matrix)"
   ]
  },
  {
   "cell_type": "code",
   "execution_count": 4,
   "metadata": {
    "ExecuteTime": {
     "end_time": "2022-03-11T09:41:24.617382Z",
     "start_time": "2022-03-11T09:41:23.676571Z"
    }
   },
   "outputs": [],
   "source": [
    "import itertools\n",
    "import numpy as np\n",
    "\n",
    "def matrix(a, b, match_score=3, gap_cost=2):\n",
    "    H = np.zeros((len(a) + 1, len(b) + 1), np.int)\n",
    "\n",
    "    for i, j in itertools.product(range(1, H.shape[0]), range(1, H.shape[1])):\n",
    "        match = H[i - 1, j - 1] + (match_score if a[i - 1] == b[j - 1] else - match_score)\n",
    "        delete = H[i - 1, j] - gap_cost\n",
    "        insert = H[i, j - 1] - gap_cost\n",
    "        H[i, j] = max(match, delete, insert, 0)\n",
    "    return H\n",
    "def traceback(H, b, b_='', old_i=0):\n",
    "    # flip H to get index of **last** occurrence of H.max() with np.argmax()\n",
    "    H_flip = np.flip(np.flip(H, 0), 1)\n",
    "    i_, j_ = np.unravel_index(H_flip.argmax(), H_flip.shape)\n",
    "    i, j = np.subtract(H.shape, (i_ + 1, j_ + 1))  # (i, j) are **last** indexes of H.max()\n",
    "    if H[i, j] == 0:\n",
    "        return b_, j\n",
    "    b_ = b[j - 1] + '-' + b_ if old_i - i > 1 else b[j - 1] + b_\n",
    "    return traceback(H[0:i, 0:j], b, b_, i)\n",
    "def smith_waterman(a, b, match_score=3, gap_cost=2):\n",
    "    a, b = a.upper(), b.upper()\n",
    "    H = matrix(a, b, match_score, gap_cost)\n",
    "    b_, pos = traceback(H, b)\n",
    "    return pos, pos + len(b_)\n",
    "\n",
    "start, end = smith_waterman(text0[:1000], text1[:1000])"
   ]
  },
  {
   "cell_type": "code",
   "execution_count": 5,
   "metadata": {
    "ExecuteTime": {
     "end_time": "2022-03-11T09:41:24.865349Z",
     "start_time": "2022-03-11T09:41:24.852460Z"
    }
   },
   "outputs": [
    {
     "data": {
      "text/plain": [
       "'justice ginsburg delivered the opinion of the co'"
      ]
     },
     "execution_count": 5,
     "metadata": {},
     "output_type": "execute_result"
    }
   ],
   "source": [
    "text0[start: end]"
   ]
  },
  {
   "cell_type": "markdown",
   "metadata": {},
   "source": [
    "## Cosine Similarity"
   ]
  },
  {
   "cell_type": "code",
   "execution_count": 6,
   "metadata": {
    "ExecuteTime": {
     "end_time": "2022-03-11T09:41:43.952894Z",
     "start_time": "2022-03-11T09:41:43.919280Z"
    }
   },
   "outputs": [
    {
     "data": {
      "text/plain": [
       "array([[1.        , 0.16771115, 0.41233013, ..., 0.19675355, 0.21352608,\n",
       "        0.14127778],\n",
       "       [0.16771115, 1.        , 0.25182999, ..., 0.11155529, 0.2277363 ,\n",
       "        0.19370828],\n",
       "       [0.41233013, 0.25182999, 1.        , ..., 0.13706389, 0.22644611,\n",
       "        0.15369421],\n",
       "       ...,\n",
       "       [0.19675355, 0.11155529, 0.13706389, ..., 1.        , 0.3584016 ,\n",
       "        0.08371338],\n",
       "       [0.21352608, 0.2277363 , 0.22644611, ..., 0.3584016 , 1.        ,\n",
       "        0.09916067],\n",
       "       [0.14127778, 0.19370828, 0.15369421, ..., 0.08371338, 0.09916067,\n",
       "        1.        ]])"
      ]
     },
     "execution_count": 6,
     "metadata": {},
     "output_type": "execute_result"
    }
   ],
   "source": [
    "# compute pair-wise similarities between all documents in corpus\"\n",
    "from sklearn.metrics.pairwise import cosine_similarity\n",
    "\n",
    "sim = cosine_similarity(X[:100])\n",
    "sim.shape\n",
    "\n",
    "sim"
   ]
  },
  {
   "cell_type": "code",
   "execution_count": 7,
   "metadata": {
    "ExecuteTime": {
     "end_time": "2022-03-11T09:41:49.366523Z",
     "start_time": "2022-03-11T09:41:49.344155Z"
    }
   },
   "outputs": [
    {
     "data": {
      "text/plain": [
       "array([[1.        , 0.16771115, 0.41233013],\n",
       "       [0.16771115, 1.        , 0.25182999],\n",
       "       [0.41233013, 0.25182999, 1.        ]])"
      ]
     },
     "execution_count": 7,
     "metadata": {},
     "output_type": "execute_result"
    }
   ],
   "source": [
    "# TF-IDF Similarity\n",
    "tsim = cosine_similarity(X[:100])\n",
    "tsim[:3,:3]"
   ]
  },
  {
   "cell_type": "markdown",
   "metadata": {},
   "source": [
    "## Jensen-Shannon Divergence"
   ]
  },
  {
   "cell_type": "code",
   "execution_count": 8,
   "metadata": {
    "ExecuteTime": {
     "end_time": "2022-03-11T08:38:11.995406Z",
     "start_time": "2022-03-11T08:38:11.985278Z"
    }
   },
   "outputs": [
    {
     "data": {
      "text/plain": [
       "0.03745200408684272"
      ]
     },
     "execution_count": 8,
     "metadata": {},
     "output_type": "execute_result"
    }
   ],
   "source": [
    "from scipy.stats import entropy\n",
    "def js(p, q):\n",
    "    p /= p.sum()\n",
    "    q /= q.sum()\n",
    "    m = (p + q) / 2\n",
    "    return (entropy(p, m) + entropy(q, m)) / 2\n",
    "js(tsim[0],tsim[1])"
   ]
  },
  {
   "cell_type": "markdown",
   "metadata": {},
   "source": [
    "# Clustering"
   ]
  },
  {
   "cell_type": "markdown",
   "metadata": {},
   "source": [
    "## K-means clustering"
   ]
  },
  {
   "cell_type": "code",
   "execution_count": 9,
   "metadata": {
    "ExecuteTime": {
     "end_time": "2022-03-11T09:43:29.382083Z",
     "start_time": "2022-03-11T09:43:25.856420Z"
    }
   },
   "outputs": [],
   "source": [
    "# create 100 clusters of similar documents\n",
    "from sklearn.cluster import KMeans\n",
    "num_clusters = 40\n",
    "km = KMeans(n_clusters=num_clusters)\n",
    "km.fit(X)\n",
    "doc_clusters = km.labels_.tolist()"
   ]
  },
  {
   "cell_type": "code",
   "execution_count": 10,
   "metadata": {
    "ExecuteTime": {
     "end_time": "2022-03-11T09:43:55.174072Z",
     "start_time": "2022-03-11T09:43:55.149135Z"
    }
   },
   "outputs": [
    {
     "data": {
      "text/plain": [
       "47     Justice Alito announced the judgment of the Co...\n",
       "437    Justice Scalia delivered the opinion of the Co...\n",
       "Name: opinion_text, dtype: object"
      ]
     },
     "execution_count": 10,
     "metadata": {},
     "output_type": "execute_result"
    }
   ],
   "source": [
    "df['cluster'] = doc_clusters\n",
    "df[df['cluster']==3]['opinion_text']"
   ]
  },
  {
   "cell_type": "markdown",
   "metadata": {},
   "source": [
    "### Silhouette Score\n",
    "\n",
    "Choose the optimal number of clusters. "
   ]
  },
  {
   "cell_type": "code",
   "execution_count": 11,
   "metadata": {
    "ExecuteTime": {
     "end_time": "2022-03-11T09:44:52.277204Z",
     "start_time": "2022-03-11T09:44:52.141635Z"
    }
   },
   "outputs": [
    {
     "data": {
      "text/plain": [
       "0.03309979587033981"
      ]
     },
     "execution_count": 11,
     "metadata": {},
     "output_type": "execute_result"
    }
   ],
   "source": [
    "from sklearn.metrics import silhouette_score\n",
    "silhouette_score(X, km.labels_)"
   ]
  },
  {
   "cell_type": "code",
   "execution_count": 12,
   "metadata": {
    "ExecuteTime": {
     "end_time": "2022-03-11T09:46:45.296285Z",
     "start_time": "2022-03-11T09:45:12.878930Z"
    }
   },
   "outputs": [],
   "source": [
    "sil_scores = []\n",
    "for n in range(2, num_clusters):\n",
    "    km = KMeans(n_clusters=n)\n",
    "    km.fit(X)\n",
    "    sil_scores.append(silhouette_score(X, km.labels_))"
   ]
  },
  {
   "cell_type": "code",
   "execution_count": 13,
   "metadata": {
    "ExecuteTime": {
     "end_time": "2022-03-11T09:46:45.467824Z",
     "start_time": "2022-03-11T09:46:45.343903Z"
    }
   },
   "outputs": [
    {
     "data": {
      "image/png": "[encoded data removed]",
      "text/plain": [
       "<Figure size 432x288 with 1 Axes>"
      ]
     },
     "metadata": {
      "needs_background": "light"
     },
     "output_type": "display_data"
    }
   ],
   "source": [
    "import matplotlib.pyplot as plt \n",
    "plt.plot(range(2, num_clusters), sil_scores)\n",
    "plt.xlabel('Number of Clusters')\n",
    "plt.ylabel('Silhouette Score')\n",
    "plt.show()"
   ]
  },
  {
   "cell_type": "code",
   "execution_count": 14,
   "metadata": {
    "ExecuteTime": {
     "end_time": "2022-03-11T07:07:17.926048Z",
     "start_time": "2022-03-11T07:07:17.917927Z"
    }
   },
   "outputs": [
    {
     "name": "stdout",
     "output_type": "stream",
     "text": [
      "The optimal number of clusters is 7\n"
     ]
    }
   ],
   "source": [
    "opt_sil_score = max(sil_scores[5:20])\n",
    "sil_scores.index(opt_sil_score)\n",
    "opt_num_cluster = range(2, num_clusters)[sil_scores.index(opt_sil_score)]\n",
    "print('The optimal number of clusters is %s' %opt_num_cluster)"
   ]
  },
  {
   "cell_type": "code",
   "execution_count": 15,
   "metadata": {
    "ExecuteTime": {
     "end_time": "2022-03-11T07:07:19.322909Z",
     "start_time": "2022-03-11T07:07:17.934484Z"
    }
   },
   "outputs": [
    {
     "data": {
      "text/plain": [
       "96     Justice Ginsburg delivered the opinion of the ...\n",
       "327    Justice Stevens delivered the opinion of the C...\n",
       "364    Justice Alito delivered the opinion of the Cou...\n",
       "505    Justice Kennedy delivered the opinion of the C...\n",
       "680    JUSTICE SOUTER delivered the opinion of the Co...\n",
       "808    JUSTICE SCALIA delivered the opinion of the Co...\n",
       "Name: opinion_text, dtype: object"
      ]
     },
     "execution_count": 15,
     "metadata": {},
     "output_type": "execute_result"
    }
   ],
   "source": [
    "km = KMeans(n_clusters=opt_num_cluster)\n",
    "km.fit(X)\n",
    "doc_clusters = km.labels_.tolist()\n",
    "\n",
    "df['cluster_mean'] = doc_clusters\n",
    "df[df['cluster_mean']==1]['opinion_text']\n"
   ]
  },
  {
   "cell_type": "markdown",
   "metadata": {},
   "source": [
    "## K-Medoids"
   ]
  },
  {
   "cell_type": "code",
   "execution_count": 19,
   "metadata": {
    "ExecuteTime": {
     "end_time": "2022-03-11T07:07:19.388613Z",
     "start_time": "2022-03-11T07:07:19.340115Z"
    }
   },
   "outputs": [
    {
     "data": {
      "text/plain": [
       "11     Justice Ginsburg delivered the opinion of the ...\n",
       "19     Justice Kennedy delivered the opinion of the C...\n",
       "25     Justice Thomas delivered the opinion of the Co...\n",
       "26     Justice Scalia delivered the opinion of the Co...\n",
       "28     Justice Ginsburg delivered the opinion of the ...\n",
       "                             ...                        \n",
       "800    JUSTICE BREYER delivered the opinion of the Co...\n",
       "801    JUSTICE GINSBURG delivered the opinion of the ...\n",
       "805    CHIEF JUSTICE REHNQUIST delivered the opinion ...\n",
       "808    JUSTICE SCALIA delivered the opinion of the Co...\n",
       "817    JUSTICE SCALIA delivered the opinion of the Co...\n",
       "Name: opinion_text, Length: 144, dtype: object"
      ]
     },
     "execution_count": 19,
     "metadata": {},
     "output_type": "execute_result"
    }
   ],
   "source": [
    "#!pip install scikit-learn-extra\n",
    "\n",
    "from sklearn_extra.cluster import KMedoids\n",
    "\n",
    "kmed = KMedoids(n_clusters=opt_num_cluster)\n",
    "kmed.fit(X)\n",
    "doc_clusters = kmed.labels_.tolist()\n",
    "\n",
    "df['cluster_med'] = doc_clusters\n",
    "df[df['cluster_med']==1]['opinion_text']"
   ]
  },
  {
   "cell_type": "markdown",
   "metadata": {},
   "source": [
    "## DBSCAN"
   ]
  },
  {
   "cell_type": "code",
   "execution_count": 20,
   "metadata": {
    "ExecuteTime": {
     "end_time": "2022-03-11T07:07:19.439357Z",
     "start_time": "2022-03-11T07:07:19.391327Z"
    }
   },
   "outputs": [
    {
     "data": {
      "text/plain": [
       "25     Justice Thomas delivered the opinion of the Co...\n",
       "36     Justice Alito delivered the opinion of the Cou...\n",
       "45     Justice Scalia delivered the opinion of the Co...\n",
       "67     JUSTICE SCALIA delivered the opinion of the Co...\n",
       "78     Justice Breyer announced the judgment of the C...\n",
       "250    JUSTICE SCALIA delivered the opinion of the Co...\n",
       "383    Justice Ginsburg delivered the opinion of the ...\n",
       "392    Justice Souter delivered the opinion of the Co...\n",
       "461    Justice Ginsburg delivered the opinion of the ...\n",
       "468    Justice Thomas delivered the opinion of the Co...\n",
       "484    Justice Scalia delivered the opinion of the Co...\n",
       "580    JUSTICE BREYER delivered the opinion of the Co...\n",
       "616    JUSTICE SOUTER delivered the opinion of the Co...\n",
       "623    CHIEF JUSTICE REHNQUIST delivered the opinion ...\n",
       "652    JUSTICE STEVENS delivered the opinion of the C...\n",
       "764    JUSTICE GINSBURG delivered the opinion of the ...\n",
       "Name: opinion_text, dtype: object"
      ]
     },
     "execution_count": 20,
     "metadata": {},
     "output_type": "execute_result"
    }
   ],
   "source": [
    "from sklearn.cluster import DBSCAN\n",
    "\n",
    "dbscan = DBSCAN(eps=0.95, min_samples=5)\n",
    "dbscan.fit(X_tfidf)\n",
    "db_clusters = dbscan.labels_\n",
    "\n",
    "df['cluster_db'] = db_clusters\n",
    "df[df['cluster_db']==1]['opinion_text']"
   ]
  },
  {
   "cell_type": "markdown",
   "metadata": {},
   "source": [
    "### Hierarchical DBSCAN\n",
    "\n",
    "Automatically chooses epsilon, performing DBSCAN over various epsilon values e returns the result that gives the best stability over epsilon. For reference see [here](https://github.com/scikit-learn-contrib/hdbscan/)."
   ]
  },
  {
   "cell_type": "code",
   "execution_count": 23,
   "metadata": {
    "ExecuteTime": {
     "end_time": "2022-03-11T07:07:20.304382Z",
     "start_time": "2022-03-11T07:07:19.445785Z"
    }
   },
   "outputs": [
    {
     "data": {
      "text/plain": [
       "96     Justice Ginsburg delivered the opinion of the ...\n",
       "199    Justice Stevens delivered the opinion of the C...\n",
       "212    Justice Scalia delivered the opinion of the Co...\n",
       "326    Justice Souter delivered the opinion of the Co...\n",
       "327    Justice Stevens delivered the opinion of the C...\n",
       "364    Justice Alito delivered the opinion of the Cou...\n",
       "385    Justice Scalia delivered the opinion of the Co...\n",
       "458    Justice Stevens delivered the opinion of the C...\n",
       "469    Justice Scalia delivered the opinion of the Co...\n",
       "505    Justice Kennedy delivered the opinion of the C...\n",
       "540    JUSTICE STEVENS delivered the opinion of the C...\n",
       "596    JUSTICE BREYER delivered the opinion of the Co...\n",
       "615    JUSTICE KENNEDY delivered the opinion of the C...\n",
       "617    JUSTICE O'CONNOR delivered the opinion of the ...\n",
       "676    JUSTICE O'CONNOR delivered the opinion of the ...\n",
       "808    JUSTICE SCALIA delivered the opinion of the Co...\n",
       "Name: opinion_text, dtype: object"
      ]
     },
     "execution_count": 23,
     "metadata": {},
     "output_type": "execute_result"
    }
   ],
   "source": [
    "#!pip install hdbscan\n",
    "\n",
    "from hdbscan import HDBSCAN\n",
    "\n",
    "hdbscan = HDBSCAN(min_cluster_size=5)\n",
    "hdbscan.fit(X_tfidf)\n",
    "hdb_clusters = hdbscan.labels_\n",
    "\n",
    "df['cluster_hdb'] = hdb_clusters\n",
    "df[df['cluster_hdb']==1]['opinion_text']"
   ]
  },
  {
   "cell_type": "markdown",
   "metadata": {},
   "source": [
    "## Hierarchical Clustering"
   ]
  },
  {
   "cell_type": "code",
   "execution_count": 24,
   "metadata": {
    "ExecuteTime": {
     "end_time": "2022-03-11T07:07:20.394867Z",
     "start_time": "2022-03-11T07:07:20.305217Z"
    }
   },
   "outputs": [
    {
     "data": {
      "text/plain": [
       "25     Justice Thomas delivered the opinion of the Co...\n",
       "36     Justice Alito delivered the opinion of the Cou...\n",
       "45     Justice Scalia delivered the opinion of the Co...\n",
       "67     JUSTICE SCALIA delivered the opinion of the Co...\n",
       "78     Justice Breyer announced the judgment of the C...\n",
       "250    JUSTICE SCALIA delivered the opinion of the Co...\n",
       "383    Justice Ginsburg delivered the opinion of the ...\n",
       "392    Justice Souter delivered the opinion of the Co...\n",
       "461    Justice Ginsburg delivered the opinion of the ...\n",
       "468    Justice Thomas delivered the opinion of the Co...\n",
       "484    Justice Scalia delivered the opinion of the Co...\n",
       "580    JUSTICE BREYER delivered the opinion of the Co...\n",
       "616    JUSTICE SOUTER delivered the opinion of the Co...\n",
       "623    CHIEF JUSTICE REHNQUIST delivered the opinion ...\n",
       "652    JUSTICE STEVENS delivered the opinion of the C...\n",
       "764    JUSTICE GINSBURG delivered the opinion of the ...\n",
       "Name: opinion_text, dtype: object"
      ]
     },
     "execution_count": 24,
     "metadata": {},
     "output_type": "execute_result"
    }
   ],
   "source": [
    "from sklearn.cluster import AgglomerativeClustering\n",
    "\n",
    "cluster = AgglomerativeClustering(n_clusters=opt_num_cluster, affinity='euclidean', linkage='ward')\n",
    "cluster.fit_predict(X)\n",
    "\n",
    "clusters = dbscan.labels_\n",
    "\n",
    "df['cluster_hie'] = clusters\n",
    "df[df['cluster_hie']==1]['opinion_text']\n"
   ]
  },
  {
   "cell_type": "code",
   "execution_count": null,
   "metadata": {},
   "outputs": [],
   "source": []
  }
 ],
 "metadata": {
  "kernelspec": {
   "display_name": "Python 3",
   "language": "python",
   "name": "python3"
  },
  "language_info": {
   "codemirror_mode": {
    "name": "ipython",
    "version": 3
   },
   "file_extension": ".py",
   "mimetype": "text/x-python",
   "name": "python",
   "nbconvert_exporter": "python",
   "pygments_lexer": "ipython3",
   "version": "3.8.10"
  },
  "toc": {
   "base_numbering": 1,
   "nav_menu": {},
   "number_sections": true,
   "sideBar": true,
   "skip_h1_title": false,
   "title_cell": "Table of Contents",
   "title_sidebar": "Contents",
   "toc_cell": true,
   "toc_position": {},
   "toc_section_display": true,
   "toc_window_display": true
  },
  "toc-autonumbering": true
 },
 "nbformat": 4,
 "nbformat_minor": 4
}
