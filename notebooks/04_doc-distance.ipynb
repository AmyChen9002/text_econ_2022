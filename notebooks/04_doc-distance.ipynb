{
 "cells": [
  {
   "cell_type": "markdown",
   "metadata": {
    "toc": true
   },
   "source": [
    "# Lecture 4. Document Distance"
   ]
  },
  {
   "cell_type": "markdown",
   "metadata": {},
   "source": [
    "Natural Language Processing for Law and Social Science<br>\n",
    "Elliott Ash, ETH Zurich"
   ]
  },
  {
   "cell_type": "code",
   "execution_count": null,
   "metadata": {
    "ExecuteTime": {
     "end_time": "2022-03-11T09:40:51.192954Z",
     "start_time": "2022-03-11T09:40:51.186493Z"
    }
   },
   "outputs": [],
   "source": [
    "# set random seed\n",
    "import numpy as np\n",
    "np.random.seed(4)"
   ]
  },
  {
   "cell_type": "code",
   "execution_count": null,
   "metadata": {
    "ExecuteTime": {
     "end_time": "2022-03-11T09:40:51.740668Z",
     "start_time": "2022-03-11T09:40:51.614198Z"
    }
   },
   "outputs": [],
   "source": [
    "# Setup\n",
    "import warnings; warnings.simplefilter('ignore')\n",
    "%matplotlib inline\n",
    "import pandas as pd\n",
    "df = pd.read_pickle('sc_cases_cleaned.pkl',compression='gzip')\n",
    "X = pd.read_pickle('X.pkl').toarray()\n",
    "X_tfidf = pd.read_pickle('X_tfidf.pkl').toarray()"
   ]
  },
  {
   "cell_type": "code",
   "execution_count": null,
   "metadata": {
    "ExecuteTime": {
     "end_time": "2022-03-11T09:40:52.236650Z",
     "start_time": "2022-03-11T09:40:52.209792Z"
    }
   },
   "outputs": [],
   "source": [
    "from gensim.utils import simple_preprocess\n",
    "text0 = ' '.join(simple_preprocess(df['opinion_text'][0]))\n",
    "text1 = ' '.join(simple_preprocess(df['opinion_text'][1]))\n",
    "\n",
    "text1[:1000]"
   ]
  },
  {
   "cell_type": "markdown",
   "metadata": {},
   "source": [
    "# Document Distance"
   ]
  },
  {
   "cell_type": "markdown",
   "metadata": {},
   "source": [
    "## Text Re-Use"
   ]
  },
  {
   "cell_type": "markdown",
   "metadata": {},
   "source": [
    "Notes on this implementation of the Smith-Waterman algorithm can be found [here](https://tiefenauer.github.io/blog/smith-waterman/#step-1-scoring-matrix)"
   ]
  },
  {
   "cell_type": "code",
   "execution_count": null,
   "metadata": {
    "ExecuteTime": {
     "end_time": "2022-03-11T09:41:24.617382Z",
     "start_time": "2022-03-11T09:41:23.676571Z"
    }
   },
   "outputs": [],
   "source": [
    "import itertools\n",
    "import numpy as np\n",
    "\n",
    "def matrix(a, b, match_score=3, gap_cost=2):\n",
    "    H = np.zeros((len(a) + 1, len(b) + 1), np.int)\n",
    "\n",
    "    for i, j in itertools.product(range(1, H.shape[0]), range(1, H.shape[1])):\n",
    "        match = H[i - 1, j - 1] + (match_score if a[i - 1] == b[j - 1] else - match_score)\n",
    "        delete = H[i - 1, j] - gap_cost\n",
    "        insert = H[i, j - 1] - gap_cost\n",
    "        H[i, j] = max(match, delete, insert, 0)\n",
    "    return H\n",
    "def traceback(H, b, b_='', old_i=0):\n",
    "    # flip H to get index of **last** occurrence of H.max() with np.argmax()\n",
    "    H_flip = np.flip(np.flip(H, 0), 1)\n",
    "    i_, j_ = np.unravel_index(H_flip.argmax(), H_flip.shape)\n",
    "    i, j = np.subtract(H.shape, (i_ + 1, j_ + 1))  # (i, j) are **last** indexes of H.max()\n",
    "    if H[i, j] == 0:\n",
    "        return b_, j\n",
    "    b_ = b[j - 1] + '-' + b_ if old_i - i > 1 else b[j - 1] + b_\n",
    "    return traceback(H[0:i, 0:j], b, b_, i)\n",
    "def smith_waterman(a, b, match_score=3, gap_cost=2):\n",
    "    a, b = a.upper(), b.upper()\n",
    "    H = matrix(a, b, match_score, gap_cost)\n",
    "    b_, pos = traceback(H, b)\n",
    "    return pos, pos + len(b_)\n",
    "\n",
    "start, end = smith_waterman(text0[:1000], text1[:1000])"
   ]
  },
  {
   "cell_type": "code",
   "execution_count": null,
   "metadata": {
    "ExecuteTime": {
     "end_time": "2022-03-11T09:41:24.865349Z",
     "start_time": "2022-03-11T09:41:24.852460Z"
    }
   },
   "outputs": [],
   "source": [
    "text0[start: end]"
   ]
  },
  {
   "cell_type": "markdown",
   "metadata": {},
   "source": [
    "## Cosine Similarity"
   ]
  },
  {
   "cell_type": "code",
   "execution_count": null,
   "metadata": {
    "ExecuteTime": {
     "end_time": "2022-03-11T09:41:43.952894Z",
     "start_time": "2022-03-11T09:41:43.919280Z"
    }
   },
   "outputs": [],
   "source": [
    "# compute pair-wise similarities between all documents in corpus\"\n",
    "from sklearn.metrics.pairwise import cosine_similarity\n",
    "\n",
    "sim = cosine_similarity(X[:100])\n",
    "sim.shape\n",
    "\n",
    "sim"
   ]
  },
  {
   "cell_type": "code",
   "execution_count": null,
   "metadata": {
    "ExecuteTime": {
     "end_time": "2022-03-11T09:41:49.366523Z",
     "start_time": "2022-03-11T09:41:49.344155Z"
    }
   },
   "outputs": [],
   "source": [
    "# TF-IDF Similarity\n",
    "tsim = cosine_similarity(X[:100])\n",
    "tsim[:3,:3]"
   ]
  },
  {
   "cell_type": "markdown",
   "metadata": {},
   "source": [
    "## Jensen-Shannon Divergence"
   ]
  },
  {
   "cell_type": "code",
   "execution_count": null,
   "metadata": {
    "ExecuteTime": {
     "end_time": "2022-03-11T08:38:11.995406Z",
     "start_time": "2022-03-11T08:38:11.985278Z"
    }
   },
   "outputs": [],
   "source": [
    "from scipy.stats import entropy\n",
    "def js(p, q):\n",
    "    p /= p.sum()\n",
    "    q /= q.sum()\n",
    "    m = (p + q) / 2\n",
    "    return (entropy(p, m) + entropy(q, m)) / 2\n",
    "js(tsim[0],tsim[1])"
   ]
  },
  {
   "cell_type": "markdown",
   "metadata": {},
   "source": [
    "# Clustering"
   ]
  },
  {
   "cell_type": "markdown",
   "metadata": {},
   "source": [
    "## K-means clustering"
   ]
  },
  {
   "cell_type": "code",
   "execution_count": null,
   "metadata": {
    "ExecuteTime": {
     "end_time": "2022-03-11T09:43:29.382083Z",
     "start_time": "2022-03-11T09:43:25.856420Z"
    }
   },
   "outputs": [],
   "source": [
    "# create 100 clusters of similar documents\n",
    "from sklearn.cluster import KMeans\n",
    "num_clusters = 40\n",
    "km = KMeans(n_clusters=num_clusters)\n",
    "km.fit(X)\n",
    "doc_clusters = km.labels_.tolist()"
   ]
  },
  {
   "cell_type": "code",
   "execution_count": null,
   "metadata": {
    "ExecuteTime": {
     "end_time": "2022-03-11T09:43:55.174072Z",
     "start_time": "2022-03-11T09:43:55.149135Z"
    }
   },
   "outputs": [],
   "source": [
    "df['cluster'] = doc_clusters\n",
    "df[df['cluster']==3]['opinion_text']"
   ]
  },
  {
   "cell_type": "markdown",
   "metadata": {},
   "source": [
    "### Silhouette Score\n",
    "\n",
    "Choose the optimal number of clusters. "
   ]
  },
  {
   "cell_type": "code",
   "execution_count": null,
   "metadata": {
    "ExecuteTime": {
     "end_time": "2022-03-11T09:44:52.277204Z",
     "start_time": "2022-03-11T09:44:52.141635Z"
    }
   },
   "outputs": [],
   "source": [
    "from sklearn.metrics import silhouette_score\n",
    "silhouette_score(X, km.labels_)"
   ]
  },
  {
   "cell_type": "code",
   "execution_count": null,
   "metadata": {
    "ExecuteTime": {
     "end_time": "2022-03-11T09:46:45.296285Z",
     "start_time": "2022-03-11T09:45:12.878930Z"
    }
   },
   "outputs": [],
   "source": [
    "sil_scores = []\n",
    "for n in range(2, num_clusters):\n",
    "    km = KMeans(n_clusters=n)\n",
    "    km.fit(X)\n",
    "    sil_scores.append(silhouette_score(X, km.labels_))"
   ]
  },
  {
   "cell_type": "code",
   "execution_count": null,
   "metadata": {
    "ExecuteTime": {
     "end_time": "2022-03-11T09:46:45.467824Z",
     "start_time": "2022-03-11T09:46:45.343903Z"
    }
   },
   "outputs": [],
   "source": [
    "import matplotlib.pyplot as plt \n",
    "plt.plot(range(2, num_clusters), sil_scores)\n",
    "plt.xlabel('Number of Clusters')\n",
    "plt.ylabel('Silhouette Score')\n",
    "plt.show()"
   ]
  },
  {
   "cell_type": "code",
   "execution_count": null,
   "metadata": {
    "ExecuteTime": {
     "end_time": "2022-03-11T07:07:17.926048Z",
     "start_time": "2022-03-11T07:07:17.917927Z"
    }
   },
   "outputs": [],
   "source": [
    "opt_sil_score = max(sil_scores[5:20])\n",
    "sil_scores.index(opt_sil_score)\n",
    "opt_num_cluster = range(2, num_clusters)[sil_scores.index(opt_sil_score)]\n",
    "print('The optimal number of clusters is %s' %opt_num_cluster)"
   ]
  },
  {
   "cell_type": "code",
   "execution_count": null,
   "metadata": {
    "ExecuteTime": {
     "end_time": "2022-03-11T07:07:19.322909Z",
     "start_time": "2022-03-11T07:07:17.934484Z"
    }
   },
   "outputs": [],
   "source": [
    "km = KMeans(n_clusters=opt_num_cluster)\n",
    "km.fit(X)\n",
    "doc_clusters = km.labels_.tolist()\n",
    "\n",
    "df['cluster_mean'] = doc_clusters\n",
    "df[df['cluster_mean']==1]['opinion_text']\n"
   ]
  },
  {
   "cell_type": "markdown",
   "metadata": {},
   "source": [
    "## K-Medoids"
   ]
  },
  {
   "cell_type": "code",
   "execution_count": null,
   "metadata": {
    "ExecuteTime": {
     "end_time": "2022-03-11T07:07:19.388613Z",
     "start_time": "2022-03-11T07:07:19.340115Z"
    }
   },
   "outputs": [],
   "source": [
    "#!pip install sklearn_extra\n",
    "from sklearn_extra.cluster import KMedoids\n",
    "\n",
    "kmed = KMedoids(n_clusters=opt_num_cluster)\n",
    "kmed.fit(X)\n",
    "doc_clusters = kmed.labels_.tolist()\n",
    "\n",
    "df['cluster_med'] = doc_clusters\n",
    "df[df['cluster_med']==1]['opinion_text']"
   ]
  },
  {
   "cell_type": "markdown",
   "metadata": {},
   "source": [
    "## DBSCAN"
   ]
  },
  {
   "cell_type": "code",
   "execution_count": null,
   "metadata": {
    "ExecuteTime": {
     "end_time": "2022-03-11T07:07:19.439357Z",
     "start_time": "2022-03-11T07:07:19.391327Z"
    }
   },
   "outputs": [],
   "source": [
    "from sklearn.cluster import DBSCAN\n",
    "\n",
    "dbscan = DBSCAN(eps=0.95, min_samples=5)\n",
    "dbscan.fit(X_tfidf)\n",
    "db_clusters = dbscan.labels_\n",
    "\n",
    "df['cluster_db'] = db_clusters\n",
    "df[df['cluster_db']==1]['opinion_text']"
   ]
  },
  {
   "cell_type": "markdown",
   "metadata": {},
   "source": [
    "### Hierarchical DBSCAN\n",
    "\n",
    "Automatically chooses epsilon, performing DBSCAN over various epsilon values e returns the result that gives the best stability over epsilon. For reference see [here](https://github.com/scikit-learn-contrib/hdbscan/)."
   ]
  },
  {
   "cell_type": "code",
   "execution_count": null,
   "metadata": {
    "ExecuteTime": {
     "end_time": "2022-03-11T07:07:20.304382Z",
     "start_time": "2022-03-11T07:07:19.445785Z"
    }
   },
   "outputs": [],
   "source": [
    "#!pip install hdbscan\n",
    "\n",
    "from hdbscan import HDBSCAN\n",
    "\n",
    "hdbscan = HDBSCAN(min_cluster_size=5)\n",
    "hdbscan.fit(X_tfidf)\n",
    "hdb_clusters = hdbscan.labels_\n",
    "\n",
    "df['cluster_hdb'] = hdb_clusters\n",
    "df[df['cluster_hdb']==1]['opinion_text']"
   ]
  },
  {
   "cell_type": "markdown",
   "metadata": {},
   "source": [
    "## Hierarchical Clustering"
   ]
  },
  {
   "cell_type": "code",
   "execution_count": null,
   "metadata": {
    "ExecuteTime": {
     "end_time": "2022-03-11T07:07:20.394867Z",
     "start_time": "2022-03-11T07:07:20.305217Z"
    }
   },
   "outputs": [],
   "source": [
    "from sklearn.cluster import AgglomerativeClustering\n",
    "\n",
    "cluster = AgglomerativeClustering(n_clusters=opt_num_cluster, affinity='euclidean', linkage='ward')\n",
    "cluster.fit_predict(X)\n",
    "\n",
    "clusters = dbscan.labels_\n",
    "\n",
    "df['cluster_hie'] = clusters\n",
    "df[df['cluster_hie']==1]['opinion_text']\n"
   ]
  }
 ],
 "metadata": {
  "kernelspec": {
   "display_name": "Python 3 (ipykernel)",
   "language": "python",
   "name": "python3"
  },
  "language_info": {
   "codemirror_mode": {
    "name": "ipython",
    "version": 3
   },
   "file_extension": ".py",
   "mimetype": "text/x-python",
   "name": "python",
   "nbconvert_exporter": "python",
   "pygments_lexer": "ipython3",
   "version": "3.7.13"
  },
  "toc": {
   "base_numbering": 1,
   "nav_menu": {},
   "number_sections": true,
   "sideBar": true,
   "skip_h1_title": false,
   "title_cell": "Table of Contents",
   "title_sidebar": "Contents",
   "toc_cell": true,
   "toc_position": {},
   "toc_section_display": true,
   "toc_window_display": true
  },
  "toc-autonumbering": true
 },
 "nbformat": 4,
 "nbformat_minor": 4
}
