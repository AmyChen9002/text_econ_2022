{
 "cells": [
  {
   "cell_type": "markdown",
   "metadata": {},
   "source": [
    "# Lecture 06. Machine Learning with Text Data"
   ]
  },
  {
   "cell_type": "markdown",
   "metadata": {},
   "source": [
    "Natural Language Processing for Law and Social Science<br>\n",
    "Elliott Ash, ETH Zurich"
   ]
  },
  {
   "cell_type": "code",
   "execution_count": 1,
   "metadata": {},
   "outputs": [],
   "source": [
    "# set random seed\n",
    "import numpy as np\n",
    "np.random.seed(4)"
   ]
  },
  {
   "cell_type": "code",
   "execution_count": 2,
   "metadata": {},
   "outputs": [
    {
     "data": {
      "text/html": [
       "<div>\n",
       "<style scoped>\n",
       "    .dataframe tbody tr th:only-of-type {\n",
       "        vertical-align: middle;\n",
       "    }\n",
       "\n",
       "    .dataframe tbody tr th {\n",
       "        vertical-align: top;\n",
       "    }\n",
       "\n",
       "    .dataframe thead th {\n",
       "        text-align: right;\n",
       "    }\n",
       "</style>\n",
       "<table border=\"1\" class=\"dataframe\">\n",
       "  <thead>\n",
       "    <tr style=\"text-align: right;\">\n",
       "      <th></th>\n",
       "      <th>case_name</th>\n",
       "      <th>opinion_type</th>\n",
       "      <th>date_standard</th>\n",
       "      <th>authorship</th>\n",
       "      <th>x_republican</th>\n",
       "      <th>maj_judges</th>\n",
       "      <th>dissent_judges</th>\n",
       "      <th>topic_id</th>\n",
       "      <th>cite_count</th>\n",
       "      <th>opinion_text</th>\n",
       "      <th>year</th>\n",
       "      <th>log_cite_count</th>\n",
       "    </tr>\n",
       "  </thead>\n",
       "  <tbody>\n",
       "    <tr>\n",
       "      <th>0</th>\n",
       "      <td>ERICK CORNELL CLAY v. UNITED STATES</td>\n",
       "      <td>majority</td>\n",
       "      <td>2003-03-04</td>\n",
       "      <td>GINSBURG</td>\n",
       "      <td>0.0</td>\n",
       "      <td>['BREYER, STEPHEN', 'GINSBURG, RUTH', 'KENNEDY...</td>\n",
       "      <td>[]</td>\n",
       "      <td>1.0</td>\n",
       "      <td>2926.0</td>\n",
       "      <td>JUSTICE GINSBURG delivered the opinion of the ...</td>\n",
       "      <td>2003</td>\n",
       "      <td>7.981392</td>\n",
       "    </tr>\n",
       "    <tr>\n",
       "      <th>1</th>\n",
       "      <td>HILLSIDE DAIRY INC., A&amp;A DAIRY, L&amp;S DAIRY, AND...</td>\n",
       "      <td>majority</td>\n",
       "      <td>2003-06-09</td>\n",
       "      <td>STEVENS</td>\n",
       "      <td>1.0</td>\n",
       "      <td>['BREYER, STEPHEN', 'GINSBURG, RUTH', 'KENNEDY...</td>\n",
       "      <td>['THOMAS, CLARENCE']</td>\n",
       "      <td>8.0</td>\n",
       "      <td>117.0</td>\n",
       "      <td>Justice Stevens delivered the opinion of the C...</td>\n",
       "      <td>2003</td>\n",
       "      <td>4.762174</td>\n",
       "    </tr>\n",
       "    <tr>\n",
       "      <th>2</th>\n",
       "      <td>CHARLES RUSSELL RHINES v. DOUGLAS WEBER, WARDEN</td>\n",
       "      <td>majority</td>\n",
       "      <td>2005-03-30</td>\n",
       "      <td>O'CONNOR</td>\n",
       "      <td>1.0</td>\n",
       "      <td>['BREYER, STEPHEN', 'GINSBURG, RUTH', 'KENNEDY...</td>\n",
       "      <td>[]</td>\n",
       "      <td>1.0</td>\n",
       "      <td>23364.0</td>\n",
       "      <td>Justice O'Connor delivered the opinion of the ...</td>\n",
       "      <td>2005</td>\n",
       "      <td>10.058952</td>\n",
       "    </tr>\n",
       "    <tr>\n",
       "      <th>3</th>\n",
       "      <td>STATE OF ALASKA v. UNITED STATES OF AMERICA</td>\n",
       "      <td>majority</td>\n",
       "      <td>2005-06-06</td>\n",
       "      <td>KENNEDY</td>\n",
       "      <td>1.0</td>\n",
       "      <td>['BREYER, STEPHEN', 'GINSBURG, RUTH', 'KENNEDY...</td>\n",
       "      <td>['REHNQUIST, WILLIAM', 'SCALIA, ANTONIN', 'THO...</td>\n",
       "      <td>10.0</td>\n",
       "      <td>84.0</td>\n",
       "      <td>Justice Kennedy delivered the opinion of the C...</td>\n",
       "      <td>2005</td>\n",
       "      <td>4.430817</td>\n",
       "    </tr>\n",
       "    <tr>\n",
       "      <th>4</th>\n",
       "      <td>REGINALD A. WILKINSON, DIRECTOR, OHIO DEPARTME...</td>\n",
       "      <td>majority</td>\n",
       "      <td>2005-06-13</td>\n",
       "      <td>KENNEDY</td>\n",
       "      <td>1.0</td>\n",
       "      <td>['BREYER, STEPHEN', 'GINSBURG, RUTH', 'KENNEDY...</td>\n",
       "      <td>[]</td>\n",
       "      <td>4.0</td>\n",
       "      <td>4230.0</td>\n",
       "      <td>Justice Kennedy delivered the opinion of the C...</td>\n",
       "      <td>2005</td>\n",
       "      <td>8.349957</td>\n",
       "    </tr>\n",
       "  </tbody>\n",
       "</table>\n",
       "</div>"
      ],
      "text/plain": [
       "                                           case_name opinion_type  \\\n",
       "0                ERICK CORNELL CLAY v. UNITED STATES     majority   \n",
       "1  HILLSIDE DAIRY INC., A&A DAIRY, L&S DAIRY, AND...     majority   \n",
       "2    CHARLES RUSSELL RHINES v. DOUGLAS WEBER, WARDEN     majority   \n",
       "3        STATE OF ALASKA v. UNITED STATES OF AMERICA     majority   \n",
       "4  REGINALD A. WILKINSON, DIRECTOR, OHIO DEPARTME...     majority   \n",
       "\n",
       "  date_standard authorship  x_republican  \\\n",
       "0    2003-03-04   GINSBURG           0.0   \n",
       "1    2003-06-09    STEVENS           1.0   \n",
       "2    2005-03-30   O'CONNOR           1.0   \n",
       "3    2005-06-06    KENNEDY           1.0   \n",
       "4    2005-06-13    KENNEDY           1.0   \n",
       "\n",
       "                                          maj_judges  \\\n",
       "0  ['BREYER, STEPHEN', 'GINSBURG, RUTH', 'KENNEDY...   \n",
       "1  ['BREYER, STEPHEN', 'GINSBURG, RUTH', 'KENNEDY...   \n",
       "2  ['BREYER, STEPHEN', 'GINSBURG, RUTH', 'KENNEDY...   \n",
       "3  ['BREYER, STEPHEN', 'GINSBURG, RUTH', 'KENNEDY...   \n",
       "4  ['BREYER, STEPHEN', 'GINSBURG, RUTH', 'KENNEDY...   \n",
       "\n",
       "                                      dissent_judges  topic_id  cite_count  \\\n",
       "0                                                 []       1.0      2926.0   \n",
       "1                               ['THOMAS, CLARENCE']       8.0       117.0   \n",
       "2                                                 []       1.0     23364.0   \n",
       "3  ['REHNQUIST, WILLIAM', 'SCALIA, ANTONIN', 'THO...      10.0        84.0   \n",
       "4                                                 []       4.0      4230.0   \n",
       "\n",
       "                                        opinion_text  year  log_cite_count  \n",
       "0  JUSTICE GINSBURG delivered the opinion of the ...  2003        7.981392  \n",
       "1  Justice Stevens delivered the opinion of the C...  2003        4.762174  \n",
       "2  Justice O'Connor delivered the opinion of the ...  2005       10.058952  \n",
       "3  Justice Kennedy delivered the opinion of the C...  2005        4.430817  \n",
       "4  Justice Kennedy delivered the opinion of the C...  2005        8.349957  "
      ]
     },
     "execution_count": 2,
     "metadata": {},
     "output_type": "execute_result"
    }
   ],
   "source": [
    "# set up\n",
    "import warnings; warnings.simplefilter('ignore')\n",
    "#%matplotlib notebook\n",
    "import pandas as pd\n",
    "df = pd.read_pickle('sc_cases_cleaned.pkl',compression='gzip')\n",
    "df=df.reset_index(drop=True)\n",
    "df.head()"
   ]
  },
  {
   "cell_type": "code",
   "execution_count": 3,
   "metadata": {
    "scrolled": true
   },
   "outputs": [
    {
     "data": {
      "text/plain": [
       "SCALIA       94\n",
       "GINSBURG     89\n",
       "THOMAS       87\n",
       "KENNEDY      86\n",
       "BREYER       85\n",
       "STEVENS      79\n",
       "SOUTER       77\n",
       "O'CONNOR     52\n",
       "REHNQUIST    49\n",
       "ROBERTS      38\n",
       "ALITO        32\n",
       "Name: authorship, dtype: int64"
      ]
     },
     "execution_count": 3,
     "metadata": {},
     "output_type": "execute_result"
    }
   ],
   "source": [
    "df = df.assign(authorship_id=(df['authorship']).astype('category').cat.codes)\n",
    "df['authorship'].value_counts() "
   ]
  },
  {
   "cell_type": "code",
   "execution_count": 4,
   "metadata": {},
   "outputs": [
    {
     "data": {
      "text/plain": [
       "array([[<AxesSubplot:title={'center':'year'}>,\n",
       "        <AxesSubplot:title={'center':'log_cite_count'}>]], dtype=object)"
      ]
     },
     "execution_count": 4,
     "metadata": {},
     "output_type": "execute_result"
    },
    {
     "data": {
      "image/png": "[encoded data removed]",
      "text/plain": [
       "<Figure size 432x288 with 2 Axes>"
      ]
     },
     "metadata": {
      "needs_background": "light"
     },
     "output_type": "display_data"
    }
   ],
   "source": [
    "df[['year','log_cite_count']].hist()"
   ]
  },
  {
   "cell_type": "code",
   "execution_count": 34,
   "metadata": {},
   "outputs": [
    {
     "name": "stdout",
     "output_type": "stream",
     "text": [
      "['act', 'congress', 'district', 'state']\n"
     ]
    },
    {
     "data": {
      "text/plain": [
       "<768x4 sparse matrix of type '<class 'numpy.int64'>'\n",
       "\twith 2534 stored elements in Compressed Sparse Row format>"
      ]
     },
     "execution_count": 34,
     "metadata": {},
     "output_type": "execute_result"
    }
   ],
   "source": [
    "from sklearn.feature_extraction.text import CountVectorizer\n",
    "vectorizer = CountVectorizer(min_df=0.01, # at min 1% of docs\n",
    "                        max_df=.9,  \n",
    "                        max_features=4,\n",
    "                        stop_words='english',\n",
    "                        ngram_range=(1,3))\n",
    "X = vectorizer.fit_transform(df['opinion_text'])\n",
    "words = vectorizer.get_feature_names()\n",
    "print(words)\n",
    "X"
   ]
  },
  {
   "cell_type": "code",
   "execution_count": 35,
   "metadata": {},
   "outputs": [
    {
     "data": {
      "text/html": [
       "<div>\n",
       "<style scoped>\n",
       "    .dataframe tbody tr th:only-of-type {\n",
       "        vertical-align: middle;\n",
       "    }\n",
       "\n",
       "    .dataframe tbody tr th {\n",
       "        vertical-align: top;\n",
       "    }\n",
       "\n",
       "    .dataframe thead th {\n",
       "        text-align: right;\n",
       "    }\n",
       "</style>\n",
       "<table border=\"1\" class=\"dataframe\">\n",
       "  <thead>\n",
       "    <tr style=\"text-align: right;\">\n",
       "      <th></th>\n",
       "      <th>case_name</th>\n",
       "      <th>opinion_type</th>\n",
       "      <th>date_standard</th>\n",
       "      <th>authorship</th>\n",
       "      <th>x_republican</th>\n",
       "      <th>maj_judges</th>\n",
       "      <th>dissent_judges</th>\n",
       "      <th>topic_id</th>\n",
       "      <th>cite_count</th>\n",
       "      <th>opinion_text</th>\n",
       "      <th>year</th>\n",
       "      <th>log_cite_count</th>\n",
       "      <th>authorship_id</th>\n",
       "      <th>x_act</th>\n",
       "      <th>x_congress</th>\n",
       "      <th>x_district</th>\n",
       "      <th>x_state</th>\n",
       "    </tr>\n",
       "  </thead>\n",
       "  <tbody>\n",
       "    <tr>\n",
       "      <th>0</th>\n",
       "      <td>ERICK CORNELL CLAY v. UNITED STATES</td>\n",
       "      <td>majority</td>\n",
       "      <td>2003-03-04</td>\n",
       "      <td>GINSBURG</td>\n",
       "      <td>0.0</td>\n",
       "      <td>['BREYER, STEPHEN', 'GINSBURG, RUTH', 'KENNEDY...</td>\n",
       "      <td>[]</td>\n",
       "      <td>1.0</td>\n",
       "      <td>2926.0</td>\n",
       "      <td>JUSTICE GINSBURG delivered the opinion of the ...</td>\n",
       "      <td>2003</td>\n",
       "      <td>7.981392</td>\n",
       "      <td>2</td>\n",
       "      <td>0.193548</td>\n",
       "      <td>0.225806</td>\n",
       "      <td>0.161290</td>\n",
       "      <td>0.419355</td>\n",
       "    </tr>\n",
       "    <tr>\n",
       "      <th>1</th>\n",
       "      <td>HILLSIDE DAIRY INC., A&amp;A DAIRY, L&amp;S DAIRY, AND...</td>\n",
       "      <td>majority</td>\n",
       "      <td>2003-06-09</td>\n",
       "      <td>STEVENS</td>\n",
       "      <td>1.0</td>\n",
       "      <td>['BREYER, STEPHEN', 'GINSBURG, RUTH', 'KENNEDY...</td>\n",
       "      <td>['THOMAS, CLARENCE']</td>\n",
       "      <td>8.0</td>\n",
       "      <td>117.0</td>\n",
       "      <td>Justice Stevens delivered the opinion of the C...</td>\n",
       "      <td>2003</td>\n",
       "      <td>4.762174</td>\n",
       "      <td>9</td>\n",
       "      <td>0.261905</td>\n",
       "      <td>0.095238</td>\n",
       "      <td>0.047619</td>\n",
       "      <td>0.595238</td>\n",
       "    </tr>\n",
       "    <tr>\n",
       "      <th>2</th>\n",
       "      <td>CHARLES RUSSELL RHINES v. DOUGLAS WEBER, WARDEN</td>\n",
       "      <td>majority</td>\n",
       "      <td>2005-03-30</td>\n",
       "      <td>O'CONNOR</td>\n",
       "      <td>1.0</td>\n",
       "      <td>['BREYER, STEPHEN', 'GINSBURG, RUTH', 'KENNEDY...</td>\n",
       "      <td>[]</td>\n",
       "      <td>1.0</td>\n",
       "      <td>23364.0</td>\n",
       "      <td>Justice O'Connor delivered the opinion of the ...</td>\n",
       "      <td>2005</td>\n",
       "      <td>10.058952</td>\n",
       "      <td>4</td>\n",
       "      <td>0.012821</td>\n",
       "      <td>0.025641</td>\n",
       "      <td>0.461538</td>\n",
       "      <td>0.500000</td>\n",
       "    </tr>\n",
       "    <tr>\n",
       "      <th>3</th>\n",
       "      <td>STATE OF ALASKA v. UNITED STATES OF AMERICA</td>\n",
       "      <td>majority</td>\n",
       "      <td>2005-06-06</td>\n",
       "      <td>KENNEDY</td>\n",
       "      <td>1.0</td>\n",
       "      <td>['BREYER, STEPHEN', 'GINSBURG, RUTH', 'KENNEDY...</td>\n",
       "      <td>['REHNQUIST, WILLIAM', 'SCALIA, ANTONIN', 'THO...</td>\n",
       "      <td>10.0</td>\n",
       "      <td>84.0</td>\n",
       "      <td>Justice Kennedy delivered the opinion of the C...</td>\n",
       "      <td>2005</td>\n",
       "      <td>4.430817</td>\n",
       "      <td>3</td>\n",
       "      <td>0.322581</td>\n",
       "      <td>0.129032</td>\n",
       "      <td>0.000000</td>\n",
       "      <td>0.548387</td>\n",
       "    </tr>\n",
       "    <tr>\n",
       "      <th>4</th>\n",
       "      <td>REGINALD A. WILKINSON, DIRECTOR, OHIO DEPARTME...</td>\n",
       "      <td>majority</td>\n",
       "      <td>2005-06-13</td>\n",
       "      <td>KENNEDY</td>\n",
       "      <td>1.0</td>\n",
       "      <td>['BREYER, STEPHEN', 'GINSBURG, RUTH', 'KENNEDY...</td>\n",
       "      <td>[]</td>\n",
       "      <td>4.0</td>\n",
       "      <td>4230.0</td>\n",
       "      <td>Justice Kennedy delivered the opinion of the C...</td>\n",
       "      <td>2005</td>\n",
       "      <td>8.349957</td>\n",
       "      <td>3</td>\n",
       "      <td>0.019231</td>\n",
       "      <td>0.000000</td>\n",
       "      <td>0.596154</td>\n",
       "      <td>0.384615</td>\n",
       "    </tr>\n",
       "    <tr>\n",
       "      <th>...</th>\n",
       "      <td>...</td>\n",
       "      <td>...</td>\n",
       "      <td>...</td>\n",
       "      <td>...</td>\n",
       "      <td>...</td>\n",
       "      <td>...</td>\n",
       "      <td>...</td>\n",
       "      <td>...</td>\n",
       "      <td>...</td>\n",
       "      <td>...</td>\n",
       "      <td>...</td>\n",
       "      <td>...</td>\n",
       "      <td>...</td>\n",
       "      <td>...</td>\n",
       "      <td>...</td>\n",
       "      <td>...</td>\n",
       "      <td>...</td>\n",
       "    </tr>\n",
       "    <tr>\n",
       "      <th>763</th>\n",
       "      <td>MICHAEL F. EASLEY, * GOVERNOR OF NORTH CAROLIN...</td>\n",
       "      <td>majority</td>\n",
       "      <td>2001-04-18</td>\n",
       "      <td>BREYER</td>\n",
       "      <td>0.0</td>\n",
       "      <td>['BREYER, STEPHEN', 'GINSBURG, RUTH', \"O'CONNO...</td>\n",
       "      <td>['KENNEDY, ANTHONY', 'REHNQUIST, WILLIAM', 'SC...</td>\n",
       "      <td>2.0</td>\n",
       "      <td>1236.0</td>\n",
       "      <td>JUSTICE BREYER delivered the opinion of the Co...</td>\n",
       "      <td>2001</td>\n",
       "      <td>7.119636</td>\n",
       "      <td>1</td>\n",
       "      <td>0.000000</td>\n",
       "      <td>0.000000</td>\n",
       "      <td>0.928994</td>\n",
       "      <td>0.071006</td>\n",
       "    </tr>\n",
       "    <tr>\n",
       "      <th>764</th>\n",
       "      <td>GAIL ATWATER, et al. v. CITY OF LAGO VISTA et al.</td>\n",
       "      <td>majority</td>\n",
       "      <td>2001-04-24</td>\n",
       "      <td>SOUTER</td>\n",
       "      <td>1.0</td>\n",
       "      <td>['KENNEDY, ANTHONY', 'REHNQUIST, WILLIAM', 'SC...</td>\n",
       "      <td>['BREYER, STEPHEN', 'GINSBURG, RUTH', \"O'CONNO...</td>\n",
       "      <td>1.0</td>\n",
       "      <td>3120.0</td>\n",
       "      <td>JUSTICE SOUTER delivered the opinion of the Co...</td>\n",
       "      <td>2001</td>\n",
       "      <td>8.045588</td>\n",
       "      <td>8</td>\n",
       "      <td>0.292308</td>\n",
       "      <td>0.046154</td>\n",
       "      <td>0.092308</td>\n",
       "      <td>0.569231</td>\n",
       "    </tr>\n",
       "    <tr>\n",
       "      <th>765</th>\n",
       "      <td>JAMES ALEXANDER, DIRECTOR, ALABAMA DEPARTMENT ...</td>\n",
       "      <td>majority</td>\n",
       "      <td>2001-04-24</td>\n",
       "      <td>SCALIA</td>\n",
       "      <td>1.0</td>\n",
       "      <td>['KENNEDY, ANTHONY', \"O'CONNOR, SANDRA\", 'REHN...</td>\n",
       "      <td>['BREYER, STEPHEN', 'GINSBURG, RUTH', 'SOUTER,...</td>\n",
       "      <td>9.0</td>\n",
       "      <td>4986.0</td>\n",
       "      <td>JUSTICE SCALIA delivered the opinion of the Co...</td>\n",
       "      <td>2001</td>\n",
       "      <td>8.514389</td>\n",
       "      <td>7</td>\n",
       "      <td>0.279070</td>\n",
       "      <td>0.465116</td>\n",
       "      <td>0.093023</td>\n",
       "      <td>0.162791</td>\n",
       "    </tr>\n",
       "    <tr>\n",
       "      <th>766</th>\n",
       "      <td>UNITED STATES v. OAKLAND CANNABIS BUYERS' COOP...</td>\n",
       "      <td>majority</td>\n",
       "      <td>2001-05-14</td>\n",
       "      <td>THOMAS</td>\n",
       "      <td>1.0</td>\n",
       "      <td>['BREYER, STEPHEN', 'GINSBURG, RUTH', 'KENNEDY...</td>\n",
       "      <td>[]</td>\n",
       "      <td>1.0</td>\n",
       "      <td>736.0</td>\n",
       "      <td>JUSTICE THOMAS delivered the opinion of the Co...</td>\n",
       "      <td>2001</td>\n",
       "      <td>6.601230</td>\n",
       "      <td>10</td>\n",
       "      <td>0.312500</td>\n",
       "      <td>0.260417</td>\n",
       "      <td>0.427083</td>\n",
       "      <td>0.000000</td>\n",
       "    </tr>\n",
       "    <tr>\n",
       "      <th>767</th>\n",
       "      <td>WILBERT K. ROGERS v. TENNESSEE</td>\n",
       "      <td>majority</td>\n",
       "      <td>2001-05-14</td>\n",
       "      <td>O'CONNOR</td>\n",
       "      <td>1.0</td>\n",
       "      <td>['GINSBURG, RUTH', 'KENNEDY, ANTHONY', \"O'CONN...</td>\n",
       "      <td>['BREYER, STEPHEN', 'SCALIA, ANTONIN', 'STEVEN...</td>\n",
       "      <td>4.0</td>\n",
       "      <td>2100.0</td>\n",
       "      <td>JUSTICE O'CONNOR delivered the opinion of the ...</td>\n",
       "      <td>2001</td>\n",
       "      <td>7.649693</td>\n",
       "      <td>4</td>\n",
       "      <td>0.324324</td>\n",
       "      <td>0.000000</td>\n",
       "      <td>0.000000</td>\n",
       "      <td>0.675676</td>\n",
       "    </tr>\n",
       "  </tbody>\n",
       "</table>\n",
       "<p>768 rows × 17 columns</p>\n",
       "</div>"
      ],
      "text/plain": [
       "                                             case_name opinion_type  \\\n",
       "0                  ERICK CORNELL CLAY v. UNITED STATES     majority   \n",
       "1    HILLSIDE DAIRY INC., A&A DAIRY, L&S DAIRY, AND...     majority   \n",
       "2      CHARLES RUSSELL RHINES v. DOUGLAS WEBER, WARDEN     majority   \n",
       "3          STATE OF ALASKA v. UNITED STATES OF AMERICA     majority   \n",
       "4    REGINALD A. WILKINSON, DIRECTOR, OHIO DEPARTME...     majority   \n",
       "..                                                 ...          ...   \n",
       "763  MICHAEL F. EASLEY, * GOVERNOR OF NORTH CAROLIN...     majority   \n",
       "764  GAIL ATWATER, et al. v. CITY OF LAGO VISTA et al.     majority   \n",
       "765  JAMES ALEXANDER, DIRECTOR, ALABAMA DEPARTMENT ...     majority   \n",
       "766  UNITED STATES v. OAKLAND CANNABIS BUYERS' COOP...     majority   \n",
       "767                     WILBERT K. ROGERS v. TENNESSEE     majority   \n",
       "\n",
       "    date_standard authorship  x_republican  \\\n",
       "0      2003-03-04   GINSBURG           0.0   \n",
       "1      2003-06-09    STEVENS           1.0   \n",
       "2      2005-03-30   O'CONNOR           1.0   \n",
       "3      2005-06-06    KENNEDY           1.0   \n",
       "4      2005-06-13    KENNEDY           1.0   \n",
       "..            ...        ...           ...   \n",
       "763    2001-04-18     BREYER           0.0   \n",
       "764    2001-04-24     SOUTER           1.0   \n",
       "765    2001-04-24     SCALIA           1.0   \n",
       "766    2001-05-14     THOMAS           1.0   \n",
       "767    2001-05-14   O'CONNOR           1.0   \n",
       "\n",
       "                                            maj_judges  \\\n",
       "0    ['BREYER, STEPHEN', 'GINSBURG, RUTH', 'KENNEDY...   \n",
       "1    ['BREYER, STEPHEN', 'GINSBURG, RUTH', 'KENNEDY...   \n",
       "2    ['BREYER, STEPHEN', 'GINSBURG, RUTH', 'KENNEDY...   \n",
       "3    ['BREYER, STEPHEN', 'GINSBURG, RUTH', 'KENNEDY...   \n",
       "4    ['BREYER, STEPHEN', 'GINSBURG, RUTH', 'KENNEDY...   \n",
       "..                                                 ...   \n",
       "763  ['BREYER, STEPHEN', 'GINSBURG, RUTH', \"O'CONNO...   \n",
       "764  ['KENNEDY, ANTHONY', 'REHNQUIST, WILLIAM', 'SC...   \n",
       "765  ['KENNEDY, ANTHONY', \"O'CONNOR, SANDRA\", 'REHN...   \n",
       "766  ['BREYER, STEPHEN', 'GINSBURG, RUTH', 'KENNEDY...   \n",
       "767  ['GINSBURG, RUTH', 'KENNEDY, ANTHONY', \"O'CONN...   \n",
       "\n",
       "                                        dissent_judges  topic_id  cite_count  \\\n",
       "0                                                   []       1.0      2926.0   \n",
       "1                                 ['THOMAS, CLARENCE']       8.0       117.0   \n",
       "2                                                   []       1.0     23364.0   \n",
       "3    ['REHNQUIST, WILLIAM', 'SCALIA, ANTONIN', 'THO...      10.0        84.0   \n",
       "4                                                   []       4.0      4230.0   \n",
       "..                                                 ...       ...         ...   \n",
       "763  ['KENNEDY, ANTHONY', 'REHNQUIST, WILLIAM', 'SC...       2.0      1236.0   \n",
       "764  ['BREYER, STEPHEN', 'GINSBURG, RUTH', \"O'CONNO...       1.0      3120.0   \n",
       "765  ['BREYER, STEPHEN', 'GINSBURG, RUTH', 'SOUTER,...       9.0      4986.0   \n",
       "766                                                 []       1.0       736.0   \n",
       "767  ['BREYER, STEPHEN', 'SCALIA, ANTONIN', 'STEVEN...       4.0      2100.0   \n",
       "\n",
       "                                          opinion_text  year  log_cite_count  \\\n",
       "0    JUSTICE GINSBURG delivered the opinion of the ...  2003        7.981392   \n",
       "1    Justice Stevens delivered the opinion of the C...  2003        4.762174   \n",
       "2    Justice O'Connor delivered the opinion of the ...  2005       10.058952   \n",
       "3    Justice Kennedy delivered the opinion of the C...  2005        4.430817   \n",
       "4    Justice Kennedy delivered the opinion of the C...  2005        8.349957   \n",
       "..                                                 ...   ...             ...   \n",
       "763  JUSTICE BREYER delivered the opinion of the Co...  2001        7.119636   \n",
       "764  JUSTICE SOUTER delivered the opinion of the Co...  2001        8.045588   \n",
       "765  JUSTICE SCALIA delivered the opinion of the Co...  2001        8.514389   \n",
       "766  JUSTICE THOMAS delivered the opinion of the Co...  2001        6.601230   \n",
       "767  JUSTICE O'CONNOR delivered the opinion of the ...  2001        7.649693   \n",
       "\n",
       "     authorship_id     x_act  x_congress  x_district   x_state  \n",
       "0                2  0.193548    0.225806    0.161290  0.419355  \n",
       "1                9  0.261905    0.095238    0.047619  0.595238  \n",
       "2                4  0.012821    0.025641    0.461538  0.500000  \n",
       "3                3  0.322581    0.129032    0.000000  0.548387  \n",
       "4                3  0.019231    0.000000    0.596154  0.384615  \n",
       "..             ...       ...         ...         ...       ...  \n",
       "763              1  0.000000    0.000000    0.928994  0.071006  \n",
       "764              8  0.292308    0.046154    0.092308  0.569231  \n",
       "765              7  0.279070    0.465116    0.093023  0.162791  \n",
       "766             10  0.312500    0.260417    0.427083  0.000000  \n",
       "767              4  0.324324    0.000000    0.000000  0.675676  \n",
       "\n",
       "[768 rows x 17 columns]"
      ]
     },
     "execution_count": 35,
     "metadata": {},
     "output_type": "execute_result"
    }
   ],
   "source": [
    "X = X.todense()\n",
    "X = X / X.sum(axis=1) # counts to frequencies\n",
    "for i, word in enumerate(words):\n",
    "    column = X[:,i]\n",
    "    df['x_'+word] = column\n",
    "df"
   ]
  },
  {
   "cell_type": "code",
   "execution_count": 36,
   "metadata": {},
   "outputs": [
    {
     "name": "stdout",
     "output_type": "stream",
     "text": [
      "['act', 'congress', 'district', 'state']\n"
     ]
    },
    {
     "data": {
      "text/plain": [
       "<768x4 sparse matrix of type '<class 'numpy.int64'>'\n",
       "\twith 2534 stored elements in Compressed Sparse Row format>"
      ]
     },
     "execution_count": 36,
     "metadata": {},
     "output_type": "execute_result"
    }
   ],
   "source": [
    "from sklearn.feature_extraction.text import CountVectorizer\n",
    "vectorizer = CountVectorizer(min_df=0.01, # at min 1% of docs\n",
    "                        max_df=.9,  \n",
    "                        max_features=4,\n",
    "                        stop_words='english',\n",
    "                        ngram_range=(1,3))\n",
    "X = vectorizer.fit_transform(df['opinion_text'])\n",
    "words = vectorizer.get_feature_names()\n",
    "print(words)\n",
    "X"
   ]
  },
  {
   "cell_type": "code",
   "execution_count": 37,
   "metadata": {},
   "outputs": [
    {
     "data": {
      "text/plain": [
       "log_cite_count    1.000000\n",
       "x_state           0.153254\n",
       "x_district        0.111862\n",
       "x_congress       -0.137626\n",
       "x_act            -0.237354\n",
       "Name: log_cite_count, dtype: float64"
      ]
     },
     "execution_count": 37,
     "metadata": {},
     "output_type": "execute_result"
    }
   ],
   "source": [
    "# inspecting data\n",
    "import numpy as np\n",
    "features = ['x_'+x for x in words]\n",
    "cites_features = ['log_cite_count'] + features\n",
    "df2 = df[cites_features]\n",
    "corr_matrix = df2.corr()\n",
    "corr_matrix['log_cite_count'].sort_values(ascending=False)"
   ]
  },
  {
   "cell_type": "code",
   "execution_count": 38,
   "metadata": {},
   "outputs": [
    {
     "data": {
      "text/plain": [
       "array([[<AxesSubplot:xlabel='log_cite_count', ylabel='log_cite_count'>,\n",
       "        <AxesSubplot:xlabel='x_act', ylabel='log_cite_count'>,\n",
       "        <AxesSubplot:xlabel='x_congress', ylabel='log_cite_count'>,\n",
       "        <AxesSubplot:xlabel='x_district', ylabel='log_cite_count'>,\n",
       "        <AxesSubplot:xlabel='x_state', ylabel='log_cite_count'>],\n",
       "       [<AxesSubplot:xlabel='log_cite_count', ylabel='x_act'>,\n",
       "        <AxesSubplot:xlabel='x_act', ylabel='x_act'>,\n",
       "        <AxesSubplot:xlabel='x_congress', ylabel='x_act'>,\n",
       "        <AxesSubplot:xlabel='x_district', ylabel='x_act'>,\n",
       "        <AxesSubplot:xlabel='x_state', ylabel='x_act'>],\n",
       "       [<AxesSubplot:xlabel='log_cite_count', ylabel='x_congress'>,\n",
       "        <AxesSubplot:xlabel='x_act', ylabel='x_congress'>,\n",
       "        <AxesSubplot:xlabel='x_congress', ylabel='x_congress'>,\n",
       "        <AxesSubplot:xlabel='x_district', ylabel='x_congress'>,\n",
       "        <AxesSubplot:xlabel='x_state', ylabel='x_congress'>],\n",
       "       [<AxesSubplot:xlabel='log_cite_count', ylabel='x_district'>,\n",
       "        <AxesSubplot:xlabel='x_act', ylabel='x_district'>,\n",
       "        <AxesSubplot:xlabel='x_congress', ylabel='x_district'>,\n",
       "        <AxesSubplot:xlabel='x_district', ylabel='x_district'>,\n",
       "        <AxesSubplot:xlabel='x_state', ylabel='x_district'>],\n",
       "       [<AxesSubplot:xlabel='log_cite_count', ylabel='x_state'>,\n",
       "        <AxesSubplot:xlabel='x_act', ylabel='x_state'>,\n",
       "        <AxesSubplot:xlabel='x_congress', ylabel='x_state'>,\n",
       "        <AxesSubplot:xlabel='x_district', ylabel='x_state'>,\n",
       "        <AxesSubplot:xlabel='x_state', ylabel='x_state'>]], dtype=object)"
      ]
     },
     "execution_count": 38,
     "metadata": {},
     "output_type": "execute_result"
    },
    {
     "data": {
      "image/png": "[encoded data removed]",
      "text/plain": [
       "<Figure size 432x288 with 25 Axes>"
      ]
     },
     "metadata": {
      "needs_background": "light"
     },
     "output_type": "display_data"
    }
   ],
   "source": [
    "from pandas.plotting import scatter_matrix\n",
    "scatter_matrix(df2)"
   ]
  },
  {
   "cell_type": "code",
   "execution_count": 39,
   "metadata": {},
   "outputs": [
    {
     "data": {
      "text/plain": [
       "<AxesSubplot:xlabel='x_act', ylabel='log_cite_count'>"
      ]
     },
     "execution_count": 39,
     "metadata": {},
     "output_type": "execute_result"
    },
    {
     "data": {
      "image/png": "[encoded data removed]",
      "text/plain": [
       "<Figure size 432x288 with 1 Axes>"
      ]
     },
     "metadata": {
      "needs_background": "light"
     },
     "output_type": "display_data"
    }
   ],
   "source": [
    "df2.plot(kind='scatter', x='x_act', y='log_cite_count', alpha = 0.1)"
   ]
  },
  {
   "cell_type": "markdown",
   "metadata": {},
   "source": [
    "# Regression"
   ]
  },
  {
   "cell_type": "code",
   "execution_count": 40,
   "metadata": {},
   "outputs": [],
   "source": [
    "# create a test set \n",
    "from sklearn.model_selection import train_test_split\n",
    "train, test = train_test_split(df2, test_size=0.2)"
   ]
  },
  {
   "cell_type": "code",
   "execution_count": 41,
   "metadata": {},
   "outputs": [
    {
     "data": {
      "text/html": [
       "<div>\n",
       "<style scoped>\n",
       "    .dataframe tbody tr th:only-of-type {\n",
       "        vertical-align: middle;\n",
       "    }\n",
       "\n",
       "    .dataframe tbody tr th {\n",
       "        vertical-align: top;\n",
       "    }\n",
       "\n",
       "    .dataframe thead th {\n",
       "        text-align: right;\n",
       "    }\n",
       "</style>\n",
       "<table border=\"1\" class=\"dataframe\">\n",
       "  <thead>\n",
       "    <tr style=\"text-align: right;\">\n",
       "      <th></th>\n",
       "      <th>x_act</th>\n",
       "      <th>x_congress</th>\n",
       "      <th>x_district</th>\n",
       "      <th>x_state</th>\n",
       "    </tr>\n",
       "  </thead>\n",
       "  <tbody>\n",
       "    <tr>\n",
       "      <th>272</th>\n",
       "      <td>0.000000</td>\n",
       "      <td>0.000000</td>\n",
       "      <td>0.000000</td>\n",
       "      <td>1.000000</td>\n",
       "    </tr>\n",
       "    <tr>\n",
       "      <th>350</th>\n",
       "      <td>0.054054</td>\n",
       "      <td>0.000000</td>\n",
       "      <td>0.324324</td>\n",
       "      <td>0.621622</td>\n",
       "    </tr>\n",
       "    <tr>\n",
       "      <th>446</th>\n",
       "      <td>0.000000</td>\n",
       "      <td>0.000000</td>\n",
       "      <td>0.000000</td>\n",
       "      <td>1.000000</td>\n",
       "    </tr>\n",
       "    <tr>\n",
       "      <th>140</th>\n",
       "      <td>0.111111</td>\n",
       "      <td>0.222222</td>\n",
       "      <td>0.000000</td>\n",
       "      <td>0.666667</td>\n",
       "    </tr>\n",
       "    <tr>\n",
       "      <th>727</th>\n",
       "      <td>0.250000</td>\n",
       "      <td>0.250000</td>\n",
       "      <td>0.500000</td>\n",
       "      <td>0.000000</td>\n",
       "    </tr>\n",
       "  </tbody>\n",
       "</table>\n",
       "</div>"
      ],
      "text/plain": [
       "        x_act  x_congress  x_district   x_state\n",
       "272  0.000000    0.000000    0.000000  1.000000\n",
       "350  0.054054    0.000000    0.324324  0.621622\n",
       "446  0.000000    0.000000    0.000000  1.000000\n",
       "140  0.111111    0.222222    0.000000  0.666667\n",
       "727  0.250000    0.250000    0.500000  0.000000"
      ]
     },
     "execution_count": 41,
     "metadata": {},
     "output_type": "execute_result"
    }
   ],
   "source": [
    "Xtrain = train[features]\n",
    "Ytrain = train['log_cite_count']\n",
    "Xtrain.head()"
   ]
  },
  {
   "cell_type": "code",
   "execution_count": 42,
   "metadata": {},
   "outputs": [
    {
     "data": {
      "text/plain": [
       "272    7.303170\n",
       "350    5.799093\n",
       "446    5.961005\n",
       "140    9.757826\n",
       "727    6.030685\n",
       "Name: log_cite_count, dtype: float64"
      ]
     },
     "execution_count": 42,
     "metadata": {},
     "output_type": "execute_result"
    }
   ],
   "source": [
    "Ytrain.head()"
   ]
  },
  {
   "cell_type": "code",
   "execution_count": 43,
   "metadata": {},
   "outputs": [
    {
     "data": {
      "text/plain": [
       "array([1.85928702e+14, 1.85928702e+14, 1.85928702e+14, 1.85928702e+14])"
      ]
     },
     "execution_count": 43,
     "metadata": {},
     "output_type": "execute_result"
    }
   ],
   "source": [
    "# our first machine learning model\n",
    "from sklearn.linear_model import LinearRegression\n",
    "lin_reg = LinearRegression()\n",
    "\n",
    "lin_reg.fit(Xtrain, Ytrain)\n",
    "lin_reg.coef_ "
   ]
  },
  {
   "cell_type": "code",
   "execution_count": 44,
   "metadata": {},
   "outputs": [
    {
     "data": {
      "text/plain": [
       "2.257675648871887"
      ]
     },
     "execution_count": 44,
     "metadata": {},
     "output_type": "execute_result"
    }
   ],
   "source": [
    "# in-sample performance\n",
    "from sklearn.metrics import mean_squared_error\n",
    "Ytrain_pred = lin_reg.predict(Xtrain)        \n",
    "train_mse = mean_squared_error(Ytrain,Ytrain_pred)\n",
    "train_mse"
   ]
  },
  {
   "cell_type": "code",
   "execution_count": 45,
   "metadata": {},
   "outputs": [
    {
     "data": {
      "text/plain": [
       "1.7056736908073835"
      ]
     },
     "execution_count": 45,
     "metadata": {},
     "output_type": "execute_result"
    }
   ],
   "source": [
    "# out-of-sample performance\n",
    "Xtest = test[features]\n",
    "Ytest = test['log_cite_count']\n",
    "Ytest_pred = lin_reg.predict(Xtest)        \n",
    "test_mse = mean_squared_error(Ytest,Ytest_pred)\n",
    "test_mse"
   ]
  },
  {
   "cell_type": "code",
   "execution_count": 46,
   "metadata": {},
   "outputs": [
    {
     "data": {
      "text/plain": [
       "<seaborn.axisgrid.JointGrid at 0x7ff468795ac0>"
      ]
     },
     "execution_count": 46,
     "metadata": {},
     "output_type": "execute_result"
    },
    {
     "data": {
      "image/png": "[encoded data removed]",
      "text/plain": [
       "<Figure size 432x432 with 3 Axes>"
      ]
     },
     "metadata": {
      "needs_background": "light"
     },
     "output_type": "display_data"
    }
   ],
   "source": [
    "import seaborn as sns\n",
    "\n",
    "p = sns.jointplot(x=Ytest, y=Ytest_pred, kind='reg')\n",
    "p.set_axis_labels('Log Citations', 'Predicted Log Citations', fontsize=10)\n"
   ]
  },
  {
   "cell_type": "markdown",
   "metadata": {},
   "source": [
    "# Pipelines and Cross-Validation"
   ]
  },
  {
   "cell_type": "code",
   "execution_count": 47,
   "metadata": {},
   "outputs": [],
   "source": [
    "# missing values\n",
    "df['authorship_id'].fillna(0,inplace=True)"
   ]
  },
  {
   "cell_type": "code",
   "execution_count": 48,
   "metadata": {},
   "outputs": [],
   "source": [
    "# Scaling\n",
    "from sklearn.preprocessing import StandardScaler\n",
    "scaler = StandardScaler()\n",
    "X = scaler.fit_transform(df2)\n",
    "df2 = pd.DataFrame(X,columns=df2.columns)"
   ]
  },
  {
   "cell_type": "code",
   "execution_count": 49,
   "metadata": {},
   "outputs": [
    {
     "data": {
      "text/plain": [
       "array([[ 0.4273395 , -0.10042156,  0.26583686, -0.25620003,  0.08875597],\n",
       "       [-1.69574977,  0.2303693 , -0.38976878, -0.73332927,  0.62993863],\n",
       "       [ 1.7975002 , -0.97500173, -0.73922735,  1.00407587,  0.33689649],\n",
       "       ...,\n",
       "       [ 0.778854  ,  0.31343437,  1.46745168, -0.54274748, -0.70067715],\n",
       "       [-0.48288351,  0.47521029,  0.43962056,  0.85945227, -1.20157476],\n",
       "       [ 0.20858247,  0.53243068, -0.86797524, -0.93320774,  0.87744045]])"
      ]
     },
     "execution_count": 49,
     "metadata": {},
     "output_type": "execute_result"
    }
   ],
   "source": [
    "X"
   ]
  },
  {
   "cell_type": "code",
   "execution_count": 50,
   "metadata": {},
   "outputs": [],
   "source": [
    "# Encoding categorical variables\n",
    "from sklearn.preprocessing import OneHotEncoder\n",
    "encoder = OneHotEncoder()\n",
    "judge = df['authorship_id']\n",
    "judge_fes = encoder.fit_transform(judge.values.reshape(-1,1))\n",
    "judge_ids = ['j_'+str(x) for x in range(len(judge.unique()))]\n",
    "judge_fes = pd.DataFrame(judge_fes.todense(),columns=judge_ids)\n",
    "df = pd.concat([df,judge_fes],axis=1)\n",
    "train, test = train_test_split(df, test_size=0.2)"
   ]
  },
  {
   "cell_type": "code",
   "execution_count": 51,
   "metadata": {},
   "outputs": [],
   "source": [
    "# Encoding categorical variables\n",
    "from sklearn.preprocessing import OneHotEncoder\n",
    "encoder = OneHotEncoder()\n",
    "judge = df['authorship_id']\n",
    "judge_fes = encoder.fit_transform(judge.values.reshape(-1,1))\n",
    "judge_ids = ['j_'+str(x) for x in range(len(judge.unique()))]\n",
    "judge_fes = pd.DataFrame(judge_fes.todense(),columns=judge_ids)\n",
    "df = pd.concat([df,judge_fes],axis=1)\n",
    "train, test = train_test_split(df, test_size=0.2)"
   ]
  },
  {
   "cell_type": "code",
   "execution_count": 52,
   "metadata": {},
   "outputs": [
    {
     "name": "stdout",
     "output_type": "stream",
     "text": [
      "0.093310137847516 0.030724743497671875\n"
     ]
    }
   ],
   "source": [
    "# Cross-validation\n",
    "from sklearn.ensemble import RandomForestRegressor\n",
    "forest_reg = RandomForestRegressor()\n",
    "\n",
    "from sklearn.model_selection import cross_val_score\n",
    "scores = cross_val_score(forest_reg,\n",
    "                         df[features],\n",
    "                         df['x_republican'],\n",
    "                         cv=3,\n",
    "                         n_jobs=-1)\n",
    "\n",
    "# the default score for random forest reg is negative MSE.\n",
    "print(np.abs(scores.mean()),scores.std())"
   ]
  },
  {
   "cell_type": "code",
   "execution_count": 53,
   "metadata": {},
   "outputs": [
    {
     "name": "stdout",
     "output_type": "stream",
     "text": [
      "{'bootstrap': True, 'max_features': 2, 'n_estimators': 30}\n",
      "0.09341235411244335\n"
     ]
    }
   ],
   "source": [
    "# Grid Search\n",
    "from sklearn.model_selection import GridSearchCV\n",
    "param_grid = {'n_estimators': [3, 10, 30],\n",
    "              'max_features': [2, 4],\n",
    "              'bootstrap': [True, False]}\n",
    "\n",
    "grid_search = GridSearchCV(forest_reg, \n",
    "                           param_grid, \n",
    "                           cv=3)              \n",
    "grid_search.fit(df[features],df['x_republican'])\n",
    "\n",
    "print(grid_search.best_params_)\n",
    "print(np.abs(grid_search.best_score_))"
   ]
  },
  {
   "cell_type": "code",
   "execution_count": 54,
   "metadata": {},
   "outputs": [
    {
     "name": "stdout",
     "output_type": "stream",
     "text": [
      "{'n_estimators': 30, 'max_features': 2, 'bootstrap': True}\n",
      "0.09085090275521852\n"
     ]
    }
   ],
   "source": [
    "from sklearn.model_selection import RandomizedSearchCV\n",
    "rand_search = RandomizedSearchCV(forest_reg, param_grid, cv=3)              \n",
    "rand_search.fit(df[features],df['x_republican'])\n",
    "\n",
    "print(rand_search.best_params_)\n",
    "print(np.abs(rand_search.best_score_))"
   ]
  },
  {
   "cell_type": "code",
   "execution_count": 55,
   "metadata": {},
   "outputs": [],
   "source": [
    "# Saving and loading\n",
    "import joblib\n",
    "joblib.dump(forest_reg,'forest_reg.pkl') # will overwrite local files\n",
    "forest_reg = joblib.load('forest_reg.pkl')"
   ]
  },
  {
   "cell_type": "code",
   "execution_count": 56,
   "metadata": {},
   "outputs": [],
   "source": [
    "from sklearn.pipeline import Pipeline\n",
    "from sklearn.feature_extraction.text import TfidfTransformer\n",
    "\n",
    "pipeline = Pipeline([\n",
    "    ('vect', CountVectorizer()),\n",
    "    ('tfidf', TfidfTransformer()),\n",
    "    ('forest_reg', RandomForestRegressor()),\n",
    "])\n",
    "\n",
    "parameters = {\n",
    "    'vect__max_df': (0.5, 0.75, 1.0),\n",
    "    'vect__max_features': (2, 4, 8, 16),\n",
    "    'forest_reg__n_estimators': [3, 10, 30],\n",
    "    'forest_reg__max_features': [2, 4],\n",
    "    'forest_reg__bootstrap': [True, False]}"
   ]
  },
  {
   "cell_type": "code",
   "execution_count": 57,
   "metadata": {},
   "outputs": [
    {
     "name": "stdout",
     "output_type": "stream",
     "text": [
      "Performing grid search...\n",
      "pipeline: ['vect', 'tfidf', 'forest_reg']\n",
      "parameters:\n",
      "{'forest_reg__bootstrap': [True, False],\n",
      " 'forest_reg__max_features': [2, 4],\n",
      " 'forest_reg__n_estimators': [3, 10, 30],\n",
      " 'vect__max_df': (0.5, 0.75, 1.0),\n",
      " 'vect__max_features': (2, 4, 8, 16)}\n",
      "Fitting 5 folds for each of 144 candidates, totalling 720 fits\n"
     ]
    },
    {
     "name": "stderr",
     "output_type": "stream",
     "text": [
      "[Parallel(n_jobs=-1)]: Using backend LokyBackend with 8 concurrent workers.\n",
      "[Parallel(n_jobs=-1)]: Done  34 tasks      | elapsed:   35.1s\n",
      "[Parallel(n_jobs=-1)]: Done 184 tasks      | elapsed:  2.9min\n",
      "[Parallel(n_jobs=-1)]: Done 434 tasks      | elapsed:  6.4min\n",
      "[Parallel(n_jobs=-1)]: Done 720 out of 720 | elapsed: 10.3min finished\n"
     ]
    },
    {
     "name": "stdout",
     "output_type": "stream",
     "text": [
      "done in 623.173s\n",
      "\n",
      "Best score: 0.193\n",
      "Best parameters set:\n",
      "\tforest_reg__bootstrap: True\n",
      "\tforest_reg__max_features: 4\n",
      "\tforest_reg__n_estimators: 30\n",
      "\tvect__max_df: 0.75\n",
      "\tvect__max_features: 16\n"
     ]
    }
   ],
   "source": [
    "from pprint import pprint\n",
    "from time import time\n",
    "\n",
    "if __name__ == \"__main__\":\n",
    "    # multiprocessing requires the fork to happen in a __main__ protected\n",
    "    # block\n",
    "\n",
    "    # find the best parameters for both the feature extraction and the\n",
    "    # classifier\n",
    "    grid_search = GridSearchCV(pipeline, parameters, n_jobs=-1, verbose=1)\n",
    "\n",
    "    print(\"Performing grid search...\")\n",
    "    print(\"pipeline:\", [name for name, _ in pipeline.steps])\n",
    "    print(\"parameters:\")\n",
    "    pprint(parameters)\n",
    "    t0 = time()\n",
    "    grid_search.fit(df.opinion_text, df.log_cite_count)\n",
    "    print(\"done in %0.3fs\" % (time() - t0))\n",
    "    print()\n",
    "\n",
    "    print(\"Best score: %0.3f\" % grid_search.best_score_)\n",
    "    print(\"Best parameters set:\")\n",
    "    best_parameters = grid_search.best_estimator_.get_params()\n",
    "    for param_name in sorted(parameters.keys()):\n",
    "        print(\"\\t%s: %r\" % (param_name, best_parameters[param_name]))"
   ]
  },
  {
   "cell_type": "markdown",
   "metadata": {},
   "source": [
    "## Nested Cross-Validation"
   ]
  },
  {
   "cell_type": "code",
   "execution_count": 58,
   "metadata": {},
   "outputs": [
    {
     "name": "stdout",
     "output_type": "stream",
     "text": [
      "Average difference of 0.011709 with std. dev. of 0.015881.\n"
     ]
    }
   ],
   "source": [
    "import numpy as np\n",
    "from sklearn.model_selection import KFold\n",
    "n = 30\n",
    "\n",
    "forest_reg = RandomForestRegressor()\n",
    "non_nested_scores = np.zeros(n)\n",
    "nested_scores = np.zeros(n)\n",
    "\n",
    "\n",
    "param_grid = {'n_estimators': [3, 10, 30],\n",
    "              'max_features': [2, 4],\n",
    "              'bootstrap': [True, False]}\n",
    "\n",
    "for i in range(n):\n",
    "\n",
    "    # Choose cross-validation techniques for the inner and outer loops,\n",
    "\n",
    "    inner_cv = KFold(n_splits=4, shuffle=True, random_state=i)\n",
    "    outer_cv = KFold(n_splits=4, shuffle=True, random_state=i)\n",
    "\n",
    "    # Non_nested parameter search and scoring\n",
    "    grid_search = GridSearchCV(estimator=forest_reg, param_grid=param_grid, cv=inner_cv)\n",
    "    grid_search.fit(Xtrain, Ytrain)\n",
    "    non_nested_scores[i] = grid_search.best_score_\n",
    "\n",
    "    # Nested CV with parameter optimization\n",
    "    nested_score = cross_val_score(grid_search, X=Xtrain, y=Ytrain, cv=outer_cv)\n",
    "    nested_scores[i] = nested_score.mean()\n",
    "\n",
    "score_difference = non_nested_scores - nested_scores\n",
    "print(\"Average difference of {:6f} with std. dev. of {:6f}.\"\n",
    "      .format(score_difference.mean(), score_difference.std()))\n"
   ]
  },
  {
   "cell_type": "markdown",
   "metadata": {},
   "source": [
    "# Regularization"
   ]
  },
  {
   "cell_type": "code",
   "execution_count": 59,
   "metadata": {},
   "outputs": [
    {
     "data": {
      "text/plain": [
       "0.5773143545019968"
      ]
     },
     "execution_count": 59,
     "metadata": {},
     "output_type": "execute_result"
    }
   ],
   "source": [
    "from sklearn.model_selection import cross_val_score\n",
    "import numpy as np\n",
    "from sklearn.linear_model import LinearRegression\n",
    "\n",
    "m = 100\n",
    "x = 6 * np.random.rand(m,1) - 3\n",
    "y = 0.5 * x ** 2 + x + 2 + np.random.randn(m,1)\n",
    "y = y.ravel()\n",
    "\n",
    "from sklearn.preprocessing import PolynomialFeatures\n",
    "poly_2 = PolynomialFeatures(degree=2) # also adds interactions\n",
    "X_poly_2 = poly_2.fit_transform(x)\n",
    "\n",
    "\n",
    "poly_300 = PolynomialFeatures(degree=300) \n",
    "X_poly_300 = poly_300.fit_transform(x)\n",
    "\n",
    "\n",
    "lin_reg = LinearRegression()\n",
    "cross_val_score(lin_reg, x, y, cv=3, n_jobs=3).mean()"
   ]
  },
  {
   "cell_type": "code",
   "execution_count": 60,
   "metadata": {},
   "outputs": [
    {
     "data": {
      "text/plain": [
       "0.8407310026642038"
      ]
     },
     "execution_count": 60,
     "metadata": {},
     "output_type": "execute_result"
    }
   ],
   "source": [
    "cross_val_score(lin_reg, X_poly_2, y, cv=3, n_jobs=3).mean()"
   ]
  },
  {
   "cell_type": "code",
   "execution_count": 61,
   "metadata": {},
   "outputs": [
    {
     "data": {
      "text/plain": [
       "-4.4005089867523604e+18"
      ]
     },
     "execution_count": 61,
     "metadata": {},
     "output_type": "execute_result"
    }
   ],
   "source": [
    "cross_val_score(lin_reg, X_poly_300, y, cv=3, n_jobs=3).mean()"
   ]
  },
  {
   "cell_type": "code",
   "execution_count": 62,
   "metadata": {},
   "outputs": [
    {
     "data": {
      "text/plain": [
       "0.5779820404048893"
      ]
     },
     "execution_count": 62,
     "metadata": {},
     "output_type": "execute_result"
    }
   ],
   "source": [
    "# Lasso\n",
    "from sklearn.linear_model import Lasso\n",
    "lasso_reg = Lasso(alpha=0.1)\n",
    "cross_val_score(lasso_reg,x,y).mean()"
   ]
  },
  {
   "cell_type": "code",
   "execution_count": 63,
   "metadata": {},
   "outputs": [
    {
     "data": {
      "text/plain": [
       "0.5766424837962091"
      ]
     },
     "execution_count": 63,
     "metadata": {},
     "output_type": "execute_result"
    }
   ],
   "source": [
    "# Ridge\n",
    "from sklearn.linear_model import Ridge, SGDRegressor\n",
    "ridge_reg = Ridge(alpha=1)\n",
    "cross_val_score(ridge_reg,x,y).mean()"
   ]
  },
  {
   "cell_type": "code",
   "execution_count": 64,
   "metadata": {},
   "outputs": [
    {
     "data": {
      "text/plain": [
       "(0.0001, 0.0001)"
      ]
     },
     "execution_count": 64,
     "metadata": {},
     "output_type": "execute_result"
    }
   ],
   "source": [
    "###\n",
    "# Elastic Net\n",
    "###\n",
    "from sklearn.linear_model import ElasticNetCV\n",
    "enet_reg = ElasticNetCV(alphas=[.0001, .001, .01,.1,1], \n",
    "                        l1_ratio=[.0001, .001, .01,.1,.5,.9, .99, 1])\n",
    "enet_reg.fit(x,y)\n",
    "enet_reg.alpha_, enet_reg.l1_ratio_"
   ]
  },
  {
   "cell_type": "code",
   "execution_count": 65,
   "metadata": {},
   "outputs": [
    {
     "data": {
      "text/plain": [
       "0.5764484127581562"
      ]
     },
     "execution_count": 65,
     "metadata": {},
     "output_type": "execute_result"
    }
   ],
   "source": [
    "cross_val_score(enet_reg,x,y).mean()"
   ]
  },
  {
   "cell_type": "code",
   "execution_count": 66,
   "metadata": {},
   "outputs": [
    {
     "name": "stdout",
     "output_type": "stream",
     "text": [
      "5 non-zero of 5 coefficients.\n"
     ]
    },
    {
     "data": {
      "text/plain": [
       "0.009194244568332843"
      ]
     },
     "execution_count": 66,
     "metadata": {},
     "output_type": "execute_result"
    }
   ],
   "source": [
    "scaler = StandardScaler()\n",
    "Xscale = scaler.fit_transform(X)\n",
    "from sklearn.linear_model import ElasticNet\n",
    "enet_reg = ElasticNet(alpha=.1, l1_ratio=.0001)\n",
    "enet_reg.fit(Xscale,df['x_republican'])\n",
    "nonzero = enet_reg.coef_ != 0\n",
    "print(nonzero.sum(),'non-zero of',len(enet_reg.coef_),'coefficients.')\n",
    "X_enet = X[:,nonzero]\n",
    "X_enet\n",
    "cross_val_score(enet_reg,X_enet,df['x_republican'],n_jobs=-1).mean()"
   ]
  },
  {
   "cell_type": "markdown",
   "metadata": {},
   "source": [
    "# Classification"
   ]
  },
  {
   "cell_type": "code",
   "execution_count": 67,
   "metadata": {},
   "outputs": [
    {
     "data": {
      "text/html": [
       "<div>\n",
       "<style scoped>\n",
       "    .dataframe tbody tr th:only-of-type {\n",
       "        vertical-align: middle;\n",
       "    }\n",
       "\n",
       "    .dataframe tbody tr th {\n",
       "        vertical-align: top;\n",
       "    }\n",
       "\n",
       "    .dataframe thead th {\n",
       "        text-align: right;\n",
       "    }\n",
       "</style>\n",
       "<table border=\"1\" class=\"dataframe\">\n",
       "  <thead>\n",
       "    <tr style=\"text-align: right;\">\n",
       "      <th></th>\n",
       "      <th>x_republican</th>\n",
       "      <th>x_000</th>\n",
       "      <th>x_10</th>\n",
       "      <th>x_100</th>\n",
       "      <th>x_101</th>\n",
       "      <th>x_102</th>\n",
       "      <th>x_103</th>\n",
       "      <th>x_104</th>\n",
       "      <th>x_104 ct</th>\n",
       "      <th>x_105</th>\n",
       "      <th>...</th>\n",
       "      <th>x_violated</th>\n",
       "      <th>x_violation</th>\n",
       "      <th>x_water</th>\n",
       "      <th>x_way</th>\n",
       "      <th>x_west</th>\n",
       "      <th>x_words</th>\n",
       "      <th>x_work</th>\n",
       "      <th>x_year</th>\n",
       "      <th>x_years</th>\n",
       "      <th>x_york</th>\n",
       "    </tr>\n",
       "  </thead>\n",
       "  <tbody>\n",
       "    <tr>\n",
       "      <th>0</th>\n",
       "      <td>0.0</td>\n",
       "      <td>0.000000</td>\n",
       "      <td>0.000000</td>\n",
       "      <td>0.000000</td>\n",
       "      <td>0.001709</td>\n",
       "      <td>0.001709</td>\n",
       "      <td>0.001709</td>\n",
       "      <td>0.001709</td>\n",
       "      <td>0.001709</td>\n",
       "      <td>0.001709</td>\n",
       "      <td>...</td>\n",
       "      <td>0.000000</td>\n",
       "      <td>0.003419</td>\n",
       "      <td>0.000000</td>\n",
       "      <td>0.001709</td>\n",
       "      <td>0.000000</td>\n",
       "      <td>0.011966</td>\n",
       "      <td>0.000000</td>\n",
       "      <td>0.017094</td>\n",
       "      <td>0.000000</td>\n",
       "      <td>0.0</td>\n",
       "    </tr>\n",
       "    <tr>\n",
       "      <th>1</th>\n",
       "      <td>1.0</td>\n",
       "      <td>0.000000</td>\n",
       "      <td>0.002639</td>\n",
       "      <td>0.000000</td>\n",
       "      <td>0.002639</td>\n",
       "      <td>0.000000</td>\n",
       "      <td>0.000000</td>\n",
       "      <td>0.005277</td>\n",
       "      <td>0.002639</td>\n",
       "      <td>0.000000</td>\n",
       "      <td>...</td>\n",
       "      <td>0.002639</td>\n",
       "      <td>0.000000</td>\n",
       "      <td>0.000000</td>\n",
       "      <td>0.000000</td>\n",
       "      <td>0.005277</td>\n",
       "      <td>0.002639</td>\n",
       "      <td>0.000000</td>\n",
       "      <td>0.000000</td>\n",
       "      <td>0.000000</td>\n",
       "      <td>0.0</td>\n",
       "    </tr>\n",
       "    <tr>\n",
       "      <th>2</th>\n",
       "      <td>1.0</td>\n",
       "      <td>0.000000</td>\n",
       "      <td>0.000000</td>\n",
       "      <td>0.000000</td>\n",
       "      <td>0.000000</td>\n",
       "      <td>0.014706</td>\n",
       "      <td>0.000000</td>\n",
       "      <td>0.000000</td>\n",
       "      <td>0.000000</td>\n",
       "      <td>0.000000</td>\n",
       "      <td>...</td>\n",
       "      <td>0.000000</td>\n",
       "      <td>0.001634</td>\n",
       "      <td>0.000000</td>\n",
       "      <td>0.001634</td>\n",
       "      <td>0.000000</td>\n",
       "      <td>0.000000</td>\n",
       "      <td>0.000000</td>\n",
       "      <td>0.013072</td>\n",
       "      <td>0.001634</td>\n",
       "      <td>0.0</td>\n",
       "    </tr>\n",
       "    <tr>\n",
       "      <th>3</th>\n",
       "      <td>1.0</td>\n",
       "      <td>0.000000</td>\n",
       "      <td>0.003652</td>\n",
       "      <td>0.001461</td>\n",
       "      <td>0.000000</td>\n",
       "      <td>0.000000</td>\n",
       "      <td>0.000730</td>\n",
       "      <td>0.000000</td>\n",
       "      <td>0.000000</td>\n",
       "      <td>0.006574</td>\n",
       "      <td>...</td>\n",
       "      <td>0.000000</td>\n",
       "      <td>0.000000</td>\n",
       "      <td>0.013879</td>\n",
       "      <td>0.002922</td>\n",
       "      <td>0.000000</td>\n",
       "      <td>0.000000</td>\n",
       "      <td>0.000000</td>\n",
       "      <td>0.000730</td>\n",
       "      <td>0.002922</td>\n",
       "      <td>0.0</td>\n",
       "    </tr>\n",
       "    <tr>\n",
       "      <th>4</th>\n",
       "      <td>1.0</td>\n",
       "      <td>0.001003</td>\n",
       "      <td>0.002006</td>\n",
       "      <td>0.001003</td>\n",
       "      <td>0.000000</td>\n",
       "      <td>0.000000</td>\n",
       "      <td>0.004012</td>\n",
       "      <td>0.000000</td>\n",
       "      <td>0.000000</td>\n",
       "      <td>0.001003</td>\n",
       "      <td>...</td>\n",
       "      <td>0.002006</td>\n",
       "      <td>0.002006</td>\n",
       "      <td>0.000000</td>\n",
       "      <td>0.000000</td>\n",
       "      <td>0.000000</td>\n",
       "      <td>0.000000</td>\n",
       "      <td>0.001003</td>\n",
       "      <td>0.003009</td>\n",
       "      <td>0.001003</td>\n",
       "      <td>0.0</td>\n",
       "    </tr>\n",
       "  </tbody>\n",
       "</table>\n",
       "<p>5 rows × 501 columns</p>\n",
       "</div>"
      ],
      "text/plain": [
       "   x_republican     x_000      x_10     x_100     x_101     x_102     x_103  \\\n",
       "0           0.0  0.000000  0.000000  0.000000  0.001709  0.001709  0.001709   \n",
       "1           1.0  0.000000  0.002639  0.000000  0.002639  0.000000  0.000000   \n",
       "2           1.0  0.000000  0.000000  0.000000  0.000000  0.014706  0.000000   \n",
       "3           1.0  0.000000  0.003652  0.001461  0.000000  0.000000  0.000730   \n",
       "4           1.0  0.001003  0.002006  0.001003  0.000000  0.000000  0.004012   \n",
       "\n",
       "      x_104  x_104 ct     x_105  ...  x_violated  x_violation   x_water  \\\n",
       "0  0.001709  0.001709  0.001709  ...    0.000000     0.003419  0.000000   \n",
       "1  0.005277  0.002639  0.000000  ...    0.002639     0.000000  0.000000   \n",
       "2  0.000000  0.000000  0.000000  ...    0.000000     0.001634  0.000000   \n",
       "3  0.000000  0.000000  0.006574  ...    0.000000     0.000000  0.013879   \n",
       "4  0.000000  0.000000  0.001003  ...    0.002006     0.002006  0.000000   \n",
       "\n",
       "      x_way    x_west   x_words    x_work    x_year   x_years  x_york  \n",
       "0  0.001709  0.000000  0.011966  0.000000  0.017094  0.000000     0.0  \n",
       "1  0.000000  0.005277  0.002639  0.000000  0.000000  0.000000     0.0  \n",
       "2  0.001634  0.000000  0.000000  0.000000  0.013072  0.001634     0.0  \n",
       "3  0.002922  0.000000  0.000000  0.000000  0.000730  0.002922     0.0  \n",
       "4  0.000000  0.000000  0.000000  0.001003  0.003009  0.001003     0.0  \n",
       "\n",
       "[5 rows x 501 columns]"
      ]
     },
     "execution_count": 67,
     "metadata": {},
     "output_type": "execute_result"
    }
   ],
   "source": [
    "# Make a small data set\n",
    "df = pd.read_pickle('sc_cases_cleaned.pkl',compression='gzip')\n",
    "df=df.reset_index(drop=True)\n",
    "\n",
    "from sklearn.feature_extraction.text import CountVectorizer\n",
    "vectorizer500 = CountVectorizer(min_df=0.01, # at min 1% of docs\n",
    "                        max_df=.9,  \n",
    "                        max_features=500,\n",
    "                        stop_words='english',\n",
    "                        ngram_range=(1,3))\n",
    "X500 = vectorizer500.fit_transform(df['opinion_text']).todense()\n",
    "X500 = X500 / X500.sum(axis=1) # counts to frequencies\n",
    "vocab = vectorizer500.get_feature_names()\n",
    "for i, word in enumerate(vectorizer500.get_feature_names()):\n",
    "    column = X500[:,i]\n",
    "    df['x_'+word] = column\n",
    "\n",
    "\n",
    "features = [x for x in df.columns if x.startswith('x_') and x!=\"x_republican\"]\n",
    "keepcols = ['x_republican'] + features\n",
    "df1 = df[keepcols]\n",
    "y = df1['x_republican']\n",
    "# set up train/test split\n",
    "from sklearn.model_selection import train_test_split\n",
    "train, test = train_test_split(df1, test_size=0.2)\n",
    "features = [x for x in df1.columns if x.startswith('x_') and x!=\"x_republican\"]\n",
    "df1.head()"
   ]
  },
  {
   "cell_type": "code",
   "execution_count": 68,
   "metadata": {
    "scrolled": true
   },
   "outputs": [
    {
     "data": {
      "text/plain": [
       "0.7857142857142857"
      ]
     },
     "execution_count": 68,
     "metadata": {},
     "output_type": "execute_result"
    }
   ],
   "source": [
    "# Binary Classifier\n",
    "from sklearn.linear_model import SGDClassifier\n",
    "sgd_clf = SGDClassifier(max_iter=10) \n",
    "sgd_clf.fit(train[features], train['x_republican'])\n",
    "sgd_clf.score(test[features],test['x_republican']) # accuracy on held-out data"
   ]
  },
  {
   "cell_type": "code",
   "execution_count": 69,
   "metadata": {
    "scrolled": true
   },
   "outputs": [
    {
     "data": {
      "text/plain": [
       "0.7734375"
      ]
     },
     "execution_count": 69,
     "metadata": {},
     "output_type": "execute_result"
    }
   ],
   "source": [
    "# compare to picking largest category\n",
    "df1['x_republican'].mean()"
   ]
  },
  {
   "cell_type": "code",
   "execution_count": 70,
   "metadata": {},
   "outputs": [],
   "source": [
    "from multiprocessing import cpu_count\n",
    "nthreads = cpu_count() - 1\n",
    "\n",
    "# Form cross-validated prdictions for all data points\n",
    "from sklearn.model_selection import cross_val_predict\n",
    "df1['x_republican_sgd'] = cross_val_predict(sgd_clf,\n",
    "                                         df1[features],\n",
    "                                         df1['x_republican'],\n",
    "                                         cv=3,\n",
    "                                         n_jobs=nthreads)"
   ]
  },
  {
   "cell_type": "markdown",
   "metadata": {},
   "source": [
    "After applying a classifier to a data set with known labels `0` and `1`:\n",
    "\n",
    "<div class=\"alert alert-block alert-warning\">\n",
    "\n",
    "<div style=\"font-size: 150%;\"><i class=\"fa fa-info-circle\"></i>&nbsp;Definition</div>\n",
    "<ul>\n",
    "\n",
    "<li><strong>TP (true positives)</strong>: labels which were predicted as <code>1</code> and actually are <code>1</code>. <br/><br/>\n",
    "\n",
    "\n",
    "<li><strong>TN (true negatives)</strong>: labels which were predicted as <code>0</code> and actually are <code>0</code>.<br/><br/>\n",
    "\n",
    "\n",
    "<li><strong>FP (false positives)</strong>: labels which were predicted as <code>1</code> and actually are <code>0</code>.<br/><br/>\n",
    "\n",
    "\n",
    "<li><strong>FN (false negatives)</strong>: labels which were predicted as <code>0</code> and actually are <code>1</code>.<br/><br/>\n",
    "\n",
    "</ul>\n",
    "\n",
    "To memorize this: \n",
    "\n",
    "<ul>\n",
    "\n",
    "<li>The second word \"positives\"/\"negatives\" refers to the prediction computed by the classifier.\n",
    "<li>The first word \"true\"/\"false\" expresses if the classification was correct or not.\n",
    "\n",
    "</ul>\n",
    "\n",
    "This is the so called <strong>Confusion Matrix</strong>:\n",
    "\n",
    "<table style=\"border: 1px; font-family: 'Source Code Pro', monocco, Consolas, monocco, monospace;\n",
    "              font-size:110%;\">\n",
    "    <tbody >\n",
    "        <tr>\n",
    "            <td style=\"padding: 10px; background:#f8f8f8;\"> </td>\n",
    "            <td style=\"padding: 10px; background:#f8f8f8;\">Predicted N</td>\n",
    "            <td style=\"padding: 10px; background:#f8f8f8;\">Predicted P</td>\n",
    "        </tr>\n",
    "        <tr>\n",
    "            <td style=\"padding: 10px; background:#f8f8f8;\">Actual N</td>\n",
    "            <td style=\"padding: 10px; background:#fcfcfc; text-align:center; font-weight: bold\">TN         </td>\n",
    "            <td style=\"padding: 10px; background:#fcfcfc; text-align:center; font-weight: bold\">FP         </td>\n",
    "        </tr>\n",
    "        <tr>\n",
    "            <td style=\"padding: 10px; background:#f8f8f8;\">Actual P</td>\n",
    "            <td style=\"padding: 10px; background:#fcfcfc; text-align:center; font-weight: bold\">FN         </td>\n",
    "            <td style=\"padding: 10px; background:#fcfcfc; text-align:center; font-weight: bold\">TP         </td>\n",
    "        </tr>\n",
    "    </tbody>\n",
    "</table>\n",
    "\n",
    "</div>\n",
    "\n",
    "\n",
    "\n",
    "- So the total number of predictions can be expressed as `TP` + `FP` + `FN` + `TN`.\n",
    "\n",
    "\n",
    "- The number of correct predictions is `TP` + `TN`.\n",
    "\n",
    "\n",
    "- `TP` + `FN` is the number of positive examples in our data set, \n",
    "\n",
    "\n",
    "- `FP` + `TN` is the number of negative examples.\n",
    "\n",
    "- **precision** is computed as <code>TP / (TP + FP)</code>.\n",
    "\n",
    "\n",
    "- **recall** is computed as <code>TP / (TP + FN)</code>.\n",
    "\n",
    "- The **F1 score** is computed as <code>F1 = 2 * (precision * recall) / (precision + recall)</code>.\n",
    "\n",
    "\n",
    "<div class=\"alert alert-block alert-warning\">\n",
    "<div style=\"font-size: 150%;\"><i class=\"fa fa-info-circle\"></i>&nbsp;Definition</div>\n",
    "\n",
    "This allows us to define <strong>accuracy</strong> as (<code>TP</code> + <code>TN</code>) / (<code>TP</code> + <code>FP</code> + <code>FN</code> + <code>TN</code>).\n",
    "\n",
    "</div>"
   ]
  },
  {
   "cell_type": "code",
   "execution_count": 71,
   "metadata": {},
   "outputs": [
    {
     "data": {
      "text/plain": [
       "<sklearn.metrics._plot.confusion_matrix.ConfusionMatrixDisplay at 0x7ff474cd3a30>"
      ]
     },
     "execution_count": 71,
     "metadata": {},
     "output_type": "execute_result"
    },
    {
     "data": {
      "image/png": "[encoded data removed]",
      "text/plain": [
       "<Figure size 432x288 with 2 Axes>"
      ]
     },
     "metadata": {
      "needs_background": "light"
     },
     "output_type": "display_data"
    }
   ],
   "source": [
    "# Construct confusion matrix\n",
    "from sklearn.metrics import confusion_matrix, plot_confusion_matrix\n",
    "#confusion_matrix(df1['x_republican'], df1['x_republican_sgd'])\n",
    "plot_confusion_matrix(sgd_clf, test[features],test['x_republican'])"
   ]
  },
  {
   "cell_type": "code",
   "execution_count": 72,
   "metadata": {},
   "outputs": [
    {
     "name": "stdout",
     "output_type": "stream",
     "text": [
      "Precision: 0.7734375\n",
      "Recall: 1.0\n"
     ]
    }
   ],
   "source": [
    "# Precision and Recall\n",
    "from sklearn.metrics import precision_score, recall_score\n",
    "print('Precision:',precision_score(df1['x_republican'], df1['x_republican_sgd']))\n",
    "print('Recall:',recall_score(df1['x_republican'], df1['x_republican_sgd']))"
   ]
  },
  {
   "cell_type": "code",
   "execution_count": 73,
   "metadata": {},
   "outputs": [
    {
     "data": {
      "text/plain": [
       "0.8722466960352423"
      ]
     },
     "execution_count": 73,
     "metadata": {},
     "output_type": "execute_result"
    }
   ],
   "source": [
    "#F1 score\n",
    "from sklearn.metrics import f1_score\n",
    "f1_score(df1['x_republican'],df1['x_republican_sgd'])"
   ]
  },
  {
   "cell_type": "markdown",
   "metadata": {},
   "source": [
    "### Precision/Recall Trade Off"
   ]
  },
  {
   "cell_type": "code",
   "execution_count": 74,
   "metadata": {},
   "outputs": [
    {
     "data": {
      "text/plain": [
       "(array([  8.,  19., 130., 250., 229., 102.,  23.,   4.,   1.,   2.]),\n",
       " array([0.27912082, 0.49048966, 0.70185849, 0.91322733, 1.12459616,\n",
       "        1.335965  , 1.54733383, 1.75870267, 1.97007151, 2.18144034,\n",
       "        2.39280918]),\n",
       " <BarContainer object of 10 artists>)"
      ]
     },
     "execution_count": 74,
     "metadata": {},
     "output_type": "execute_result"
    },
    {
     "data": {
      "image/png": "[encoded data removed]",
      "text/plain": [
       "<Figure size 432x288 with 1 Axes>"
      ]
     },
     "metadata": {
      "needs_background": "light"
     },
     "output_type": "display_data"
    }
   ],
   "source": [
    "# scores used by SGDClassifier\n",
    "import matplotlib.pyplot as plt\n",
    "\n",
    "y_scores = sgd_clf.decision_function(df[features])\n",
    "plt.hist(y_scores) # histogram of scores"
   ]
  },
  {
   "cell_type": "code",
   "execution_count": 75,
   "metadata": {},
   "outputs": [
    {
     "data": {
      "text/plain": [
       "1.0"
      ]
     },
     "execution_count": 75,
     "metadata": {},
     "output_type": "execute_result"
    }
   ],
   "source": [
    "# prediction using default threshold ... \n",
    "threshold = 0\n",
    "(y_scores > threshold).mean()"
   ]
  },
  {
   "cell_type": "code",
   "execution_count": 76,
   "metadata": {},
   "outputs": [
    {
     "data": {
      "text/plain": [
       "1.0"
      ]
     },
     "execution_count": 76,
     "metadata": {},
     "output_type": "execute_result"
    }
   ],
   "source": [
    "# ... gives default model prediction\n",
    "ypred = sgd_clf.predict(df[features])\n",
    "ypred.mean()"
   ]
  },
  {
   "cell_type": "code",
   "execution_count": 77,
   "metadata": {},
   "outputs": [
    {
     "data": {
      "text/plain": [
       "0.68359375"
      ]
     },
     "execution_count": 77,
     "metadata": {},
     "output_type": "execute_result"
    }
   ],
   "source": [
    "# increasing threshold means more zeros are predicted\n",
    "threshold = 1\n",
    "(y_scores > threshold).mean()"
   ]
  },
  {
   "cell_type": "code",
   "execution_count": 78,
   "metadata": {},
   "outputs": [
    {
     "data": {
      "text/plain": [
       "<matplotlib.legend.Legend at 0x7ff479e92bb0>"
      ]
     },
     "execution_count": 78,
     "metadata": {},
     "output_type": "execute_result"
    },
    {
     "data": {
      "image/png": "[encoded data removed]",
      "text/plain": [
       "<Figure size 432x288 with 1 Axes>"
      ]
     },
     "metadata": {
      "needs_background": "light"
     },
     "output_type": "display_data"
    }
   ],
   "source": [
    "# Visualizing the precision/recall tradeoff\n",
    "y_scores = cross_val_predict(sgd_clf,\n",
    "                             df1[features],\n",
    "                             df1['x_republican'],\n",
    "                             cv=3,\n",
    "                             method='decision_function',\n",
    "                             n_jobs=3)\n",
    "\n",
    "from sklearn.metrics import precision_recall_curve\n",
    "precisions, recalls, thresholds = precision_recall_curve(df1['x_republican'], y_scores)\n",
    "\n",
    "import matplotlib.pyplot as plt\n",
    "plt.plot(thresholds, precisions[:-1], label=\"Precision\")\n",
    "plt.plot(thresholds, recalls[:-1], label=\"Recall\")\n",
    "plt.xlabel('Threshold')\n",
    "plt.legend()"
   ]
  },
  {
   "cell_type": "code",
   "execution_count": 79,
   "metadata": {},
   "outputs": [
    {
     "data": {
      "text/plain": [
       "Text(0, 0.5, 'Precision')"
      ]
     },
     "execution_count": 79,
     "metadata": {},
     "output_type": "execute_result"
    },
    {
     "data": {
      "image/png": "[encoded data removed]",
      "text/plain": [
       "<Figure size 432x288 with 1 Axes>"
      ]
     },
     "metadata": {
      "needs_background": "light"
     },
     "output_type": "display_data"
    }
   ],
   "source": [
    "# Plot precision vs recall\n",
    "plt.step(recalls, precisions)\n",
    "plt.xlabel('Recall')\n",
    "plt.ylabel('Precision')"
   ]
  },
  {
   "cell_type": "code",
   "execution_count": 80,
   "metadata": {},
   "outputs": [
    {
     "name": "stdout",
     "output_type": "stream",
     "text": [
      "Precision for Low Threshold: 0.7764705882352941\n",
      "Precision for High Threshold: 0.8882978723404256\n",
      "Recall for Low Threshold: 1.0\n",
      "Recall for High Threshold: 0.28114478114478114\n"
     ]
    }
   ],
   "source": [
    "# Assessing other scoring thresholds\n",
    "ypred_lower = y_scores > -1\n",
    "ypred_higher = y_scores > 1\n",
    "\n",
    "print('Precision for Low Threshold:',precision_score(y, ypred_lower))\n",
    "print('Precision for High Threshold:',precision_score(y, ypred_higher))\n",
    "print('Recall for Low Threshold:',recall_score(y, ypred_lower))\n",
    "print('Recall for High Threshold:',recall_score(y, ypred_higher))"
   ]
  },
  {
   "cell_type": "code",
   "execution_count": 81,
   "metadata": {},
   "outputs": [
    {
     "data": {
      "text/plain": [
       "Text(0, 0.5, 'True Positive Rate')"
      ]
     },
     "execution_count": 81,
     "metadata": {},
     "output_type": "execute_result"
    },
    {
     "data": {
      "image/png": "[encoded data removed]",
      "text/plain": [
       "<Figure size 432x288 with 1 Axes>"
      ]
     },
     "metadata": {
      "needs_background": "light"
     },
     "output_type": "display_data"
    }
   ],
   "source": [
    "# ROC Curve\n",
    "from sklearn.metrics import roc_curve\n",
    "fpr, tpr, thresholds = roc_curve(y, y_scores)\n",
    "plt.plot(fpr, tpr)\n",
    "plt.plot([0,1],[0,1],'k--')\n",
    "plt.xlabel('False Positive Rate')\n",
    "plt.ylabel('True Positive Rate')"
   ]
  },
  {
   "cell_type": "code",
   "execution_count": 82,
   "metadata": {},
   "outputs": [
    {
     "data": {
      "text/plain": [
       "0.6817601300359921"
      ]
     },
     "execution_count": 82,
     "metadata": {},
     "output_type": "execute_result"
    }
   ],
   "source": [
    "# AUC\n",
    "from sklearn.metrics import roc_auc_score\n",
    "roc_auc_score(y, y_scores)"
   ]
  },
  {
   "cell_type": "code",
   "execution_count": 83,
   "metadata": {},
   "outputs": [
    {
     "data": {
      "text/plain": [
       "<matplotlib.legend.Legend at 0x7ff45bf027f0>"
      ]
     },
     "execution_count": 83,
     "metadata": {},
     "output_type": "execute_result"
    },
    {
     "data": {
      "image/png": "[encoded data removed]",
      "text/plain": [
       "<Figure size 432x288 with 1 Axes>"
      ]
     },
     "metadata": {
      "needs_background": "light"
     },
     "output_type": "display_data"
    }
   ],
   "source": [
    "# Random Forests and predict_proba()\n",
    "from sklearn.ensemble import RandomForestClassifier\n",
    "rfc = RandomForestClassifier()\n",
    "y_probas_rfc = cross_val_predict(rfc,\n",
    "                                 X500,\n",
    "                                 y,\n",
    "                                 cv=3,\n",
    "                                 method='predict_proba',\n",
    "                                 n_jobs=3)\n",
    "\n",
    "y_scores_rfc = y_probas_rfc[:,1]\n",
    "fpr_rfc, tpr_rfc, thresholds_rfc = roc_curve(y,y_scores_rfc) \n",
    "\n",
    "# compare precision/recall tradeoff for SGD and RF classifiers\n",
    "plt.plot(fpr, tpr, label=\"SGD\")\n",
    "plt.plot(fpr_rfc, tpr_rfc, label=\"RF\")\n",
    "plt.legend()"
   ]
  },
  {
   "cell_type": "code",
   "execution_count": 84,
   "metadata": {},
   "outputs": [
    {
     "data": {
      "text/plain": [
       "0.8731278300243818"
      ]
     },
     "execution_count": 84,
     "metadata": {},
     "output_type": "execute_result"
    }
   ],
   "source": [
    "roc_auc_score(y,y_scores_rfc)"
   ]
  },
  {
   "cell_type": "markdown",
   "metadata": {},
   "source": [
    "## Multinomial Classification"
   ]
  },
  {
   "cell_type": "code",
   "execution_count": 85,
   "metadata": {},
   "outputs": [
    {
     "name": "stdout",
     "output_type": "stream",
     "text": [
      "0.18359375\n"
     ]
    },
    {
     "data": {
      "text/plain": [
       "[('GINSBURG', 'THOMAS'),\n",
       " ('STEVENS', 'BREYER'),\n",
       " (\"O'CONNOR\", 'KENNEDY'),\n",
       " ('KENNEDY', 'BREYER'),\n",
       " ('KENNEDY', 'KENNEDY'),\n",
       " ('SOUTER', 'SOUTER'),\n",
       " ('BREYER', 'BREYER'),\n",
       " ('GINSBURG', 'SCALIA')]"
      ]
     },
     "execution_count": 85,
     "metadata": {},
     "output_type": "execute_result"
    }
   ],
   "source": [
    "author = df['authorship']\n",
    "authpred = cross_val_predict(sgd_clf,\n",
    "                              X500,\n",
    "                              author,\n",
    "                              cv=7)\n",
    "print((authpred == author).mean())\n",
    "list(zip(author[:8],authpred[:8]))"
   ]
  },
  {
   "cell_type": "code",
   "execution_count": 86,
   "metadata": {},
   "outputs": [
    {
     "data": {
      "image/png": "[encoded data removed]",
      "text/plain": [
       "<Figure size 288x288 with 1 Axes>"
      ]
     },
     "metadata": {
      "needs_background": "light"
     },
     "output_type": "display_data"
    }
   ],
   "source": [
    "# Multi-class confusion matrix\n",
    "conf_mx = confusion_matrix(author,authpred)\n",
    "conf_mx\n",
    "plt.matshow(conf_mx)\n",
    "plt.show()"
   ]
  },
  {
   "cell_type": "code",
   "execution_count": 87,
   "metadata": {},
   "outputs": [
    {
     "data": {
      "text/plain": [
       "<matplotlib.image.AxesImage at 0x7ff44a688520>"
      ]
     },
     "execution_count": 87,
     "metadata": {},
     "output_type": "execute_result"
    },
    {
     "data": {
      "image/png": "[encoded data removed]",
      "text/plain": [
       "<Figure size 288x288 with 1 Axes>"
      ]
     },
     "metadata": {
      "needs_background": "light"
     },
     "output_type": "display_data"
    }
   ],
   "source": [
    "# normalize colors\n",
    "conf_mx_norm = conf_mx / conf_mx.sum(axis=1, keepdims=True)\n",
    "plt.matshow(conf_mx_norm)"
   ]
  },
  {
   "cell_type": "markdown",
   "metadata": {},
   "source": [
    "## Multinomial Logistic"
   ]
  },
  {
   "cell_type": "code",
   "execution_count": 88,
   "metadata": {},
   "outputs": [
    {
     "data": {
      "text/plain": [
       "(0.09765625, 0.01390244564066577)"
      ]
     },
     "execution_count": 88,
     "metadata": {},
     "output_type": "execute_result"
    }
   ],
   "source": [
    "\n",
    "from sklearn.linear_model import LogisticRegression\n",
    "logistic = LogisticRegression(C=1, # default L2 penalty # .01, .1, 1, 2, 10\n",
    "                              class_weight='balanced')\n",
    "\n",
    "scores = cross_val_score(logistic,\n",
    "                         Xscale[:1000],\n",
    "                         author[:1000],\n",
    "                         cv=3,\n",
    "                         n_jobs=3)\n",
    "\n",
    "scores.mean(), scores.std()"
   ]
  },
  {
   "cell_type": "markdown",
   "metadata": {},
   "source": [
    "# Ensemble Learning"
   ]
  },
  {
   "cell_type": "code",
   "execution_count": 89,
   "metadata": {},
   "outputs": [
    {
     "data": {
      "text/plain": [
       "0.7994907053730582"
      ]
     },
     "execution_count": 89,
     "metadata": {},
     "output_type": "execute_result"
    }
   ],
   "source": [
    "Y = df1['x_republican'] > 0\n",
    "\n",
    "# Bagging classifier\n",
    "\n",
    "from sklearn.ensemble import BaggingClassifier\n",
    "from sklearn.tree import DecisionTreeClassifier\n",
    "\n",
    "bag_clf = BaggingClassifier(\n",
    "        DecisionTreeClassifier(), n_estimators=50,\n",
    "        max_samples=100, bootstrap=True, n_jobs=-1\n",
    "    )\n",
    "\n",
    "cross_val_score(bag_clf, X500, Y).mean()"
   ]
  },
  {
   "cell_type": "code",
   "execution_count": 90,
   "metadata": {},
   "outputs": [
    {
     "data": {
      "text/plain": [
       "array([[  3, 171],\n",
       "       [  0, 594]])"
      ]
     },
     "execution_count": 90,
     "metadata": {},
     "output_type": "execute_result"
    }
   ],
   "source": [
    "# random forest\n",
    "from sklearn.ensemble import RandomForestClassifier\n",
    "rnd_clf = RandomForestClassifier(n_estimators=500, \n",
    "                                 max_leaf_nodes=16, \n",
    "                                 n_jobs=-1)\n",
    "y_pred_rf = cross_val_predict(rnd_clf, X500, Y)                              \n",
    "confusion_matrix(Y,y_pred_rf)"
   ]
  },
  {
   "cell_type": "code",
   "execution_count": 91,
   "metadata": {},
   "outputs": [
    {
     "data": {
      "text/plain": [
       "[(0.0004915989853063539, 'k'),\n",
       " (0.0015810423087064035, 'y'),\n",
       " (0.0021966746977795213, 'o'),\n",
       " (0.0029526806615459314, 'r')]"
      ]
     },
     "execution_count": 91,
     "metadata": {},
     "output_type": "execute_result"
    }
   ],
   "source": [
    "rnd_clf.fit(X500,Y)\n",
    "feature_importances = rnd_clf.feature_importances_\n",
    "sorted(zip(feature_importances, word), reverse=False)"
   ]
  },
  {
   "cell_type": "code",
   "execution_count": 92,
   "metadata": {},
   "outputs": [
    {
     "name": "stdout",
     "output_type": "stream",
     "text": [
      "[17:54:01] WARNING: ../src/learner.cc:1115: Starting in XGBoost 1.3.0, the default evaluation metric used with the objective 'binary:logistic' was changed from 'error' to 'logloss'. Explicitly set eval_metric if you'd like to restore the old behavior.\n",
      "[17:54:02] WARNING: ../src/learner.cc:1115: Starting in XGBoost 1.3.0, the default evaluation metric used with the objective 'binary:logistic' was changed from 'error' to 'logloss'. Explicitly set eval_metric if you'd like to restore the old behavior.\n",
      "[17:54:02] WARNING: ../src/learner.cc:1115: Starting in XGBoost 1.3.0, the default evaluation metric used with the objective 'binary:logistic' was changed from 'error' to 'logloss'. Explicitly set eval_metric if you'd like to restore the old behavior.\n",
      "[17:54:03] WARNING: ../src/learner.cc:1115: Starting in XGBoost 1.3.0, the default evaluation metric used with the objective 'binary:logistic' was changed from 'error' to 'logloss'. Explicitly set eval_metric if you'd like to restore the old behavior.\n",
      "[17:54:04] WARNING: ../src/learner.cc:1115: Starting in XGBoost 1.3.0, the default evaluation metric used with the objective 'binary:logistic' was changed from 'error' to 'logloss'. Explicitly set eval_metric if you'd like to restore the old behavior.\n"
     ]
    },
    {
     "data": {
      "text/plain": [
       "0.8749681690858161"
      ]
     },
     "execution_count": 92,
     "metadata": {},
     "output_type": "execute_result"
    }
   ],
   "source": [
    "# XGBoost\n",
    "from xgboost import XGBClassifier, XGBRegressor\n",
    "dfX = pd.DataFrame(X500,columns=vocab)\n",
    "xgb_clf = XGBClassifier()\n",
    "cross_val_score(xgb_clf, dfX, Y).mean()"
   ]
  },
  {
   "cell_type": "code",
   "execution_count": 93,
   "metadata": {},
   "outputs": [
    {
     "name": "stdout",
     "output_type": "stream",
     "text": [
      "[17:54:04] WARNING: ../src/learner.cc:576: \n",
      "Parameters: { \"feature_names\" } might not be used.\n",
      "\n",
      "  This could be a false alarm, with some parameters getting used by language bindings but\n",
      "  then being mistakenly passed down to XGBoost core, or some parameter actually being used\n",
      "  but getting flagged wrongly here. Please open an issue if you find any such cases.\n",
      "\n",
      "\n"
     ]
    },
    {
     "data": {
      "text/plain": [
       "[(0.03357147, 'analysis'),\n",
       " (0.031830117, 'new york'),\n",
       " (0.029660394, 'granted certiorari'),\n",
       " (0.026276007, 'sought'),\n",
       " (0.025258552, 'related'),\n",
       " (0.023935132, 'stated'),\n",
       " (0.023086436, 'internal quotation'),\n",
       " (0.021765428, 'require'),\n",
       " (0.021112507, 'light'),\n",
       " (0.021009024, 'added')]"
      ]
     },
     "execution_count": 93,
     "metadata": {},
     "output_type": "execute_result"
    }
   ],
   "source": [
    "xgb_reg = XGBRegressor(feature_names=vocab)\n",
    "xgb_reg.fit(dfX,Y)\n",
    "sorted(zip(xgb_reg.feature_importances_, vocab),reverse=True)[:10]"
   ]
  },
  {
   "cell_type": "code",
   "execution_count": 94,
   "metadata": {},
   "outputs": [
    {
     "data": {
      "text/plain": [
       "<AxesSubplot:title={'center':'Feature importance'}, xlabel='F score', ylabel='Features'>"
      ]
     },
     "execution_count": 94,
     "metadata": {},
     "output_type": "execute_result"
    },
    {
     "data": {
      "image/png": "[encoded data removed]",
      "text/plain": [
       "<Figure size 432x288 with 1 Axes>"
      ]
     },
     "metadata": {
      "needs_background": "light"
     },
     "output_type": "display_data"
    }
   ],
   "source": [
    "from xgboost import plot_importance\n",
    "plot_importance(xgb_reg, max_num_features=20)"
   ]
  },
  {
   "cell_type": "code",
   "execution_count": null,
   "metadata": {},
   "outputs": [],
   "source": []
  }
 ],
 "metadata": {
  "kernelspec": {
   "display_name": "Python 3",
   "language": "python",
   "name": "python3"
  },
  "language_info": {
   "codemirror_mode": {
    "name": "ipython",
    "version": 3
   },
   "file_extension": ".py",
   "mimetype": "text/x-python",
   "name": "python",
   "nbconvert_exporter": "python",
   "pygments_lexer": "ipython3",
   "version": "3.8.10"
  },
  "toc": {
   "base_numbering": 1,
   "nav_menu": {},
   "number_sections": true,
   "sideBar": true,
   "skip_h1_title": false,
   "title_cell": "Table of Contents",
   "title_sidebar": "Contents",
   "toc_cell": false,
   "toc_position": {},
   "toc_section_display": true,
   "toc_window_display": false
  }
 },
 "nbformat": 4,
 "nbformat_minor": 4
}
