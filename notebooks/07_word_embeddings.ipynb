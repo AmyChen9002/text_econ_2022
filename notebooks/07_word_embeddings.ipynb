{
 "cells": [
  {
   "cell_type": "markdown",
   "metadata": {},
   "source": [
    "# Lecture 7. Word Embeddings and Document Embeddings"
   ]
  },
  {
   "cell_type": "markdown",
   "metadata": {},
   "source": [
    "# Setup"
   ]
  },
  {
   "cell_type": "code",
   "execution_count": 78,
   "metadata": {
    "ExecuteTime": {
     "end_time": "2022-04-01T06:30:52.874057Z",
     "start_time": "2022-04-01T06:30:52.734096Z"
    }
   },
   "outputs": [],
   "source": [
    "import warnings; warnings.simplefilter('ignore')\n",
    "# set this to your working directory\n",
    "%matplotlib inline\n",
    "import pandas as pd\n",
    "df = pd.read_pickle('sc_cases_cleaned.pkl',compression='gzip')\n",
    "df=df.reset_index(drop=True)\n",
    "df = df.assign(author_id=(df['authorship']).astype('category').cat.codes)\n",
    "df = df[pd.notnull(df['authorship'])] # drop cases without an author\n",
    "import numpy as np\n",
    "vocab = pd.read_pickle('vocab.pkl')\n",
    "from IPython.display import SVG\n",
    "from keras.utils.vis_utils import model_to_dot"
   ]
  },
  {
   "cell_type": "code",
   "execution_count": 79,
   "metadata": {
    "ExecuteTime": {
     "end_time": "2022-04-01T06:30:52.881644Z",
     "start_time": "2022-04-01T06:30:52.875081Z"
    }
   },
   "outputs": [
    {
     "data": {
      "text/html": [
       "<div>\n",
       "<style scoped>\n",
       "    .dataframe tbody tr th:only-of-type {\n",
       "        vertical-align: middle;\n",
       "    }\n",
       "\n",
       "    .dataframe tbody tr th {\n",
       "        vertical-align: top;\n",
       "    }\n",
       "\n",
       "    .dataframe thead th {\n",
       "        text-align: right;\n",
       "    }\n",
       "</style>\n",
       "<table border=\"1\" class=\"dataframe\">\n",
       "  <thead>\n",
       "    <tr style=\"text-align: right;\">\n",
       "      <th></th>\n",
       "      <th>case_name</th>\n",
       "      <th>opinion_type</th>\n",
       "      <th>date_standard</th>\n",
       "      <th>authorship</th>\n",
       "      <th>x_republican</th>\n",
       "      <th>maj_judges</th>\n",
       "      <th>dissent_judges</th>\n",
       "      <th>topic_id</th>\n",
       "      <th>cite_count</th>\n",
       "      <th>opinion_text</th>\n",
       "      <th>year</th>\n",
       "      <th>log_cite_count</th>\n",
       "      <th>author_id</th>\n",
       "    </tr>\n",
       "  </thead>\n",
       "  <tbody>\n",
       "    <tr>\n",
       "      <th>0</th>\n",
       "      <td>ERICK CORNELL CLAY v. UNITED STATES</td>\n",
       "      <td>majority</td>\n",
       "      <td>2003-03-04</td>\n",
       "      <td>GINSBURG</td>\n",
       "      <td>0.0</td>\n",
       "      <td>['BREYER, STEPHEN', 'GINSBURG, RUTH', 'KENNEDY...</td>\n",
       "      <td>[]</td>\n",
       "      <td>1.0</td>\n",
       "      <td>2926.0</td>\n",
       "      <td>JUSTICE GINSBURG delivered the opinion of the ...</td>\n",
       "      <td>2003</td>\n",
       "      <td>7.981392</td>\n",
       "      <td>2</td>\n",
       "    </tr>\n",
       "    <tr>\n",
       "      <th>1</th>\n",
       "      <td>HILLSIDE DAIRY INC., A&amp;A DAIRY, L&amp;S DAIRY, AND...</td>\n",
       "      <td>majority</td>\n",
       "      <td>2003-06-09</td>\n",
       "      <td>STEVENS</td>\n",
       "      <td>1.0</td>\n",
       "      <td>['BREYER, STEPHEN', 'GINSBURG, RUTH', 'KENNEDY...</td>\n",
       "      <td>['THOMAS, CLARENCE']</td>\n",
       "      <td>8.0</td>\n",
       "      <td>117.0</td>\n",
       "      <td>Justice Stevens delivered the opinion of the C...</td>\n",
       "      <td>2003</td>\n",
       "      <td>4.762174</td>\n",
       "      <td>9</td>\n",
       "    </tr>\n",
       "    <tr>\n",
       "      <th>2</th>\n",
       "      <td>CHARLES RUSSELL RHINES v. DOUGLAS WEBER, WARDEN</td>\n",
       "      <td>majority</td>\n",
       "      <td>2005-03-30</td>\n",
       "      <td>O'CONNOR</td>\n",
       "      <td>1.0</td>\n",
       "      <td>['BREYER, STEPHEN', 'GINSBURG, RUTH', 'KENNEDY...</td>\n",
       "      <td>[]</td>\n",
       "      <td>1.0</td>\n",
       "      <td>23364.0</td>\n",
       "      <td>Justice O'Connor delivered the opinion of the ...</td>\n",
       "      <td>2005</td>\n",
       "      <td>10.058952</td>\n",
       "      <td>4</td>\n",
       "    </tr>\n",
       "    <tr>\n",
       "      <th>3</th>\n",
       "      <td>STATE OF ALASKA v. UNITED STATES OF AMERICA</td>\n",
       "      <td>majority</td>\n",
       "      <td>2005-06-06</td>\n",
       "      <td>KENNEDY</td>\n",
       "      <td>1.0</td>\n",
       "      <td>['BREYER, STEPHEN', 'GINSBURG, RUTH', 'KENNEDY...</td>\n",
       "      <td>['REHNQUIST, WILLIAM', 'SCALIA, ANTONIN', 'THO...</td>\n",
       "      <td>10.0</td>\n",
       "      <td>84.0</td>\n",
       "      <td>Justice Kennedy delivered the opinion of the C...</td>\n",
       "      <td>2005</td>\n",
       "      <td>4.430817</td>\n",
       "      <td>3</td>\n",
       "    </tr>\n",
       "    <tr>\n",
       "      <th>4</th>\n",
       "      <td>REGINALD A. WILKINSON, DIRECTOR, OHIO DEPARTME...</td>\n",
       "      <td>majority</td>\n",
       "      <td>2005-06-13</td>\n",
       "      <td>KENNEDY</td>\n",
       "      <td>1.0</td>\n",
       "      <td>['BREYER, STEPHEN', 'GINSBURG, RUTH', 'KENNEDY...</td>\n",
       "      <td>[]</td>\n",
       "      <td>4.0</td>\n",
       "      <td>4230.0</td>\n",
       "      <td>Justice Kennedy delivered the opinion of the C...</td>\n",
       "      <td>2005</td>\n",
       "      <td>8.349957</td>\n",
       "      <td>3</td>\n",
       "    </tr>\n",
       "  </tbody>\n",
       "</table>\n",
       "</div>"
      ],
      "text/plain": [
       "                                           case_name opinion_type  \\\n",
       "0                ERICK CORNELL CLAY v. UNITED STATES     majority   \n",
       "1  HILLSIDE DAIRY INC., A&A DAIRY, L&S DAIRY, AND...     majority   \n",
       "2    CHARLES RUSSELL RHINES v. DOUGLAS WEBER, WARDEN     majority   \n",
       "3        STATE OF ALASKA v. UNITED STATES OF AMERICA     majority   \n",
       "4  REGINALD A. WILKINSON, DIRECTOR, OHIO DEPARTME...     majority   \n",
       "\n",
       "  date_standard authorship  x_republican  \\\n",
       "0    2003-03-04   GINSBURG           0.0   \n",
       "1    2003-06-09    STEVENS           1.0   \n",
       "2    2005-03-30   O'CONNOR           1.0   \n",
       "3    2005-06-06    KENNEDY           1.0   \n",
       "4    2005-06-13    KENNEDY           1.0   \n",
       "\n",
       "                                          maj_judges  \\\n",
       "0  ['BREYER, STEPHEN', 'GINSBURG, RUTH', 'KENNEDY...   \n",
       "1  ['BREYER, STEPHEN', 'GINSBURG, RUTH', 'KENNEDY...   \n",
       "2  ['BREYER, STEPHEN', 'GINSBURG, RUTH', 'KENNEDY...   \n",
       "3  ['BREYER, STEPHEN', 'GINSBURG, RUTH', 'KENNEDY...   \n",
       "4  ['BREYER, STEPHEN', 'GINSBURG, RUTH', 'KENNEDY...   \n",
       "\n",
       "                                      dissent_judges  topic_id  cite_count  \\\n",
       "0                                                 []       1.0      2926.0   \n",
       "1                               ['THOMAS, CLARENCE']       8.0       117.0   \n",
       "2                                                 []       1.0     23364.0   \n",
       "3  ['REHNQUIST, WILLIAM', 'SCALIA, ANTONIN', 'THO...      10.0        84.0   \n",
       "4                                                 []       4.0      4230.0   \n",
       "\n",
       "                                        opinion_text  year  log_cite_count  \\\n",
       "0  JUSTICE GINSBURG delivered the opinion of the ...  2003        7.981392   \n",
       "1  Justice Stevens delivered the opinion of the C...  2003        4.762174   \n",
       "2  Justice O'Connor delivered the opinion of the ...  2005       10.058952   \n",
       "3  Justice Kennedy delivered the opinion of the C...  2005        4.430817   \n",
       "4  Justice Kennedy delivered the opinion of the C...  2005        8.349957   \n",
       "\n",
       "   author_id  \n",
       "0          2  \n",
       "1          9  \n",
       "2          4  \n",
       "3          3  \n",
       "4          3  "
      ]
     },
     "execution_count": 79,
     "metadata": {},
     "output_type": "execute_result"
    }
   ],
   "source": [
    "df.head()"
   ]
  },
  {
   "cell_type": "markdown",
   "metadata": {},
   "source": [
    "# Word2Vec in gensim"
   ]
  },
  {
   "cell_type": "code",
   "execution_count": 48,
   "metadata": {
    "ExecuteTime": {
     "end_time": "2022-03-31T18:54:54.734229Z",
     "start_time": "2022-03-31T18:54:28.879028Z"
    }
   },
   "outputs": [
    {
     "data": {
      "text/plain": [
       "array([ 4.30423133e-02,  4.46700398e-03, -2.55543850e-02,  6.84492569e-03,\n",
       "       -5.03079314e-03, -5.48538705e-03,  1.84638724e-02, -2.88482243e-03,\n",
       "        4.82392311e-02, -8.19390267e-02,  4.96076187e-03, -1.16124533e-01,\n",
       "       -4.27243160e-03, -9.82623361e-03, -4.85900007e-02, -6.08660839e-02,\n",
       "        5.06253801e-02,  5.26559763e-02,  2.77667698e-02, -2.87617575e-02,\n",
       "        7.38729164e-02,  5.43789640e-02, -2.45802142e-02, -2.92748809e-02,\n",
       "        9.50461328e-02,  3.35870385e-02,  1.23821236e-02, -4.47765812e-02,\n",
       "       -2.40612961e-02,  1.07894905e-01, -2.19121724e-02,  2.42078286e-02,\n",
       "        2.21403800e-02,  3.94294038e-02,  6.25571087e-02, -7.16266483e-02,\n",
       "       -2.65380610e-02, -1.08811878e-01,  8.62921309e-03,  6.22275434e-02,\n",
       "       -6.09913282e-02,  4.69075665e-02, -2.60055866e-02,  9.23887640e-03,\n",
       "       -6.65703565e-02, -3.52290720e-02, -4.74731717e-03,  2.22736737e-03,\n",
       "        6.63517509e-03, -4.28775176e-02, -5.19480221e-02,  2.89005674e-02,\n",
       "       -5.45587875e-02,  1.05939835e-01,  1.16824340e-02, -6.69610202e-02,\n",
       "       -6.07862622e-02, -4.59705014e-03, -8.49583149e-02,  2.04725955e-02,\n",
       "       -3.57007571e-02,  1.69554842e-03, -1.82861760e-02, -4.98627429e-04,\n",
       "       -4.63764789e-03,  3.34334522e-02, -3.65278907e-02, -6.47043139e-02,\n",
       "        3.15576345e-02, -1.34168625e-01, -8.58943611e-02, -3.67420539e-02,\n",
       "        3.23590115e-02,  1.42448302e-02,  1.92493089e-02,  1.21796988e-02,\n",
       "        2.32353732e-02, -3.33937071e-02,  7.07162321e-02, -1.23044416e-01,\n",
       "       -8.82661715e-02, -3.09395120e-02, -5.44981472e-02, -8.69653299e-02,\n",
       "        8.98285657e-02,  3.94746289e-03, -1.83638446e-02,  3.70707847e-02,\n",
       "        6.02863468e-02, -1.50448708e-02, -2.25640535e-02,  2.00938415e-02,\n",
       "       -6.38916492e-02,  3.62430438e-02,  2.63863076e-02,  6.33250400e-02,\n",
       "        1.76408708e-01,  2.12034471e-02, -7.03933835e-02, -4.02662233e-02,\n",
       "        1.85973421e-02, -3.75609621e-02, -4.65651974e-02,  5.04352860e-02,\n",
       "        1.05173532e-02, -4.28018868e-02,  1.18936729e-02, -1.78094860e-02,\n",
       "       -9.83096212e-02,  3.32668424e-02,  2.83976663e-02,  4.52815369e-02,\n",
       "       -7.78662786e-02, -1.25443144e-02, -6.38606260e-03, -4.34922315e-02,\n",
       "       -6.14328720e-02, -3.76657657e-02,  4.95044747e-04, -3.88694480e-02,\n",
       "        1.43619906e-02,  2.28577182e-02, -1.03017397e-01,  7.37124234e-02,\n",
       "        1.52403181e-02, -6.30997345e-02,  5.89219145e-02, -5.68957552e-02,\n",
       "       -3.95494932e-03,  4.03944887e-02, -1.66748316e-04,  5.46951182e-02,\n",
       "        1.00300787e-02, -9.73735675e-02,  1.30194545e-01,  2.55604158e-03,\n",
       "       -1.16613405e-02,  6.73562512e-02, -4.16065753e-02,  7.19552115e-03,\n",
       "       -6.45895228e-02,  1.91314600e-03, -3.30486335e-04,  4.70203832e-02,\n",
       "        1.00805007e-01,  9.14607290e-03,  1.24786270e-03,  6.84898198e-02,\n",
       "       -7.77001679e-02, -1.78176966e-02,  7.25010633e-02,  2.28704736e-02,\n",
       "       -2.73894481e-02,  5.35887713e-03, -8.61828849e-02,  1.42451478e-02,\n",
       "        7.64689595e-03,  5.41703142e-02, -1.49266038e-04, -1.03837125e-01,\n",
       "        3.97874750e-02, -8.95997509e-02,  4.01954949e-02,  6.36688024e-02,\n",
       "       -8.97134542e-02,  3.26025411e-02,  6.06058575e-02,  1.82265672e-03,\n",
       "        7.68072754e-02, -5.08367270e-02,  5.41934464e-03,  1.25241848e-02,\n",
       "        3.26287583e-03, -1.80890150e-02,  3.25819738e-02,  1.73364934e-02,\n",
       "        1.22421375e-02,  6.58562258e-02, -6.16174936e-02,  1.94140058e-02,\n",
       "       -5.82092814e-02, -1.00209326e-01,  3.10418364e-02, -2.46442035e-02,\n",
       "        1.67347342e-02,  1.28648713e-01,  4.24256437e-02, -3.43561023e-02,\n",
       "        7.84942135e-02, -6.74279314e-03,  9.09358263e-02, -1.52065428e-02,\n",
       "        4.10251729e-02, -2.39178352e-02,  4.28362787e-02,  6.77872507e-04,\n",
       "        5.25644161e-02,  4.20310684e-02, -2.57651806e-02,  8.57575983e-02,\n",
       "        1.07306084e-02, -5.32997735e-02, -6.39794394e-02, -2.04260930e-01,\n",
       "        4.73939860e-03,  5.05310893e-02, -1.51659753e-02, -3.51562425e-02,\n",
       "        3.05894371e-02, -2.10069548e-02,  2.56559048e-02,  1.33844033e-01,\n",
       "        7.20517188e-02, -1.48583949e-02,  2.65386440e-02, -8.46348926e-02,\n",
       "       -8.37205946e-02, -7.92669505e-02,  8.83627217e-03, -1.17757894e-01,\n",
       "       -1.68259725e-01, -4.34964290e-03, -1.29038811e-01, -1.12376437e-02,\n",
       "        3.35442461e-02,  6.13898449e-02,  9.34217777e-03,  7.54958540e-02,\n",
       "        6.75141141e-02,  1.29625760e-02,  1.39437750e-01, -2.97034513e-02,\n",
       "       -2.01822561e-03, -6.48998916e-02, -1.05102370e-02,  6.93317130e-02,\n",
       "        3.97423208e-02,  4.64815497e-02, -1.80822462e-02, -9.53038856e-02,\n",
       "       -6.98639676e-02, -6.97181821e-02, -1.28214927e-02, -6.68135211e-02,\n",
       "        1.67573560e-02, -1.36966482e-02,  1.90681815e-02,  1.22050820e-04,\n",
       "        6.01341808e-03, -8.95901248e-02,  8.06657597e-02, -7.63838738e-02,\n",
       "        7.21783489e-02,  8.00600201e-02,  8.07211325e-02, -1.29799908e-02,\n",
       "       -2.44559031e-02, -8.32939148e-02, -2.32206304e-02, -3.07042226e-02,\n",
       "       -2.43579354e-02,  2.66783219e-02,  1.23685952e-02, -6.52322397e-02,\n",
       "       -7.53209693e-03,  3.91750224e-02,  1.08286189e-02,  2.95669958e-02,\n",
       "        9.52241570e-03,  2.70325746e-02, -4.16097715e-02,  1.43035045e-02,\n",
       "       -4.92161512e-03,  3.33800502e-02, -1.62898861e-02, -7.40531906e-02,\n",
       "       -2.95398235e-02, -5.56102321e-02,  2.08204929e-02, -3.31962667e-02,\n",
       "        9.91672976e-04,  1.14572428e-01, -3.91255543e-02,  2.70011127e-02,\n",
       "        1.81637462e-02,  2.96733212e-02,  1.27745733e-01,  8.57110601e-03,\n",
       "        1.51607236e-02,  7.72186890e-02, -1.21109329e-01, -1.77269563e-01,\n",
       "        1.00126956e-02,  1.84854046e-02,  5.04386202e-02,  1.20966725e-01,\n",
       "        7.40741864e-02,  1.32710427e-01,  8.41521919e-02,  3.50732133e-02],\n",
       "      dtype=float32)"
      ]
     },
     "execution_count": 48,
     "metadata": {},
     "output_type": "execute_result"
    }
   ],
   "source": [
    "# word2vec requires sentences as input\n",
    "from nltk import sent_tokenize\n",
    "from string import punctuation\n",
    "translator = str.maketrans('','',punctuation) \n",
    "from nltk.corpus import stopwords\n",
    "stoplist = set(stopwords.words('english'))\n",
    "from nltk.stem import SnowballStemmer\n",
    "stemmer = SnowballStemmer('english')\n",
    "\n",
    "def normalize_text(doc):\n",
    "    \"Input doc and return clean list of tokens\"\n",
    "    doc = doc.replace('\\r', ' ').replace('\\n', ' ')\n",
    "    lower = doc.lower() # all lower case\n",
    "    nopunc = lower.translate(translator) # remove punctuation\n",
    "    words = nopunc.split() # split into tokens\n",
    "    nostop = [w for w in words if w not in stoplist] # remove stopwords\n",
    "    no_numbers = [w if not w.isdigit() else '#' for w in nostop] # normalize numbers\n",
    "    stemmed = [stemmer.stem(w) for w in no_numbers] # stem each word\n",
    "    return stemmed\n",
    "\n",
    "def get_sentences(doc):\n",
    "    sent=[]\n",
    "    for raw in sent_tokenize(doc):\n",
    "        raw2 = normalize_text(raw)\n",
    "        sent.append(raw2)\n",
    "    return sent\n",
    "\n",
    "sentences = []\n",
    "for doc in df['opinion_text']:\n",
    "    sentences += get_sentences(doc)\n",
    "from random import shuffle\n",
    "shuffle(sentences) # stream in sentences in random order\n",
    "\n",
    "# train the model\n",
    "from gensim.models import Word2Vec\n",
    "w2v = Word2Vec(sentences,  # list of tokenized sentences\n",
    "               workers = 8, # Number of threads to run in parallel\n",
    "               size=300,  # Word vector dimensionality     \n",
    "               min_count =  25, # Minimum word count  \n",
    "               window = 5, # Context window size      \n",
    "               sample = 1e-3, # Downsample setting for frequent words\n",
    "               )\n",
    "\n",
    "# done training, so delete context vectors\n",
    "w2v.init_sims(replace=True)\n",
    "\n",
    "w2v.save('w2v-vectors.pkl')\n",
    "\n",
    "w2v.wv['judg'] # vector for \"judge\""
   ]
  },
  {
   "cell_type": "code",
   "execution_count": 49,
   "metadata": {
    "ExecuteTime": {
     "end_time": "2022-03-31T18:54:54.738412Z",
     "start_time": "2022-03-31T18:54:54.735256Z"
    }
   },
   "outputs": [
    {
     "data": {
      "text/plain": [
       "0.57158613"
      ]
     },
     "execution_count": 49,
     "metadata": {},
     "output_type": "execute_result"
    }
   ],
   "source": [
    "w2v.wv.similarity('judg','juri') # similarity "
   ]
  },
  {
   "cell_type": "code",
   "execution_count": 50,
   "metadata": {
    "ExecuteTime": {
     "end_time": "2022-03-31T18:54:54.825352Z",
     "start_time": "2022-03-31T18:54:54.739181Z"
    }
   },
   "outputs": [
    {
     "data": {
      "text/plain": [
       "[('bench', 0.5953693389892578),\n",
       " ('juri', 0.5715861320495605),\n",
       " ('magistr', 0.5351980328559875),\n",
       " ('panel', 0.5351102352142334),\n",
       " ('court', 0.533636212348938),\n",
       " ('factfind', 0.5213727355003357),\n",
       " ('speedi', 0.5193161964416504),\n",
       " ('imparti', 0.5167227387428284),\n",
       " ('special', 0.4996529221534729),\n",
       " ('prosecutor', 0.49743568897247314)]"
      ]
     },
     "execution_count": 50,
     "metadata": {},
     "output_type": "execute_result"
    }
   ],
   "source": [
    "w2v.wv.most_similar('judg') # most similar words"
   ]
  },
  {
   "cell_type": "code",
   "execution_count": 51,
   "metadata": {
    "ExecuteTime": {
     "end_time": "2022-03-31T18:55:31.245226Z",
     "start_time": "2022-03-31T18:54:54.863115Z"
    }
   },
   "outputs": [
    {
     "data": {
      "text/plain": [
       "array([ 0.02851629, -0.07923002, -0.00551179,  0.0383895 , -0.07205567,\n",
       "       -0.01206726,  0.04564866, -0.00605167, -0.01043567, -0.01504642,\n",
       "       -0.00983567, -0.04574488,  0.04552822, -0.15329002, -0.02193193,\n",
       "       -0.12876393,  0.15120699, -0.06422534, -0.05565018, -0.03013898,\n",
       "        0.09613314,  0.00678954,  0.02318116,  0.07089709, -0.04036016,\n",
       "        0.07273384,  0.08443981,  0.02420141,  0.0626275 ,  0.03980436,\n",
       "        0.0383553 ,  0.02891082,  0.01637372,  0.08545417, -0.05382832,\n",
       "       -0.08237512,  0.00599404,  0.02509696,  0.00212319,  0.07038054,\n",
       "       -0.02002814, -0.01676246, -0.02776926, -0.09583973,  0.06601088,\n",
       "       -0.04045736, -0.05706986,  0.0018374 ,  0.06114435, -0.08134822,\n",
       "       -0.05433097,  0.03152781, -0.15251632,  0.03546267, -0.00323954,\n",
       "        0.00208544, -0.07791933,  0.00187374, -0.05247102,  0.03435352,\n",
       "       -0.04539087,  0.06423523, -0.04655546, -0.00838754,  0.01257413,\n",
       "       -0.01209248,  0.00452459, -0.06278877,  0.04203266, -0.07403675,\n",
       "       -0.02313867, -0.0759004 ,  0.08101973,  0.0519837 ,  0.02778836,\n",
       "       -0.02876825,  0.07012452,  0.09805288,  0.03555602, -0.0453786 ,\n",
       "        0.03667689, -0.02889982, -0.02976003, -0.04052348, -0.01158768,\n",
       "       -0.00352901, -0.01702244,  0.01961496, -0.02072908,  0.02695827,\n",
       "       -0.05512979,  0.0441345 ,  0.04859476,  0.07328121, -0.02791533,\n",
       "       -0.032515  ,  0.08209994,  0.05874882, -0.02175355, -0.06476644,\n",
       "       -0.02327674, -0.12401544, -0.08651102, -0.08449314,  0.00485638,\n",
       "       -0.00985823,  0.04007238, -0.05826132,  0.05567981,  0.03447309,\n",
       "       -0.06151152,  0.09804782, -0.07121032, -0.06868134,  0.01769792,\n",
       "        0.03953373, -0.05434852, -0.05015121,  0.03426031, -0.05245796,\n",
       "        0.06585995,  0.04180716,  0.00088552,  0.01183884,  0.23171735,\n",
       "        0.02861313,  0.14664572, -0.10767867,  0.0201986 ,  0.05847428,\n",
       "       -0.02323766,  0.00313102,  0.08161882, -0.05641637, -0.06673498,\n",
       "       -0.02725425,  0.00254048,  0.03888282,  0.05576953,  0.03428701,\n",
       "        0.13022414, -0.05512752,  0.0154793 ,  0.05354973,  0.04165197,\n",
       "        0.07060575, -0.01621309,  0.00931589, -0.00642475, -0.02577619,\n",
       "       -0.01254917, -0.04011815,  0.03371086, -0.00720141, -0.03870315,\n",
       "       -0.03398811,  0.01753531,  0.02782861, -0.07475056,  0.02403064,\n",
       "        0.03801987, -0.10653412, -0.03155886,  0.12638897,  0.0087955 ,\n",
       "       -0.02986429,  0.03222181, -0.01493739, -0.11146569,  0.05873774,\n",
       "        0.06193954, -0.1533022 , -0.03264525,  0.01200221,  0.00328917,\n",
       "        0.01913388,  0.07307967,  0.07398093,  0.02482817,  0.02785353,\n",
       "        0.01407488, -0.04421132, -0.02002836, -0.10000148, -0.02415379,\n",
       "       -0.0227599 , -0.0799502 ,  0.06119713, -0.1063114 , -0.05907929,\n",
       "       -0.00984886, -0.02551952,  0.10014936, -0.04398783,  0.04369812,\n",
       "        0.0391931 ,  0.0249442 ,  0.00924788,  0.00237941, -0.00555758,\n",
       "        0.00419984, -0.11215194,  0.03153457, -0.01010733, -0.07896741,\n",
       "        0.11578202, -0.03453339,  0.01168721, -0.05780818, -0.05659682,\n",
       "       -0.05771997,  0.02385033,  0.07889766, -0.06780121, -0.04149507,\n",
       "       -0.01311679, -0.062126  , -0.0499825 , -0.03644667, -0.06527961,\n",
       "       -0.03349685, -0.01498615, -0.02189911,  0.03548827,  0.08857405,\n",
       "        0.04242488,  0.03751203,  0.07096735,  0.00376372,  0.02605916,\n",
       "       -0.02897198,  0.09035154,  0.01580854, -0.01024474, -0.09800565,\n",
       "        0.08070588, -0.01235601, -0.0567553 ,  0.00292309, -0.0628444 ,\n",
       "       -0.019847  ,  0.03484429,  0.03442184, -0.01227714,  0.02507208,\n",
       "        0.00717151, -0.03432596, -0.05534289,  0.0409448 ,  0.03330191,\n",
       "        0.04379641, -0.10803209,  0.08735748,  0.07011652, -0.01938387,\n",
       "       -0.03522916, -0.01475091, -0.08166663, -0.00992406, -0.04961884,\n",
       "        0.02594133,  0.00442155, -0.02120576, -0.05763998,  0.01998967,\n",
       "       -0.03976947,  0.01397672,  0.03744883, -0.05659633, -0.00185299,\n",
       "       -0.03245455,  0.03232801,  0.01890422, -0.00716053,  0.04524031,\n",
       "       -0.03118833,  0.03952809, -0.13992323, -0.06704437, -0.12935054,\n",
       "        0.00616352,  0.02002873,  0.00879516, -0.01959996, -0.01666954,\n",
       "        0.07650444,  0.14597261, -0.08007587, -0.06661922, -0.05521235,\n",
       "        0.00781621, -0.041171  ,  0.03124692,  0.10492674,  0.11902022,\n",
       "        0.01818918,  0.06835052,  0.03053318,  0.01836049,  0.01640133],\n",
       "      dtype=float32)"
      ]
     },
     "execution_count": 51,
     "metadata": {},
     "output_type": "execute_result"
    }
   ],
   "source": [
    "# word2vec requires sentences as input\n",
    "from nltk import sent_tokenize\n",
    "from string import punctuation\n",
    "translator = str.maketrans('','',punctuation) \n",
    "from nltk.corpus import stopwords\n",
    "stoplist = set(stopwords.words('english'))\n",
    "from nltk.stem import SnowballStemmer\n",
    "stemmer = SnowballStemmer('english')\n",
    "\n",
    "def normalize_text(doc):\n",
    "    \"Input doc and return clean list of tokens\"\n",
    "    doc = doc.replace('\\r', ' ').replace('\\n', ' ')\n",
    "    lower = doc.lower() # all lower case\n",
    "    nopunc = lower#.translate(translator) # remove punctuation\n",
    "    words = nopunc.split() # split into tokens\n",
    "    nostop = [w for w in words ]#if w not in stoplist] # remove stopwords\n",
    "    no_numbers = [w if not w.isdigit() else '#' for w in nostop] # normalize numbers\n",
    "    stemmed = [stemmer.stem(w) for w in no_numbers] # stem each word\n",
    "    return stemmed\n",
    "\n",
    "def get_sentences(doc):\n",
    "    sent=[]\n",
    "    for raw in sent_tokenize(doc):\n",
    "        raw2 = normalize_text(raw)\n",
    "        sent.append(raw2)\n",
    "    return sent\n",
    "\n",
    "sentences = []\n",
    "for doc in df['opinion_text']:\n",
    "    sentences += get_sentences(doc)\n",
    "from random import shuffle\n",
    "shuffle(sentences) # stream in sentences in random order\n",
    "\n",
    "# train the model\n",
    "from gensim.models import Word2Vec\n",
    "w2v = Word2Vec(sentences,  # list of tokenized sentences\n",
    "               workers = 8, # Number of threads to run in parallel\n",
    "               size=300,  # Word vector dimensionality     \n",
    "               min_count =  25, # Minimum word count  \n",
    "               window = 5, # Context window size      \n",
    "               sample = 1e-3, # Downsample setting for frequent words\n",
    "               )\n",
    "\n",
    "# done training, so delete context vectors\n",
    "w2v.init_sims(replace=True)\n",
    "\n",
    "w2v.save('w2v-vectors.pkl')\n",
    "\n",
    "w2v.wv['judg'] # vector for \"judge\""
   ]
  },
  {
   "cell_type": "code",
   "execution_count": 52,
   "metadata": {
    "ExecuteTime": {
     "end_time": "2022-03-31T18:55:31.248530Z",
     "start_time": "2022-03-31T18:55:31.246125Z"
    }
   },
   "outputs": [
    {
     "data": {
      "text/plain": [
       "0.66678697"
      ]
     },
     "execution_count": 52,
     "metadata": {},
     "output_type": "execute_result"
    }
   ],
   "source": [
    "w2v.wv.similarity('judg','juri') # similarity "
   ]
  },
  {
   "cell_type": "code",
   "execution_count": 53,
   "metadata": {
    "ExecuteTime": {
     "end_time": "2022-03-31T18:55:31.309286Z",
     "start_time": "2022-03-31T18:55:31.249254Z"
    }
   },
   "outputs": [
    {
     "data": {
      "text/plain": [
       "[('judge,', 0.8131026029586792),\n",
       " ('juri', 0.6667869687080383),\n",
       " ('jury,', 0.6435332298278809),\n",
       " ('prosecutor', 0.5896973609924316),\n",
       " ('court', 0.5746570825576782),\n",
       " ('magistr', 0.574337363243103),\n",
       " ('judge.', 0.5527392625808716),\n",
       " ('court,', 0.5474913120269775),\n",
       " ('juror', 0.5471761226654053),\n",
       " ('unanim', 0.5340203046798706)]"
      ]
     },
     "execution_count": 53,
     "metadata": {},
     "output_type": "execute_result"
    }
   ],
   "source": [
    "w2v.wv.most_similar('judg') # most similar words"
   ]
  },
  {
   "cell_type": "code",
   "execution_count": 61,
   "metadata": {
    "ExecuteTime": {
     "end_time": "2022-03-31T22:07:17.995098Z",
     "start_time": "2022-03-31T22:07:17.959904Z"
    }
   },
   "outputs": [
    {
     "data": {
      "text/plain": [
       "[('judge,', 0.7236223220825195),\n",
       " ('jury,', 0.54631507396698),\n",
       " ('magistr', 0.5323208570480347),\n",
       " ('juri', 0.5232703685760498),\n",
       " ('court', 0.49149343371391296),\n",
       " ('court,', 0.4844695031642914),\n",
       " ('judges,', 0.4844566583633423),\n",
       " ('prosecutor', 0.48023268580436707),\n",
       " ('unanim', 0.47240495681762695),\n",
       " ('juror', 0.467909574508667)]"
      ]
     },
     "execution_count": 61,
     "metadata": {},
     "output_type": "execute_result"
    }
   ],
   "source": [
    "# analogies: judge is to man as __ is to woman\n",
    "w2v.wv.most_similar(positive=['judg','man'],\n",
    "                 negative=['woman'])"
   ]
  },
  {
   "cell_type": "code",
   "execution_count": 55,
   "metadata": {
    "ExecuteTime": {
     "end_time": "2022-03-31T18:56:02.782264Z",
     "start_time": "2022-03-31T18:55:31.369770Z"
    }
   },
   "outputs": [
    {
     "name": "stdout",
     "output_type": "stream",
     "text": [
      "his\n",
      "he\n",
      "defend\n"
     ]
    }
   ],
   "source": [
    "# Word2Vec: K-Means Clusters\n",
    "from sklearn.cluster import KMeans\n",
    "kmw = KMeans(n_clusters=50)\n",
    "kmw.fit(w2v.wv.vectors)\n",
    "judge_clust = kmw.labels_[w2v.wv.vocab['judg'].index]\n",
    "for i, cluster in enumerate(kmw.labels_):\n",
    "    if cluster == judge_clust and i<=100:\n",
    "        print(w2v.wv.index2word[i])"
   ]
  },
  {
   "cell_type": "markdown",
   "metadata": {},
   "source": [
    "# Pre-trained vectors"
   ]
  },
  {
   "cell_type": "code",
   "execution_count": 56,
   "metadata": {
    "ExecuteTime": {
     "end_time": "2022-03-31T18:56:03.619252Z",
     "start_time": "2022-03-31T18:56:02.791160Z"
    }
   },
   "outputs": [
    {
     "data": {
      "text/plain": [
       "array([-1.1682467 , -0.37714788,  0.12145048,  0.45870164,  0.18772918,\n",
       "       -0.1963262 , -0.6110374 , -0.49027702, -0.4964213 ,  0.03152998,\n",
       "        0.00236143,  0.295166  ,  0.7754728 ,  1.2774849 , -0.43516952,\n",
       "        0.6209066 ,  0.5234564 , -0.65061843,  0.09567976, -0.10973877,\n",
       "       -1.0401254 , -0.03391558,  0.7943468 ,  0.57635796, -0.33247292,\n",
       "        0.62733513, -0.5002358 , -1.2046778 ,  0.08557361, -0.72076726,\n",
       "        0.9980813 , -1.4318948 , -0.24133739, -0.9739392 ,  0.2621435 ,\n",
       "       -1.7072632 , -0.44079256, -0.07828841, -0.8650366 ,  0.90954286,\n",
       "       -0.5113236 , -1.088126  , -0.07267341,  0.37482584, -0.7151478 ,\n",
       "       -0.7081645 ,  0.22494677, -0.09205629,  2.038835  ,  1.6421664 ,\n",
       "        0.13038194,  0.874071  , -0.38315964, -0.55294967, -0.43678957,\n",
       "        0.5167304 , -0.9234771 , -0.00989905,  0.7303826 , -0.57531387,\n",
       "       -0.7816253 , -0.0768221 ,  0.28484577, -0.49553034,  0.21016783,\n",
       "       -0.05586189, -0.97006464,  0.05051011, -0.15979545, -0.17722352,\n",
       "        0.7564583 ,  0.15248412,  1.0488698 ,  0.5170091 ,  0.6801176 ,\n",
       "        0.28661263,  0.28148085,  1.6007988 ,  0.8881339 , -0.6850404 ,\n",
       "        0.91189617,  0.23494138, -0.16770458,  0.7234406 ,  0.50332916,\n",
       "        0.11205113, -0.6722548 ,  0.18590052, -0.9689952 , -0.01290649,\n",
       "       -0.5338496 , -0.2658797 , -0.1803635 , -0.1729706 ,  1.5067761 ,\n",
       "        0.10288084], dtype=float32)"
      ]
     },
     "execution_count": 56,
     "metadata": {},
     "output_type": "execute_result"
    }
   ],
   "source": [
    "import spacy\n",
    "en = spacy.load('en_core_web_sm')\n",
    "apple = en('apple') \n",
    "apple.vector # vector for 'apple'"
   ]
  },
  {
   "cell_type": "code",
   "execution_count": 57,
   "metadata": {
    "ExecuteTime": {
     "end_time": "2022-03-31T18:56:03.623816Z",
     "start_time": "2022-03-31T18:56:03.621642Z"
    }
   },
   "outputs": [
    {
     "data": {
      "text/plain": [
       "1.0"
      ]
     },
     "execution_count": 57,
     "metadata": {},
     "output_type": "execute_result"
    }
   ],
   "source": [
    "apple.similarity(apple)"
   ]
  },
  {
   "cell_type": "code",
   "execution_count": 58,
   "metadata": {
    "ExecuteTime": {
     "end_time": "2022-03-31T18:56:03.630083Z",
     "start_time": "2022-03-31T18:56:03.624556Z"
    }
   },
   "outputs": [
    {
     "data": {
      "text/plain": [
       "0.6120259962521467"
      ]
     },
     "execution_count": 58,
     "metadata": {},
     "output_type": "execute_result"
    }
   ],
   "source": [
    "orange = en('orange')\n",
    "apple.similarity(orange)"
   ]
  },
  {
   "cell_type": "code",
   "execution_count": 63,
   "metadata": {
    "ExecuteTime": {
     "end_time": "2022-03-31T22:15:59.696154Z",
     "start_time": "2022-03-31T22:15:58.796661Z"
    }
   },
   "outputs": [
    {
     "data": {
      "text/plain": [
       "0.5679783767388717"
      ]
     },
     "execution_count": 63,
     "metadata": {},
     "output_type": "execute_result"
    }
   ],
   "source": [
    "import spacy\n",
    "# !python -m spacy download de_core_news_sm\n",
    "de = spacy.load('de_core_news_sm')\n",
    "apfel = de('apfel')\n",
    "orange = de('orange')\n",
    "apfel.similarity(orange)"
   ]
  },
  {
   "cell_type": "code",
   "execution_count": 64,
   "metadata": {
    "ExecuteTime": {
     "end_time": "2022-03-31T22:16:01.751521Z",
     "start_time": "2022-03-31T22:16:01.259566Z"
    }
   },
   "outputs": [],
   "source": [
    "# Initializing an embedding layer with pre-trained vectors\n",
    "embed_dims = len(apple.vector)\n",
    "embedding_matrix = np.zeros([num_words, embed_dims])\n",
    "for word, i in tokenizer.word_index.items():\n",
    "    if i > num_words:\n",
    "        break\n",
    "    embedding_vector = en(word).vector\n",
    "    embedding_matrix[i-1] = embedding_vector    "
   ]
  },
  {
   "cell_type": "code",
   "execution_count": 65,
   "metadata": {
    "ExecuteTime": {
     "end_time": "2022-03-31T22:16:03.181553Z",
     "start_time": "2022-03-31T22:16:02.948451Z"
    }
   },
   "outputs": [],
   "source": [
    "model = Sequential()\n",
    "model.add(Embedding(num_words,\n",
    "                    embed_dims,\n",
    "                    weights=[embedding_matrix],\n",
    "                    input_length=maxlen,\n",
    "                    trainable=False)) # frozen layer\n",
    "model.add(Flatten()) # 86*300 = 25800 dims\n",
    "model.add(Dense(64,activation='relu'))\n",
    "model.add(Dense(1))\n",
    "model.compile(optimizer='adam',\n",
    "              loss='binary_crossentropy',\n",
    "              metrics=['accuracy'])"
   ]
  },
  {
   "cell_type": "code",
   "execution_count": 66,
   "metadata": {
    "ExecuteTime": {
     "end_time": "2022-03-31T22:16:03.487813Z",
     "start_time": "2022-03-31T22:16:03.465546Z"
    }
   },
   "outputs": [
    {
     "name": "stdout",
     "output_type": "stream",
     "text": [
      "Model: \"sequential_5\"\n",
      "_________________________________________________________________\n",
      " Layer (type)                Output Shape              Param #   \n",
      "=================================================================\n",
      " embedding_5 (Embedding)     (None, 13971, 96)         19200     \n",
      "                                                                 \n",
      " flatten_5 (Flatten)         (None, 1341216)           0         \n",
      "                                                                 \n",
      " dense_10 (Dense)            (None, 64)                85837888  \n",
      "                                                                 \n",
      " dense_11 (Dense)            (None, 1)                 65        \n",
      "                                                                 \n",
      "=================================================================\n",
      "Total params: 85,857,153\n",
      "Trainable params: 85,837,953\n",
      "Non-trainable params: 19,200\n",
      "_________________________________________________________________\n"
     ]
    }
   ],
   "source": [
    "model.summary()"
   ]
  },
  {
   "cell_type": "code",
   "execution_count": 67,
   "metadata": {
    "ExecuteTime": {
     "end_time": "2022-03-31T22:17:41.241254Z",
     "start_time": "2022-03-31T22:16:05.028648Z"
    }
   },
   "outputs": [
    {
     "name": "stdout",
     "output_type": "stream",
     "text": [
      "[t-SNE] Computing 151 nearest neighbors...\n",
      "[t-SNE] Indexed 200 samples in 0.000s...\n",
      "[t-SNE] Computed neighbors for 200 samples in 0.018s...\n",
      "[t-SNE] Computed conditional probabilities for sample 200 / 200\n",
      "[t-SNE] Mean sigma: 3.726499\n",
      "[t-SNE] KL divergence after 250 iterations with early exaggeration: 56.360161\n",
      "[t-SNE] KL divergence after 300 iterations: 0.608156\n"
     ]
    },
    {
     "data": {
      "image/png": "[encoded data removed]",
      "text/plain": [
       "<Figure size 842.4x595.44 with 1 Axes>"
      ]
     },
     "metadata": {},
     "output_type": "display_data"
    },
    {
     "name": "stderr",
     "output_type": "stream",
     "text": [
      "2022-04-01 00:16:06.749742: I tensorflow/core/grappler/optimizers/custom_graph_optimizer_registry.cc:113] Plugin optimizer for device_type GPU is enabled.\n"
     ]
    },
    {
     "name": "stdout",
     "output_type": "stream",
     "text": [
      "20/20 [==============================] - ETA: 0s - loss: 3.2868 - accuracy: 0.7655"
     ]
    },
    {
     "name": "stderr",
     "output_type": "stream",
     "text": [
      "2022-04-01 00:16:43.826804: I tensorflow/core/grappler/optimizers/custom_graph_optimizer_registry.cc:113] Plugin optimizer for device_type GPU is enabled.\n"
     ]
    },
    {
     "name": "stdout",
     "output_type": "stream",
     "text": [
      "20/20 [==============================] - 46s 2s/step - loss: 3.2868 - accuracy: 0.7655 - val_loss: 3.5648 - val_accuracy: 0.7662\n",
      "[t-SNE] Computing 151 nearest neighbors...\n",
      "[t-SNE] Indexed 200 samples in 0.000s...\n",
      "[t-SNE] Computed neighbors for 200 samples in 0.015s...\n",
      "[t-SNE] Computed conditional probabilities for sample 200 / 200\n",
      "[t-SNE] Mean sigma: 3.726499\n",
      "[t-SNE] KL divergence after 250 iterations with early exaggeration: 57.528172\n",
      "[t-SNE] KL divergence after 300 iterations: 0.555090\n"
     ]
    },
    {
     "data": {
      "image/png": "[encoded data removed]",
      "text/plain": [
       "<Figure size 842.4x595.44 with 1 Axes>"
      ]
     },
     "metadata": {},
     "output_type": "display_data"
    },
    {
     "name": "stdout",
     "output_type": "stream",
     "text": [
      "20/20 [==============================] - 45s 2s/step - loss: 3.4274 - accuracy: 0.7752 - val_loss: 3.5648 - val_accuracy: 0.7662\n",
      "[t-SNE] Computing 151 nearest neighbors...\n",
      "[t-SNE] Indexed 200 samples in 0.000s...\n",
      "[t-SNE] Computed neighbors for 200 samples in 0.007s...\n",
      "[t-SNE] Computed conditional probabilities for sample 200 / 200\n",
      "[t-SNE] Mean sigma: 3.726499\n",
      "[t-SNE] KL divergence after 250 iterations with early exaggeration: 53.515503\n",
      "[t-SNE] KL divergence after 300 iterations: 0.464921\n"
     ]
    },
    {
     "data": {
      "image/png": "[encoded data removed]",
      "text/plain": [
       "<Figure size 842.4x595.44 with 1 Axes>"
      ]
     },
     "metadata": {},
     "output_type": "display_data"
    }
   ],
   "source": [
    "# show the vectors\n",
    "from sklearn.manifold import TSNE\n",
    "tsne = TSNE(n_components=2, verbose=1, perplexity=50, n_iter=300)\n",
    "\n",
    "df3 = pd.DataFrame(list(tokenizer.word_index.items()),\n",
    "                  columns=['word', 'word_index']).sort_values('word_index')[:num_words]\n",
    "\n",
    "for i in range(3):\n",
    "    if i > 0:\n",
    "        model.fit(X,Y,epochs=1, validation_split=.2)\n",
    "    \n",
    "    word_vectors = model.layers[0].get_weights()[0]\n",
    "    wv_tsne = tsne.fit_transform(word_vectors)\n",
    "\n",
    "    df3['x'] = wv_tsne[:,0]\n",
    "    df3['y'] = wv_tsne[:,1]\n",
    "    plot = sns.relplot( data=df3, x=\"x\", y=\"y\", s=0, height=8.27, aspect=11.7/8.27)\n",
    "\n",
    "    for row in df3.itertuples():\n",
    "        ax = plot.axes[0, 0]\n",
    "        ax.text(row.x, row.y, row.word, horizontalalignment='left')\n",
    "    plt.show()"
   ]
  },
  {
   "cell_type": "markdown",
   "metadata": {},
   "source": [
    "# GloVe"
   ]
  },
  {
   "cell_type": "code",
   "execution_count": null,
   "metadata": {
    "ExecuteTime": {
     "end_time": "2022-03-31T22:30:56.738131Z",
     "start_time": "2022-03-31T22:30:55.685545Z"
    }
   },
   "outputs": [],
   "source": [
    "!pip install glove-python-binary \n",
    "#!pip install glove_python for other versions\n",
    "\n",
    "import itertools\n",
    "from glove import Corpus, Glove\n",
    "\n",
    "from nltk import sent_tokenize\n",
    "from string import punctuation\n",
    "translator = str.maketrans('','',punctuation) \n",
    "from nltk.corpus import stopwords\n",
    "stoplist = set(stopwords.words('english'))\n",
    "from nltk.stem import SnowballStemmer\n",
    "stemmer = SnowballStemmer('english')\n",
    "\n",
    "def normalize_text(doc):\n",
    "    \"Input doc and return clean list of tokens\"\n",
    "    doc = doc.replace('\\r', ' ').replace('\\n', ' ')\n",
    "    lower = doc.lower() # all lower case\n",
    "    nopunc = lower.translate(translator) # remove punctuation\n",
    "    words = nopunc.split() # split into tokens\n",
    "    nostop = [w for w in words if w not in stoplist] # remove stopwords\n",
    "    no_numbers = [w if not w.isdigit() else '#' for w in nostop] # normalize numbers\n",
    "    stemmed = [stemmer.stem(w) for w in no_numbers] # stem each word\n",
    "    return stemmed\n",
    "\n",
    "def get_sentences(doc):\n",
    "    sent=[]\n",
    "    for raw in sent_tokenize(doc):\n",
    "        raw2 = normalize_text(raw)\n",
    "        sent.append(raw2)\n",
    "    return sent\n",
    "\n",
    "sentences = []\n",
    "for doc in df['opinion_text']:\n",
    "    sentences += get_sentences(doc)\n",
    "from random import shuffle\n",
    "shuffle(sentences) # stream in sentences in random order\n",
    "\n",
    "corpus = Corpus()\n",
    "corpus.fit(sentences, window=10)\n",
    "glove = Glove(no_components=100, learning_rate=0.05)"
   ]
  },
  {
   "cell_type": "code",
   "execution_count": null,
   "metadata": {
    "ExecuteTime": {
     "end_time": "2022-03-31T18:56:03.776564Z",
     "start_time": "2022-03-31T18:56:03.776559Z"
    }
   },
   "outputs": [],
   "source": [
    "glove.fit(corpus.matrix, epochs=30, no_threads=4, verbose=True)\n",
    "glove.add_dictionary(corpus.dictionary)"
   ]
  },
  {
   "cell_type": "code",
   "execution_count": null,
   "metadata": {
    "ExecuteTime": {
     "end_time": "2022-03-31T18:56:03.777127Z",
     "start_time": "2022-03-31T18:56:03.777122Z"
    }
   },
   "outputs": [],
   "source": [
    "glove.word_vectors[glove.dictionary['judg']]"
   ]
  },
  {
   "cell_type": "code",
   "execution_count": null,
   "metadata": {
    "ExecuteTime": {
     "end_time": "2022-03-31T18:56:03.777874Z",
     "start_time": "2022-03-31T18:56:03.777868Z"
    }
   },
   "outputs": [],
   "source": [
    "glove.most_similar('judg')"
   ]
  },
  {
   "cell_type": "markdown",
   "metadata": {},
   "source": [
    "\n",
    "# Word Mover Distance"
   ]
  },
  {
   "cell_type": "code",
   "execution_count": 87,
   "metadata": {
    "ExecuteTime": {
     "end_time": "2022-04-01T08:51:04.388674Z",
     "start_time": "2022-04-01T08:51:01.384522Z"
    }
   },
   "outputs": [
    {
     "name": "stdout",
     "output_type": "stream",
     "text": [
      "Collecting wmd\n",
      "  Downloading wmd-1.3.2.tar.gz (104 kB)\n",
      "\u001b[2K     \u001b[38;2;114;156;31m━━━━━━━━━━━━━━━━━━━━━━━━━━━━━━━━━━━━━━━\u001b[0m \u001b[32m104.6/104.6 KB\u001b[0m \u001b[31m2.8 MB/s\u001b[0m eta \u001b[36m0:00:00\u001b[0m\n",
      "\u001b[?25h  Preparing metadata (setup.py) ... \u001b[?25ldone\n",
      "\u001b[?25hRequirement already satisfied: numpy in /Users/afra/University/NLP-LSS/.venv/lib/python3.8/site-packages (from wmd) (1.22.2)\n",
      "Building wheels for collected packages: wmd\n",
      "  Building wheel for wmd (setup.py) ... \u001b[?25lerror\n",
      "  \u001b[1;31merror\u001b[0m: \u001b[1msubprocess-exited-with-error\u001b[0m\n",
      "  \n",
      "  \u001b[31m×\u001b[0m \u001b[32mpython setup.py bdist_wheel\u001b[0m did not run successfully.\n",
      "  \u001b[31m│\u001b[0m exit code: \u001b[1;36m1\u001b[0m\n",
      "  \u001b[31m╰─>\u001b[0m \u001b[31m[7 lines of output]\u001b[0m\n",
      "  \u001b[31m   \u001b[0m running bdist_wheel\n",
      "  \u001b[31m   \u001b[0m running build\n",
      "  \u001b[31m   \u001b[0m running build_py\n",
      "  \u001b[31m   \u001b[0m running build_ext\n",
      "  \u001b[31m   \u001b[0m building 'libwmdrelax' extension\n",
      "  \u001b[31m   \u001b[0m clang: error: the clang compiler does not support '-march=native'\n",
      "  \u001b[31m   \u001b[0m error: command '/usr/bin/gcc' failed with exit code 1\n",
      "  \u001b[31m   \u001b[0m \u001b[31m[end of output]\u001b[0m\n",
      "  \n",
      "  \u001b[1;35mnote\u001b[0m: This error originates from a subprocess, and is likely not a problem with pip.\n",
      "\u001b[31m  ERROR: Failed building wheel for wmd\u001b[0m\u001b[31m\n",
      "\u001b[0m\u001b[?25h  Running setup.py clean for wmd\n",
      "Failed to build wmd\n",
      "Installing collected packages: wmd\n",
      "  Running setup.py install for wmd ... \u001b[?25lerror\n",
      "  \u001b[1;31merror\u001b[0m: \u001b[1msubprocess-exited-with-error\u001b[0m\n",
      "  \n",
      "  \u001b[31m×\u001b[0m \u001b[32mRunning setup.py install for wmd\u001b[0m did not run successfully.\n",
      "  \u001b[31m│\u001b[0m exit code: \u001b[1;36m1\u001b[0m\n",
      "  \u001b[31m╰─>\u001b[0m \u001b[31m[9 lines of output]\u001b[0m\n",
      "  \u001b[31m   \u001b[0m running install\n",
      "  \u001b[31m   \u001b[0m /Users/afra/University/NLP-LSS/.venv/lib/python3.8/site-packages/setuptools/command/install.py:34: SetuptoolsDeprecationWarning: setup.py install is deprecated. Use build and pip and other standards-based tools.\n",
      "  \u001b[31m   \u001b[0m   warnings.warn(\n",
      "  \u001b[31m   \u001b[0m running build\n",
      "  \u001b[31m   \u001b[0m running build_py\n",
      "  \u001b[31m   \u001b[0m running build_ext\n",
      "  \u001b[31m   \u001b[0m building 'libwmdrelax' extension\n",
      "  \u001b[31m   \u001b[0m clang: error: the clang compiler does not support '-march=native'\n",
      "  \u001b[31m   \u001b[0m error: command '/usr/bin/gcc' failed with exit code 1\n",
      "  \u001b[31m   \u001b[0m \u001b[31m[end of output]\u001b[0m\n",
      "  \n",
      "  \u001b[1;35mnote\u001b[0m: This error originates from a subprocess, and is likely not a problem with pip.\n",
      "\u001b[1;31merror\u001b[0m: \u001b[1mlegacy-install-failure\u001b[0m\n",
      "\n",
      "\u001b[31m×\u001b[0m Encountered error while trying to install package.\n",
      "\u001b[31m╰─>\u001b[0m wmd\n",
      "\n",
      "\u001b[1;35mnote\u001b[0m: This is an issue with the package mentioned above, not pip.\n",
      "\u001b[1;36mhint\u001b[0m: See above for output from the failure.\n",
      "\u001b[33mWARNING: You are using pip version 22.0.3; however, version 22.0.4 is available.\n",
      "You should consider upgrading via the '/Users/afra/University/NLP-LSS/.venv/bin/python -m pip install --upgrade pip' command.\u001b[0m\u001b[33m\n",
      "\u001b[0m\u001b[?25h"
     ]
    }
   ],
   "source": [
    "!pip install wmd"
   ]
  },
  {
   "cell_type": "code",
   "execution_count": 86,
   "metadata": {
    "ExecuteTime": {
     "end_time": "2022-04-01T08:50:54.385011Z",
     "start_time": "2022-04-01T08:50:54.355175Z"
    }
   },
   "outputs": [
    {
     "ename": "ModuleNotFoundError",
     "evalue": "No module named 'wmd'",
     "output_type": "error",
     "traceback": [
      "\u001b[0;31m---------------------------------------------------------------------------\u001b[0m",
      "\u001b[0;31mModuleNotFoundError\u001b[0m                       Traceback (most recent call last)",
      "Input \u001b[0;32mIn [86]\u001b[0m, in \u001b[0;36m<module>\u001b[0;34m\u001b[0m\n\u001b[1;32m      1\u001b[0m \u001b[38;5;28;01mimport\u001b[39;00m \u001b[38;5;21;01mspacy\u001b[39;00m\n\u001b[0;32m----> 2\u001b[0m \u001b[38;5;28;01mimport\u001b[39;00m \u001b[38;5;21;01mwmd\u001b[39;00m\n\u001b[1;32m      3\u001b[0m nlp \u001b[38;5;241m=\u001b[39m spacy\u001b[38;5;241m.\u001b[39mload(\u001b[38;5;124m'\u001b[39m\u001b[38;5;124men_core_web_sm\u001b[39m\u001b[38;5;124m'\u001b[39m, \n\u001b[1;32m      4\u001b[0m                  create_pipeline\u001b[38;5;241m=\u001b[39mwmd\u001b[38;5;241m.\u001b[39mWMD\u001b[38;5;241m.\u001b[39mcreate_spacy_pipeline)\n\u001b[1;32m      5\u001b[0m doc1 \u001b[38;5;241m=\u001b[39m nlp(\u001b[38;5;124m\"\u001b[39m\u001b[38;5;124mPolitician speaks to the media in Illinois.\u001b[39m\u001b[38;5;124m\"\u001b[39m)\n",
      "\u001b[0;31mModuleNotFoundError\u001b[0m: No module named 'wmd'"
     ]
    }
   ],
   "source": [
    "import spacy\n",
    "import wmd\n",
    "nlp = spacy.load('en_core_web_sm', \n",
    "                 create_pipeline=wmd.WMD.create_spacy_pipeline)\n",
    "doc1 = nlp(\"Politician speaks to the media in Illinois.\")\n",
    "doc2 = nlp(\"The president greets the press in Chicago.\")\n",
    "print(doc1.similarity(doc2))"
   ]
  },
  {
   "cell_type": "markdown",
   "metadata": {},
   "source": [
    "# **Document Embeddings**"
   ]
  },
  {
   "cell_type": "code",
   "execution_count": 65,
   "metadata": {
    "ExecuteTime": {
     "end_time": "2022-04-10T21:56:23.802647Z",
     "start_time": "2022-04-10T21:50:28.462758Z"
    }
   },
   "outputs": [],
   "source": [
    "###\n",
    "# Setup\n",
    "###\n",
    "import numpy as np\n",
    "import pandas as pd\n",
    "df1 = pd.read_csv('death-penalty-cases.csv')\n",
    "\n",
    "import spacy\n",
    "nlp = spacy.load('en_core_web_sm')\n",
    "\n",
    "# word2vec requires sentences as input\n",
    "sentences = []\n",
    "for doc in df1['snippet']:\n",
    "    sents = [sent for sent in nlp(doc).sents]\n",
    "    sentences += sents\n",
    "#     sentences += get_sentences(doc)\n",
    "from random import shuffle\n",
    "shuffle(sentences) # stream in sentences in random order"
   ]
  },
  {
   "cell_type": "code",
   "execution_count": 69,
   "metadata": {
    "ExecuteTime": {
     "end_time": "2022-04-10T21:58:26.295804Z",
     "start_time": "2022-04-10T21:58:26.277174Z"
    }
   },
   "outputs": [
    {
     "data": {
      "text/html": [
       "<div>\n",
       "<style scoped>\n",
       "    .dataframe tbody tr th:only-of-type {\n",
       "        vertical-align: middle;\n",
       "    }\n",
       "\n",
       "    .dataframe tbody tr th {\n",
       "        vertical-align: top;\n",
       "    }\n",
       "\n",
       "    .dataframe thead th {\n",
       "        text-align: right;\n",
       "    }\n",
       "</style>\n",
       "<table border=\"1\" class=\"dataframe\">\n",
       "  <thead>\n",
       "    <tr style=\"text-align: right;\">\n",
       "      <th></th>\n",
       "      <th>court_id</th>\n",
       "      <th>author_id</th>\n",
       "      <th>state</th>\n",
       "      <th>year</th>\n",
       "      <th>dateFiled</th>\n",
       "      <th>citeCount</th>\n",
       "      <th>snippet</th>\n",
       "    </tr>\n",
       "  </thead>\n",
       "  <tbody>\n",
       "    <tr>\n",
       "      <th>0</th>\n",
       "      <td>nj</td>\n",
       "      <td>NaN</td>\n",
       "      <td>NJ</td>\n",
       "      <td>1965</td>\n",
       "      <td>1965-09-14T00:00:00Z</td>\n",
       "      <td>8</td>\n",
       "      <td>N.J.   ( )\\n  A. d  \\nIN RE WAIVER OF DEATH PE...</td>\n",
       "    </tr>\n",
       "    <tr>\n",
       "      <th>1</th>\n",
       "      <td>fla</td>\n",
       "      <td>4019.0</td>\n",
       "      <td>FL</td>\n",
       "      <td>1973</td>\n",
       "      <td>1973-07-26T00:00:00Z</td>\n",
       "      <td>552</td>\n",
       "      <td>whether the death penalty is, per se, unconsti...</td>\n",
       "    </tr>\n",
       "    <tr>\n",
       "      <th>2</th>\n",
       "      <td>texcrimapp</td>\n",
       "      <td>5765.0</td>\n",
       "      <td>TX</td>\n",
       "      <td>1975</td>\n",
       "      <td>1975-04-16T00:00:00Z</td>\n",
       "      <td>143</td>\n",
       "      <td># ;s contention that the assessment of the dea...</td>\n",
       "    </tr>\n",
       "    <tr>\n",
       "      <th>3</th>\n",
       "      <td>nm</td>\n",
       "      <td>NaN</td>\n",
       "      <td>NM</td>\n",
       "      <td>2009</td>\n",
       "      <td>2009-11-30T00:00:00Z</td>\n",
       "      <td>0</td>\n",
       "      <td>. d   ( )\\n -NMSC- \\nIN THE MATTER OF DEATH PE...</td>\n",
       "    </tr>\n",
       "    <tr>\n",
       "      <th>4</th>\n",
       "      <td>texcrimapp</td>\n",
       "      <td>5758.0</td>\n",
       "      <td>TX</td>\n",
       "      <td>1944</td>\n",
       "      <td>1944-12-20T00:00:00Z</td>\n",
       "      <td>56</td>\n",
       "      <td>assume the district attorney orally waived the...</td>\n",
       "    </tr>\n",
       "    <tr>\n",
       "      <th>...</th>\n",
       "      <td>...</td>\n",
       "      <td>...</td>\n",
       "      <td>...</td>\n",
       "      <td>...</td>\n",
       "      <td>...</td>\n",
       "      <td>...</td>\n",
       "      <td>...</td>\n",
       "    </tr>\n",
       "    <tr>\n",
       "      <th>32562</th>\n",
       "      <td>ohioctapp</td>\n",
       "      <td>8055.0</td>\n",
       "      <td>OH</td>\n",
       "      <td>2017</td>\n",
       "      <td>2017-07-20T00:00:00Z</td>\n",
       "      <td>0</td>\n",
       "      <td>of two counts of aggravated murder with deat...</td>\n",
       "    </tr>\n",
       "    <tr>\n",
       "      <th>32563</th>\n",
       "      <td>cal</td>\n",
       "      <td>NaN</td>\n",
       "      <td>CA</td>\n",
       "      <td>2017</td>\n",
       "      <td>2017-07-20T00:00:00Z</td>\n",
       "      <td>0</td>\n",
       "      <td>his general views about the death penalty as ...</td>\n",
       "    </tr>\n",
       "    <tr>\n",
       "      <th>32564</th>\n",
       "      <td>neb</td>\n",
       "      <td>NaN</td>\n",
       "      <td>NE</td>\n",
       "      <td>2017</td>\n",
       "      <td>2017-07-21T00:00:00Z</td>\n",
       "      <td>0</td>\n",
       "      <td>been subject to the death\\npenalty, because Ne...</td>\n",
       "    </tr>\n",
       "    <tr>\n",
       "      <th>32565</th>\n",
       "      <td>ohio</td>\n",
       "      <td>5374.0</td>\n",
       "      <td>OH</td>\n",
       "      <td>2017</td>\n",
       "      <td>2017-07-25T00:00:00Z</td>\n",
       "      <td>0</td>\n",
       "      <td>that Indiana law permits imposition of the de...</td>\n",
       "    </tr>\n",
       "    <tr>\n",
       "      <th>32566</th>\n",
       "      <td>tenncrimapp</td>\n",
       "      <td>8291.0</td>\n",
       "      <td>TN</td>\n",
       "      <td>2017</td>\n",
       "      <td>2017-07-20T00:00:00Z</td>\n",
       "      <td>0</td>\n",
       "      <td>original guilty\\nplea for which he received th...</td>\n",
       "    </tr>\n",
       "  </tbody>\n",
       "</table>\n",
       "<p>32567 rows × 7 columns</p>\n",
       "</div>"
      ],
      "text/plain": [
       "          court_id  author_id state  year             dateFiled  citeCount  \\\n",
       "0               nj        NaN    NJ  1965  1965-09-14T00:00:00Z          8   \n",
       "1              fla     4019.0    FL  1973  1973-07-26T00:00:00Z        552   \n",
       "2       texcrimapp     5765.0    TX  1975  1975-04-16T00:00:00Z        143   \n",
       "3               nm        NaN    NM  2009  2009-11-30T00:00:00Z          0   \n",
       "4       texcrimapp     5758.0    TX  1944  1944-12-20T00:00:00Z         56   \n",
       "...            ...        ...   ...   ...                   ...        ...   \n",
       "32562    ohioctapp     8055.0    OH  2017  2017-07-20T00:00:00Z          0   \n",
       "32563          cal        NaN    CA  2017  2017-07-20T00:00:00Z          0   \n",
       "32564          neb        NaN    NE  2017  2017-07-21T00:00:00Z          0   \n",
       "32565         ohio     5374.0    OH  2017  2017-07-25T00:00:00Z          0   \n",
       "32566  tenncrimapp     8291.0    TN  2017  2017-07-20T00:00:00Z          0   \n",
       "\n",
       "                                                 snippet  \n",
       "0      N.J.   ( )\\n  A. d  \\nIN RE WAIVER OF DEATH PE...  \n",
       "1      whether the death penalty is, per se, unconsti...  \n",
       "2      # ;s contention that the assessment of the dea...  \n",
       "3      . d   ( )\\n -NMSC- \\nIN THE MATTER OF DEATH PE...  \n",
       "4      assume the district attorney orally waived the...  \n",
       "...                                                  ...  \n",
       "32562    of two counts of aggravated murder with deat...  \n",
       "32563   his general views about the death penalty as ...  \n",
       "32564  been subject to the death\\npenalty, because Ne...  \n",
       "32565   that Indiana law permits imposition of the de...  \n",
       "32566  original guilty\\nplea for which he received th...  \n",
       "\n",
       "[32567 rows x 7 columns]"
      ]
     },
     "execution_count": 69,
     "metadata": {},
     "output_type": "execute_result"
    }
   ],
   "source": [
    "df1"
   ]
  },
  {
   "cell_type": "markdown",
   "metadata": {},
   "source": [
    "**Average word2vec Embeddings**"
   ]
  },
  {
   "cell_type": "code",
   "execution_count": 67,
   "metadata": {
    "ExecuteTime": {
     "end_time": "2022-04-10T21:58:08.110495Z",
     "start_time": "2022-04-10T21:58:04.785392Z"
    }
   },
   "outputs": [
    {
     "data": {
      "text/plain": [
       "array([ 0.00876234, -0.01954598, -0.01876238,  0.00640783, -0.00570479,\n",
       "       -0.00178065,  0.00327886,  0.00885954, -0.02239202, -0.00796812,\n",
       "       -0.03401987,  0.02879108, -0.01935635, -0.02507607,  0.00725113,\n",
       "       -0.01104911,  0.0167178 , -0.0078784 , -0.02183607,  0.00882496,\n",
       "        0.03896407,  0.02498194,  0.02658605,  0.00024617, -0.01994196,\n",
       "        0.00145514, -0.01657871,  0.00334458,  0.02736571,  0.01715929],\n",
       "      dtype=float32)"
      ]
     },
     "execution_count": 67,
     "metadata": {},
     "output_type": "execute_result"
    }
   ],
   "source": [
    "###\n",
    "# Make document vectors by averaging word embeddings in a document\n",
    "##\n",
    "\n",
    "# Continuous bag-of-words representation\n",
    "from gensim.models import Word2Vec\n",
    "w2v = Word2Vec.load('w2v-vectors.pkl')\n",
    "\n",
    "sentvecs = []\n",
    "for sentence in sentences:\n",
    "    vecs = [w2v.wv[w.text] for w in sentence if w.text in w2v.wv]\n",
    "    if len(vecs)== 0:\n",
    "        sentvecs.append(np.nan)\n",
    "        continue\n",
    "    sentvec = np.mean(vecs,axis=0)\n",
    "    sentvecs.append(sentvec.reshape(1,-1))\n",
    "sentvecs[0][0][:30]"
   ]
  },
  {
   "cell_type": "code",
   "execution_count": 68,
   "metadata": {
    "ExecuteTime": {
     "end_time": "2022-04-10T21:58:09.278701Z",
     "start_time": "2022-04-10T21:58:09.275664Z"
    }
   },
   "outputs": [
    {
     "data": {
      "text/plain": [
       "0.61963123"
      ]
     },
     "execution_count": 68,
     "metadata": {},
     "output_type": "execute_result"
    }
   ],
   "source": [
    "from sklearn.metrics.pairwise import cosine_similarity\n",
    "cosine_similarity(sentvecs[0],\n",
    "                  sentvecs[1])[0][0]"
   ]
  },
  {
   "cell_type": "markdown",
   "metadata": {},
   "source": [
    "**Doc2Vec**"
   ]
  },
  {
   "cell_type": "code",
   "execution_count": 70,
   "metadata": {
    "ExecuteTime": {
     "end_time": "2022-04-10T22:01:08.618679Z",
     "start_time": "2022-04-10T22:01:01.705030Z"
    }
   },
   "outputs": [],
   "source": [
    "###\n",
    "# Doc2Vec\n",
    "###\n",
    "\n",
    "from nltk import word_tokenize\n",
    "docs = []\n",
    "\n",
    "for i, row in df1.iterrows():\n",
    "    docs += [word_tokenize(row['snippet'])]\n",
    "shuffle(docs)"
   ]
  },
  {
   "cell_type": "code",
   "execution_count": 71,
   "metadata": {
    "ExecuteTime": {
     "end_time": "2022-04-10T22:01:15.740421Z",
     "start_time": "2022-04-10T22:01:08.619807Z"
    }
   },
   "outputs": [],
   "source": [
    "from gensim.models.doc2vec import Doc2Vec, TaggedDocument\n",
    "doc_iterator = [TaggedDocument(doc, [i]) for i, doc in enumerate(docs)]\n",
    "d2v = Doc2Vec(doc_iterator,\n",
    "                min_count=10, # minimum word count\n",
    "                window=10,    # window size\n",
    "                vector_size=100, # size of document vector\n",
    "                sample=1e-4, \n",
    "                negative=5, \n",
    "                workers=4, # threads\n",
    "                #dbow_words = 1 # uncomment to get word vectors too\n",
    "                max_vocab_size=1000) # max vocab size"
   ]
  },
  {
   "cell_type": "code",
   "execution_count": 72,
   "metadata": {
    "ExecuteTime": {
     "end_time": "2022-04-10T22:01:15.802810Z",
     "start_time": "2022-04-10T22:01:15.741204Z"
    }
   },
   "outputs": [],
   "source": [
    "d2v.save('d2v-vectors.pkl')"
   ]
  },
  {
   "cell_type": "code",
   "execution_count": 73,
   "metadata": {
    "ExecuteTime": {
     "end_time": "2022-04-10T22:01:17.101015Z",
     "start_time": "2022-04-10T22:01:17.093596Z"
    }
   },
   "outputs": [
    {
     "data": {
      "text/plain": [
       "(32567, 100)"
      ]
     },
     "execution_count": 73,
     "metadata": {},
     "output_type": "execute_result"
    }
   ],
   "source": [
    "# matrix of all document vectors:\n",
    "D = d2v.docvecs.vectors_docs\n",
    "D.shape"
   ]
  },
  {
   "cell_type": "code",
   "execution_count": 74,
   "metadata": {
    "ExecuteTime": {
     "end_time": "2022-04-10T22:01:17.542769Z",
     "start_time": "2022-04-10T22:01:17.532149Z"
    }
   },
   "outputs": [
    {
     "data": {
      "text/plain": [
       "array([[-0.00688008, -0.03324172, -0.002262  , ..., -0.03222517,\n",
       "        -0.03008028, -0.01603696],\n",
       "       [-0.00156185, -0.0246558 , -0.00116728, ..., -0.02875725,\n",
       "        -0.02437459, -0.01117671],\n",
       "       [-0.00986487, -0.03112971, -0.00079627, ..., -0.02057876,\n",
       "        -0.02645883, -0.00968581],\n",
       "       ...,\n",
       "       [ 0.00487648,  0.00353119, -0.01456244, ..., -0.01153762,\n",
       "         0.00012971, -0.00189827],\n",
       "       [-0.00289635, -0.03021026,  0.00557924, ..., -0.02844091,\n",
       "        -0.02387241, -0.01153054],\n",
       "       [-0.00594072, -0.01562393,  0.00262342, ..., -0.01402172,\n",
       "        -0.0095615 , -0.00345104]], dtype=float32)"
      ]
     },
     "execution_count": 74,
     "metadata": {},
     "output_type": "execute_result"
    }
   ],
   "source": [
    "D"
   ]
  },
  {
   "cell_type": "code",
   "execution_count": 75,
   "metadata": {
    "ExecuteTime": {
     "end_time": "2022-04-10T22:01:33.980190Z",
     "start_time": "2022-04-10T22:01:33.968294Z"
    }
   },
   "outputs": [],
   "source": [
    "# infer vectors for new documents\n",
    "a = d2v.infer_vector(['the judge on the court'])\n",
    "\n",
    "b = d2v.infer_vector(['the jury and the judge'])\n",
    "\n",
    "c = d2v.infer_vector(['cats hunt mice'])"
   ]
  },
  {
   "cell_type": "code",
   "execution_count": 76,
   "metadata": {
    "ExecuteTime": {
     "end_time": "2022-04-10T22:01:39.603950Z",
     "start_time": "2022-04-10T22:01:39.587635Z"
    }
   },
   "outputs": [
    {
     "name": "stdout",
     "output_type": "stream",
     "text": [
      "[[-0.11327155]]\n",
      "[[0.09476608]]\n"
     ]
    }
   ],
   "source": [
    "a.shape, b.shape\n",
    "print(cosine_similarity(np.expand_dims(a, axis=0), np.expand_dims(b, axis=0)))\n",
    "print(cosine_similarity(np.expand_dims(a, axis=0), np.expand_dims(c, axis=0)))\n"
   ]
  },
  {
   "cell_type": "code",
   "execution_count": 77,
   "metadata": {
    "ExecuteTime": {
     "end_time": "2022-04-10T22:02:28.961360Z",
     "start_time": "2022-04-10T22:02:26.108020Z"
    }
   },
   "outputs": [
    {
     "data": {
      "text/plain": [
       "(32567, 32567)"
      ]
     },
     "execution_count": 77,
     "metadata": {},
     "output_type": "execute_result"
    }
   ],
   "source": [
    "# get all pair-wise document similarities\n",
    "pairwise_sims = cosine_similarity(D)\n",
    "pairwise_sims.shape"
   ]
  },
  {
   "cell_type": "code",
   "execution_count": 78,
   "metadata": {
    "ExecuteTime": {
     "end_time": "2022-04-10T22:02:33.900267Z",
     "start_time": "2022-04-10T22:02:33.886454Z"
    }
   },
   "outputs": [
    {
     "data": {
      "text/plain": [
       "array([[1.        , 0.9648808 , 0.9575009 ],\n",
       "       [0.9648808 , 1.        , 0.94865024],\n",
       "       [0.9575009 , 0.94865024, 1.0000005 ]], dtype=float32)"
      ]
     },
     "execution_count": 78,
     "metadata": {},
     "output_type": "execute_result"
    }
   ],
   "source": [
    "pairwise_sims[:3,:3]"
   ]
  },
  {
   "cell_type": "code",
   "execution_count": 79,
   "metadata": {
    "ExecuteTime": {
     "end_time": "2022-04-10T22:02:49.569017Z",
     "start_time": "2022-04-10T22:02:39.268531Z"
    }
   },
   "outputs": [
    {
     "data": {
      "text/plain": [
       "KMeans(n_clusters=50)"
      ]
     },
     "execution_count": 79,
     "metadata": {},
     "output_type": "execute_result"
    }
   ],
   "source": [
    "# Document clusters\n",
    "from sklearn.cluster import KMeans\n",
    "\n",
    "# create 50 clusters of similar documents\n",
    "num_clusters = 50\n",
    "kmw = KMeans(n_clusters=num_clusters)\n",
    "kmw.fit(D)"
   ]
  },
  {
   "cell_type": "code",
   "execution_count": 80,
   "metadata": {
    "ExecuteTime": {
     "end_time": "2022-04-10T22:02:49.589774Z",
     "start_time": "2022-04-10T22:02:49.570036Z"
    }
   },
   "outputs": [
    {
     "name": "stdout",
     "output_type": "stream",
     "text": [
      "Ill.Dec . , N.E . d . In cases\n",
      "a part of the record in cases in which\n",
      "enactment of the Antiterrorism and Effective Death Penalty Act\n",
      "understood the Commonwealth is seeking the death penalty which\n",
      "jurisdiction upon the Appellate Court. & quot ; Even\n",
      "chapter provided , except in those cases where the\n",
      "Public Acts of as imposes a mandatory death penalty\n",
      "paragraph one of the syllabus , vacated as to\n",
      "Supreme Court held that a defendant facing the death\n",
      "series of statutory sections relating to the death penalty\n",
      "; state [ was ] involved in [ the\n",
      "signed into law the Antiterrorism and Effective Death Penalty\n",
      "felonies less than capital in a case in which\n",
      "LE d ) , has held that the imposition\n",
      ") , Ill. d , N.E . d (\n",
      "gratuitous statement of preference for the death penalty does\n",
      "enactment of the Anti-terrorism and Effective Death Penalty Act\n",
      "for mental retardation and imposition of the death penalty\n",
      "as to whether or not to seek the death\n",
      "Henderson v. State , supra . Our review of\n",
      "The arguments as to constitutionality of the death penalty\n",
      "numerous pretrial motions , many relating to the death\n",
      "was expected and that there was a fear of\n",
      "practice . The trial of a case involving the\n",
      "deadlocked with respect to the imposition of the death\n",
      "questions necessary for the imposition of the death penalty\n",
      "the inmate understands the reasons for the death penalty\n",
      "petition . Prior to the Antiterrorism and Effective Death\n",
      "chapter provided , except in those cases where the\n",
      "required to be present before a jury may fix\n",
      "categorical restrictions on implemen- tation of the death penalty\n",
      "possible sentence since the State did not seek the\n",
      "fundamentally fair proceeding ; and ( ) whether the\n",
      "sentence available to the trial court was the death\n",
      "which the applicant seeks relief from a non-death-penalty felony\n",
      "several of our cases reflect the reality of death\n",
      "Patricia Palmer April Felony ( non-Death Penalty ) Published\n",
      "deliberate , premeditated murder was followed by the death\n",
      ", who was investigating whether to seek the death\n",
      "because he received a life sentence and not the\n",
      "circumstances necessary for imposition of the death penalty )\n",
      "the Commonwealth & # ; s intention to seek\n"
     ]
    }
   ],
   "source": [
    "# Documents from an example cluster\n",
    "for i, doc in enumerate(docs):\n",
    "    if kmw.labels_[i] == 25:\n",
    "        print(' '.join(doc[:9]))\n",
    "    if i == 1000:\n",
    "        break"
   ]
  },
  {
   "cell_type": "code",
   "execution_count": null,
   "metadata": {
    "ExecuteTime": {
     "end_time": "2022-04-10T10:41:35.580953Z",
     "start_time": "2022-04-10T10:41:35.572012Z"
    }
   },
   "outputs": [],
   "source": [
    "# t-SNE for visualization\n",
    "# from sklearn.manifold import TSNE\n",
    "# tsne = TSNE(n_components=2, verbose=1, perplexity=50, n_iter=300)\n",
    "# d2v_tsne = tsne.fit_transform(D)"
   ]
  },
  {
   "cell_type": "code",
   "execution_count": 81,
   "metadata": {
    "ExecuteTime": {
     "end_time": "2022-04-10T22:02:49.776640Z",
     "start_time": "2022-04-10T22:02:49.592581Z"
    }
   },
   "outputs": [
    {
     "data": {
      "text/plain": [
       "array([0.77038383, 0.06582018, 0.03675219], dtype=float32)"
      ]
     },
     "execution_count": 81,
     "metadata": {},
     "output_type": "execute_result"
    }
   ],
   "source": [
    "from sklearn.decomposition import PCA\n",
    "pca = PCA(n_components=3,svd_solver='randomized')\n",
    "Xpca = pca.fit_transform(D)\n",
    "pca.explained_variance_ratio_"
   ]
  },
  {
   "cell_type": "code",
   "execution_count": null,
   "metadata": {
    "ExecuteTime": {
     "end_time": "2022-04-10T10:41:39.170694Z",
     "start_time": "2022-04-10T10:41:39.165484Z"
    }
   },
   "outputs": [],
   "source": [
    "#vdf = pd.DataFrame(Xpca,\n",
    "#                  columns=['x-tsne', 'y-tsne'])\n",
    "#vdf['cluster'] = kmw.labels_"
   ]
  },
  {
   "cell_type": "code",
   "execution_count": 82,
   "metadata": {
    "ExecuteTime": {
     "end_time": "2022-04-10T22:02:50.544058Z",
     "start_time": "2022-04-10T22:02:50.307207Z"
    }
   },
   "outputs": [
    {
     "data": {
      "image/png": "[encoded data removed]",
      "text/plain": [
       "<Figure size 432x288 with 1 Axes>"
      ]
     },
     "metadata": {
      "needs_background": "light"
     },
     "output_type": "display_data"
    }
   ],
   "source": [
    "#%% PCA Viz\n",
    "import matplotlib.pyplot as plt\n",
    "\n",
    "#plt.scatter(Xpca[:,0],Xpca[:,1], alpha=.1)\n",
    "\n",
    "cdict = {1: 'red', 2: 'blue', 3: 'green'}\n",
    "fig, ax = plt.subplots()\n",
    "#for g, label in cdict.items():\n",
    "for g in np.unique(kmw.labels_):\n",
    "    ix = np.where(kmw.labels_ == g)\n",
    "    #ix = np.where(kmw == g)\n",
    "    #    ax.scatter(scatter_x[ix], scatter_y[ix], c = cdict[g], label = g, s = 100)\n",
    "    if g in cdict:\n",
    "        # use color from cdict\n",
    "        color = cdict[g]\n",
    "        ax.scatter(Xpca[:,0][ix], Xpca[:,1][ix], c = color, label = g, s = 100, alpha=0.1)\n",
    "    else:\n",
    "        if g < 10:\n",
    "            color = \"black\"\n",
    "            ax.scatter(Xpca[:,0][ix], Xpca[:,1][ix], c = color, label = g, s = 100, alpha=0.01)\n",
    "    \n",
    "\n",
    "        \n",
    "ax.legend()\n",
    "plt.show()"
   ]
  },
  {
   "cell_type": "code",
   "execution_count": null,
   "metadata": {
    "ExecuteTime": {
     "end_time": "2022-04-10T10:41:43.032345Z",
     "start_time": "2022-04-10T10:41:43.021170Z"
    }
   },
   "outputs": [],
   "source": [
    "# sample 100 texts to show different document embeddings techniques\n",
    "\n",
    "texts = df1[\"snippet\"][:100]\n",
    "text = texts[0]\n",
    "text, texts"
   ]
  },
  {
   "cell_type": "markdown",
   "metadata": {},
   "source": [
    "**Other types of Document Embeddings**"
   ]
  },
  {
   "cell_type": "code",
   "execution_count": 83,
   "metadata": {
    "ExecuteTime": {
     "end_time": "2022-04-10T22:03:00.364449Z",
     "start_time": "2022-04-10T22:03:00.017915Z"
    }
   },
   "outputs": [
    {
     "data": {
      "text/plain": [
       "array([ 0.04008213,  0.0177352 ,  0.15708926, -0.0859902 ,  0.08302165,\n",
       "       -0.1916263 , -0.42941216,  0.08636231,  0.1072958 ,  0.09222322,\n",
       "        0.03945342, -0.11509437, -0.02390743, -0.04594674,  0.3165045 ,\n",
       "        0.17403561, -0.09391474, -0.04491444,  0.215745  ,  0.1403297 ,\n",
       "        0.00071583, -0.2215382 ,  0.23657532,  0.21325368,  0.00507971,\n",
       "       -0.17327744, -0.2302382 , -0.48890978,  0.243143  , -0.26164663,\n",
       "        0.12965454, -0.2646581 ,  0.42853937, -0.02864659,  0.2591034 ,\n",
       "       -0.279786  , -0.02469642,  0.10324604,  0.0250174 ,  0.01916229,\n",
       "       -0.3460816 , -0.09573887,  0.38573962, -0.05293633, -0.12193681,\n",
       "       -0.05869852,  0.06743139, -0.24440847,  0.18216322,  0.04186251,\n",
       "       -0.07164774,  0.03959379,  0.15969723, -0.00188436,  0.14734301,\n",
       "       -0.01418862, -0.13632214,  0.02214633,  0.16401884, -0.10532392,\n",
       "       -0.3264483 , -0.06745633, -0.13638985, -0.11525523, -0.10350735,\n",
       "       -0.06082028,  0.01643252,  0.01267994, -0.03538121, -0.4534264 ,\n",
       "        0.12125137,  0.07296628, -0.05471262,  0.18449974,  0.07788913,\n",
       "       -0.24514908, -0.21065988, -0.06859383,  0.3035979 , -0.3254647 ,\n",
       "        0.2027352 ,  0.11334564, -0.03406052,  0.2012625 ,  0.04741478,\n",
       "        0.11376823,  0.03592171,  0.22033197,  0.12974234, -0.04799931,\n",
       "       -0.17536901,  0.18192233, -0.09922472,  0.02545337,  0.10404742,\n",
       "        0.3006423 ], dtype=float32)"
      ]
     },
     "execution_count": 83,
     "metadata": {},
     "output_type": "execute_result"
    }
   ],
   "source": [
    "# spacy embeddings (= averaged gloVe embeddings)\n",
    "\n",
    "import spacy\n",
    "nlp = spacy.load('en_core_web_sm')\n",
    "\n",
    "doc = nlp(text)\n",
    "doc.vector"
   ]
  },
  {
   "cell_type": "markdown",
   "metadata": {},
   "source": [
    "**Uinversal Sentence Encoder**"
   ]
  },
  {
   "cell_type": "code",
   "execution_count": null,
   "metadata": {
    "ExecuteTime": {
     "end_time": "2022-04-10T22:03:05.598937Z",
     "start_time": "2022-04-10T22:03:04.178211Z"
    }
   },
   "outputs": [],
   "source": [
    "# universal sentence encoder\n",
    "!pip install --upgrade tensorflow-hub"
   ]
  },
  {
   "cell_type": "code",
   "execution_count": 85,
   "metadata": {
    "ExecuteTime": {
     "end_time": "2022-04-10T22:03:18.351226Z",
     "start_time": "2022-04-10T22:03:10.996762Z"
    }
   },
   "outputs": [
    {
     "name": "stdout",
     "output_type": "stream",
     "text": [
      "module https://tfhub.dev/google/universal-sentence-encoder/4 loaded\n"
     ]
    },
    {
     "name": "stderr",
     "output_type": "stream",
     "text": [
      "2022-04-11 00:03:13.207909: I tensorflow/core/common_runtime/pluggable_device/pluggable_device_factory.cc:305] Could not identify NUMA node of platform GPU ID 0, defaulting to 0. Your kernel may not have been built with NUMA support.\n",
      "2022-04-11 00:03:13.207939: I tensorflow/core/common_runtime/pluggable_device/pluggable_device_factory.cc:271] Created TensorFlow device (/job:localhost/replica:0/task:0/device:GPU:0 with 0 MB memory) -> physical PluggableDevice (device: 0, name: METAL, pci bus id: <undefined>)\n",
      "2022-04-11 00:03:13.421144: I tensorflow/core/grappler/optimizers/custom_graph_optimizer_registry.cc:113] Plugin optimizer for device_type GPU is enabled.\n",
      "2022-04-11 00:03:14.162974: W tensorflow/core/common_runtime/colocation_graph.cc:1203] Failed to place the graph without changing the devices of some resources. Some of the operations (that had to be colocated with resource generating operations) are not supported on the resources' devices. Current candidate devices are [\n",
      "  /job:localhost/replica:0/task:0/device:CPU:0].\n",
      "See below for details of this colocation group:\n",
      "Colocation Debug Info:\n",
      "Colocation group had the following types and supported devices: \n",
      "Root Member(assigned_device_name_index_=-1 requested_device_name_='/job:localhost/replica:0/task:0/device:GPU:0' assigned_device_name_='' resource_device_name_='/job:localhost/replica:0/task:0/device:GPU:0' supported_device_types_=[CPU] possible_devices_=[]\n",
      "LookupTableImportV2: CPU \n",
      "HashTableV2: CPU \n",
      "\n",
      "Colocation members, user-requested devices, and framework assigned devices, if any:\n",
      "  StatefulPartitionedCall/StatefulPartitionedCall/StatefulPartitionedCall/text_preprocessor/hash_table (HashTableV2) /job:localhost/replica:0/task:0/device:GPU:0\n",
      "  StatefulPartitionedCall/StatefulPartitionedCall/StatefulPartitionedCall/text_preprocessor/key_value_init/LookupTableImportV2 (LookupTableImportV2) /job:localhost/replica:0/task:0/device:GPU:0\n",
      "\n",
      "2022-04-11 00:03:14.163012: W tensorflow/core/common_runtime/colocation_graph.cc:1203] Failed to place the graph without changing the devices of some resources. Some of the operations (that had to be colocated with resource generating operations) are not supported on the resources' devices. Current candidate devices are [\n",
      "  /job:localhost/replica:0/task:0/device:CPU:0].\n",
      "See below for details of this colocation group:\n",
      "Colocation Debug Info:\n",
      "Colocation group had the following types and supported devices: \n",
      "Root Member(assigned_device_name_index_=-1 requested_device_name_='/job:localhost/replica:0/task:0/device:GPU:0' assigned_device_name_='' resource_device_name_='/job:localhost/replica:0/task:0/device:GPU:0' supported_device_types_=[CPU] possible_devices_=[]\n",
      "LookupTableImportV2: CPU \n",
      "HashTableV2: CPU \n",
      "\n",
      "Colocation members, user-requested devices, and framework assigned devices, if any:\n",
      "  StatefulPartitionedCall_2/StatefulPartitionedCall/StatefulPartitionedCall/text_preprocessor/hash_table (HashTableV2) /job:localhost/replica:0/task:0/device:GPU:0\n",
      "  StatefulPartitionedCall_2/StatefulPartitionedCall/StatefulPartitionedCall/text_preprocessor/key_value_init/LookupTableImportV2 (LookupTableImportV2) /job:localhost/replica:0/task:0/device:GPU:0\n",
      "\n",
      "2022-04-11 00:03:17.217831: I tensorflow/core/grappler/optimizers/custom_graph_optimizer_registry.cc:113] Plugin optimizer for device_type GPU is enabled.\n",
      "2022-04-11 00:03:18.051488: I tensorflow/core/grappler/optimizers/custom_graph_optimizer_registry.cc:113] Plugin optimizer for device_type GPU is enabled.\n"
     ]
    }
   ],
   "source": [
    "import tensorflow.compat.v1 as tf\n",
    "tf.disable_eager_execution()\n",
    "\n",
    "import tensorflow_hub as hub\n",
    "import numpy as np\n",
    "\n",
    "module_url = \"https://tfhub.dev/google/universal-sentence-encoder/4\"\n",
    "model = hub.load(module_url)\n",
    "print (\"module %s loaded\" % module_url)\n",
    "def embed(input):\n",
    "    return model(input)\n",
    "\n",
    "embeddings = embed([text])\n",
    "\n",
    "with tf.Session() as session:\n",
    "    session.run([tf.global_variables_initializer(), tf.tables_initializer()])\n",
    "    text_encoded = session.run(embeddings)\n",
    "\n"
   ]
  },
  {
   "cell_type": "code",
   "execution_count": 86,
   "metadata": {
    "ExecuteTime": {
     "end_time": "2022-04-10T22:03:21.273565Z",
     "start_time": "2022-04-10T22:03:21.258407Z"
    }
   },
   "outputs": [
    {
     "data": {
      "text/plain": [
       "array([[-5.75881787e-02, -4.48678993e-02, -5.97575605e-02,\n",
       "        -9.60366335e-03,  4.87336107e-02, -7.14330003e-02,\n",
       "         5.63876238e-03, -4.17736471e-02,  6.94411173e-02,\n",
       "        -7.18879700e-02,  4.38294373e-02,  4.96255197e-02,\n",
       "         2.92646624e-02,  5.06394245e-02,  5.02831191e-02,\n",
       "        -5.43750636e-02,  1.20516934e-05,  3.34072635e-02,\n",
       "        -2.29961034e-02,  5.17977625e-02,  1.33965574e-02,\n",
       "         2.34781709e-02,  6.57833889e-02, -2.41349824e-02,\n",
       "        -5.89741282e-02,  4.48849648e-02,  8.91339593e-03,\n",
       "        -1.31372558e-02, -5.10082208e-02,  8.32207967e-03,\n",
       "         3.43775637e-02, -6.50016367e-02,  3.18927504e-02,\n",
       "        -5.33328839e-02, -6.16215952e-02, -6.11270331e-02,\n",
       "        -4.20963466e-02,  1.39375580e-02,  6.44143624e-03,\n",
       "         6.65995479e-02, -3.60511541e-02, -1.41065773e-02,\n",
       "        -7.03564053e-03, -4.17812392e-02, -4.14931811e-02,\n",
       "         5.47353178e-02,  2.42106803e-02, -6.66408911e-02,\n",
       "        -3.75429988e-02, -5.52068166e-02, -5.62858656e-02,\n",
       "         2.34166756e-02, -2.45940668e-04, -3.62469107e-02,\n",
       "         5.84556200e-02, -1.19022224e-02,  1.35805942e-02,\n",
       "        -2.09912900e-02,  2.57178042e-02,  3.68851908e-02,\n",
       "         2.89554968e-02, -7.16966093e-02, -6.71194345e-02,\n",
       "        -5.62569909e-02, -6.26460835e-02, -2.31801881e-03,\n",
       "         6.46448869e-04, -3.25500742e-02,  5.84330820e-02,\n",
       "        -2.78239287e-02, -4.40593399e-02,  5.00813685e-02,\n",
       "         5.45638613e-02,  1.52424136e-02, -5.16110957e-02,\n",
       "         5.53971827e-02, -3.97276729e-02, -7.19111413e-03,\n",
       "        -3.19625176e-02,  2.81222351e-02,  3.27160843e-02,\n",
       "         5.26327640e-02,  4.08335887e-02, -3.97042371e-02,\n",
       "         3.92537639e-02,  5.15507795e-02, -2.43257564e-02,\n",
       "        -6.83559999e-02, -5.75247630e-02, -3.89335328e-03,\n",
       "         1.27131874e-02, -3.56011130e-02, -2.78743301e-02,\n",
       "         5.00874557e-02,  3.39257605e-02,  6.18343800e-02,\n",
       "        -2.88681518e-02, -4.27132547e-02,  6.71129450e-02,\n",
       "         5.30268997e-02,  4.23771255e-02,  3.84856872e-02,\n",
       "         4.57194448e-02, -3.67693487e-03, -5.01842164e-02,\n",
       "         6.35010004e-02,  4.45687845e-02,  5.41359596e-02,\n",
       "        -5.20542748e-02,  1.92874931e-02, -7.18637630e-02,\n",
       "        -6.90566823e-02, -4.43461724e-02,  1.80852246e-02,\n",
       "         3.60683873e-02, -4.42595705e-02,  9.48084425e-03,\n",
       "        -5.13651334e-02,  5.69242500e-02, -1.87393483e-02,\n",
       "        -6.36358187e-02, -3.11254449e-02,  7.12575465e-02,\n",
       "        -4.92579229e-02,  4.56739441e-02,  6.21738881e-02,\n",
       "        -3.58330309e-02,  6.19080067e-02,  8.33679363e-03,\n",
       "         3.22548347e-03,  1.78056266e-02, -1.57814436e-02,\n",
       "         4.56121266e-02, -5.28710708e-02,  3.03336717e-02,\n",
       "         2.72688679e-02,  5.19837067e-02,  5.69335595e-02,\n",
       "        -5.39881848e-02,  4.87620272e-02,  7.18623921e-02,\n",
       "         6.92109466e-02, -5.36522865e-02, -2.25441437e-02,\n",
       "        -7.18903691e-02,  6.36499524e-02,  2.57652719e-02,\n",
       "        -5.78045193e-03,  6.10490739e-02,  5.43593280e-02,\n",
       "        -5.25526144e-02, -5.05263954e-02,  7.14830011e-02,\n",
       "        -3.80055234e-03,  4.57900427e-02, -7.76314363e-03,\n",
       "        -5.10090105e-02,  4.71490435e-02,  4.91745062e-02,\n",
       "         7.18597770e-02,  4.81418744e-02, -5.28066233e-02,\n",
       "        -4.31954339e-02,  2.21855305e-02, -6.72398284e-02,\n",
       "         1.58195496e-02,  1.06483120e-02,  6.10979125e-02,\n",
       "         2.03975420e-02,  5.90458214e-02,  6.61262274e-02,\n",
       "        -7.11063370e-02, -2.88641341e-02, -3.73625606e-02,\n",
       "         6.65676370e-02, -1.31539321e-02, -9.93636157e-03,\n",
       "         6.18681423e-02, -7.18846843e-02, -4.59878147e-02,\n",
       "        -4.03941832e-02,  5.80870174e-02, -4.69688466e-03,\n",
       "        -1.30658988e-02,  1.55198425e-02, -2.29557324e-03,\n",
       "         3.90610434e-02,  5.84164076e-02,  3.44378352e-02,\n",
       "         1.14671728e-02,  5.57489172e-02,  7.18900412e-02,\n",
       "         6.16836511e-02,  6.13204157e-03,  2.58542262e-02,\n",
       "        -1.91231240e-02, -6.28645346e-02, -4.68324050e-02,\n",
       "        -8.45320243e-03, -2.05094293e-02,  5.91697544e-02,\n",
       "         1.18468935e-02,  4.86733057e-02, -6.37313351e-02,\n",
       "        -4.10703197e-02,  1.00923236e-02,  2.75566317e-02,\n",
       "        -1.09474408e-02,  3.35147791e-02, -7.18838722e-02,\n",
       "        -6.06815852e-02, -9.03250743e-03,  8.79596826e-03,\n",
       "         2.02519577e-02, -6.49900585e-02, -2.27649380e-02,\n",
       "         6.28081709e-02,  5.56488521e-03,  2.62935050e-02,\n",
       "        -4.88502569e-02, -4.90821563e-02, -4.24844287e-02,\n",
       "        -2.74451450e-02, -5.56749292e-02, -4.44267467e-02,\n",
       "         1.38691235e-02,  4.11525555e-02,  9.12546366e-03,\n",
       "        -1.84297543e-02,  5.44146448e-03, -6.10671900e-02,\n",
       "         3.46029252e-02,  5.15771285e-02, -7.18844235e-02,\n",
       "         8.55939649e-03,  5.87392673e-02,  3.58931982e-04,\n",
       "         7.14616030e-02, -1.77089032e-02, -2.76564294e-03,\n",
       "        -3.19173075e-02, -4.48681004e-02,  1.39334090e-02,\n",
       "        -5.99155352e-02,  6.55213743e-02,  6.57882821e-03,\n",
       "        -1.92191843e-02, -1.93697512e-02, -6.52742833e-02,\n",
       "         2.90091317e-02,  6.90639094e-02,  8.59377999e-03,\n",
       "        -2.36414503e-02, -8.51772632e-03,  6.23870008e-02,\n",
       "         1.03973327e-02,  6.47296458e-02,  7.18750432e-02,\n",
       "        -8.68872367e-03, -4.06991616e-02,  6.25571311e-02,\n",
       "        -4.98059466e-02, -2.65888795e-02,  4.07539010e-02,\n",
       "         2.44097505e-02,  5.53742163e-02,  2.15645302e-02,\n",
       "         3.31456512e-02,  2.05952637e-02, -3.68103683e-02,\n",
       "         1.69058759e-02,  4.55088094e-02,  6.15946203e-02,\n",
       "        -4.88847159e-02,  1.56314895e-02, -1.77674685e-02,\n",
       "        -5.70891425e-02,  3.47142154e-03,  7.02950731e-02,\n",
       "         2.54506022e-02, -2.04104595e-02,  1.24837440e-02,\n",
       "        -4.79192659e-02,  7.93967489e-03, -3.98793630e-02,\n",
       "        -5.60253002e-02,  4.24294621e-02,  5.31271547e-02,\n",
       "        -2.19230168e-02,  2.46288609e-02,  4.61324118e-02,\n",
       "         1.19957011e-02,  5.35853393e-02,  9.46210511e-03,\n",
       "         4.40840349e-02, -4.90906946e-02, -3.48378681e-02,\n",
       "         7.16276616e-02, -2.99495924e-02,  4.54113856e-02,\n",
       "        -1.92826744e-02, -5.54252826e-02,  4.01891358e-02,\n",
       "         6.72287345e-02, -1.74281318e-02, -6.63687289e-02,\n",
       "         3.01694870e-02, -6.47938028e-02,  1.15545671e-02,\n",
       "        -3.54526304e-02,  6.98282495e-02, -3.98734733e-02,\n",
       "         6.84608296e-02, -2.64858063e-02,  5.59238456e-02,\n",
       "         6.41909987e-02,  1.15259448e-02, -4.49630693e-02,\n",
       "         4.60576545e-03,  3.60007845e-02,  6.65078289e-04,\n",
       "        -3.20599973e-02, -2.41627246e-02,  1.45808971e-02,\n",
       "         3.39585282e-02,  7.02204555e-02,  7.14001730e-02,\n",
       "         5.54939806e-02, -5.05201891e-02,  3.53366323e-02,\n",
       "         1.66026596e-02,  6.97467327e-02, -6.33646175e-02,\n",
       "         6.93330690e-02,  6.81502745e-02, -5.22747710e-02,\n",
       "         5.11308759e-02,  6.03152402e-02,  1.54766324e-03,\n",
       "        -4.86813709e-02, -2.00195108e-02, -9.76821221e-03,\n",
       "         5.54402918e-02,  6.71509653e-02,  1.12499408e-02,\n",
       "         3.35167075e-04, -2.76185875e-03,  2.82902159e-02,\n",
       "        -3.01806033e-02, -5.57862185e-02, -7.17834979e-02,\n",
       "         4.27322052e-02, -4.05780114e-02,  5.37222028e-02,\n",
       "         6.80401847e-02,  5.77598810e-02, -7.12140948e-02,\n",
       "         3.44145633e-02, -4.17619832e-02,  5.66201583e-02,\n",
       "         3.71359028e-02, -6.93786368e-02,  5.22317365e-02,\n",
       "         2.56414283e-02, -3.39727402e-02, -6.25362247e-02,\n",
       "         6.28085583e-02,  7.93616194e-03,  3.05271614e-02,\n",
       "        -5.42375036e-02, -2.29322594e-02, -2.89751906e-02,\n",
       "        -6.76442236e-02,  6.71091527e-02, -2.92269494e-02,\n",
       "         4.58852053e-02,  2.99971718e-02, -3.91375758e-02,\n",
       "         4.01773006e-02, -3.43686156e-02, -5.56034558e-02,\n",
       "        -7.04385266e-02, -7.17255995e-02, -2.47399155e-02,\n",
       "         5.56181557e-02,  2.13596318e-03,  2.79179160e-02,\n",
       "         4.69978601e-02,  5.42859100e-02,  2.73393672e-02,\n",
       "        -2.62995344e-02,  2.75041945e-02, -2.63685118e-02,\n",
       "        -2.43714899e-02,  4.29801457e-02,  4.58339378e-02,\n",
       "        -3.69191244e-02, -7.16732070e-02, -4.65590972e-03,\n",
       "        -6.04898408e-02, -4.97303903e-02,  1.98242366e-02,\n",
       "         2.58897766e-02, -5.98924756e-02,  1.13050388e-02,\n",
       "         1.07481312e-02,  1.24368658e-02,  4.68694232e-02,\n",
       "        -4.62102219e-02, -2.88291592e-02, -3.94758321e-02,\n",
       "         5.59999347e-02, -4.83375378e-02, -4.25436087e-02,\n",
       "         6.22376874e-02,  4.49057110e-03,  4.49034162e-02,\n",
       "         3.95164192e-02, -6.85119331e-02,  4.59303930e-02,\n",
       "        -6.20506071e-02,  5.81143051e-03,  6.83963150e-02,\n",
       "        -6.26238510e-02, -1.50271570e-02, -6.09554537e-02,\n",
       "         3.60577144e-02,  6.80441037e-02,  5.00816405e-02,\n",
       "        -5.22402935e-02,  6.97130337e-02, -5.89712672e-02,\n",
       "         5.08954981e-03,  4.69409823e-02,  3.28420103e-02,\n",
       "        -8.32742266e-03,  2.56965999e-02,  5.77719249e-02,\n",
       "        -4.33300659e-02,  6.55276794e-03, -1.53169574e-04,\n",
       "        -5.91867119e-02, -1.64618269e-02,  4.24511321e-02,\n",
       "        -4.99092862e-02,  5.55542707e-02, -3.88963334e-02,\n",
       "         1.47706447e-02,  3.99326496e-02, -2.08780896e-02,\n",
       "        -2.22735535e-02,  1.65836997e-02, -6.55230880e-02,\n",
       "         5.91874868e-02,  5.63246831e-02,  4.82745133e-02,\n",
       "        -1.24469614e-02,  6.95365667e-02, -7.18903020e-02,\n",
       "        -1.47244530e-02,  3.94027941e-02,  4.40238304e-02,\n",
       "        -5.41731250e-03,  9.80533566e-03, -9.22516803e-04,\n",
       "         2.15122141e-02,  4.80176881e-02,  3.85323986e-02,\n",
       "        -6.39583692e-02,  9.30830371e-03, -3.02824508e-02,\n",
       "        -2.07148567e-02, -2.95436718e-02, -4.75762002e-02,\n",
       "        -4.97196503e-02, -6.81982096e-03, -2.27114707e-02,\n",
       "        -3.40812691e-02, -1.56523325e-02,  4.03554477e-02,\n",
       "        -6.81311637e-02,  5.11711426e-02,  1.28033319e-02,\n",
       "        -7.14039654e-02,  4.48546112e-02, -5.86881824e-02,\n",
       "        -1.12335924e-02, -3.90601084e-02, -5.56260757e-02,\n",
       "        -6.17771596e-02,  6.75841942e-02, -2.62047015e-02,\n",
       "        -3.53270094e-03, -1.00123081e-02,  2.11056718e-03,\n",
       "         4.17902842e-02, -7.53596716e-04, -4.04326953e-02,\n",
       "         3.47518921e-02, -2.96439417e-02,  6.02202211e-03,\n",
       "        -5.95282204e-02,  3.84532474e-02, -7.06549659e-02,\n",
       "         2.57007051e-02, -4.65198830e-02,  2.74120457e-02,\n",
       "         1.38046732e-02, -2.34183092e-02,  4.23506498e-02,\n",
       "        -3.62337418e-02,  4.67079394e-02]], dtype=float32)"
      ]
     },
     "execution_count": 86,
     "metadata": {},
     "output_type": "execute_result"
    }
   ],
   "source": [
    "text_encoded"
   ]
  },
  {
   "cell_type": "markdown",
   "metadata": {},
   "source": [
    "**SBERT**"
   ]
  },
  {
   "cell_type": "code",
   "execution_count": null,
   "metadata": {
    "ExecuteTime": {
     "end_time": "2022-04-10T22:03:28.442291Z",
     "start_time": "2022-04-10T22:03:27.150806Z"
    }
   },
   "outputs": [],
   "source": [
    "!pip install sentence-transformers"
   ]
  },
  {
   "cell_type": "code",
   "execution_count": 88,
   "metadata": {
    "ExecuteTime": {
     "end_time": "2022-04-10T22:03:39.423201Z",
     "start_time": "2022-04-10T22:03:29.650326Z"
    }
   },
   "outputs": [],
   "source": [
    "from sentence_transformers import SentenceTransformer\n",
    "model = \"bert-base-nli-mean-tokens\"\n",
    "embedder = SentenceTransformer(model)\n",
    "text_encoded = embedder.encode([text])"
   ]
  },
  {
   "cell_type": "code",
   "execution_count": 89,
   "metadata": {
    "ExecuteTime": {
     "end_time": "2022-04-10T22:03:39.448133Z",
     "start_time": "2022-04-10T22:03:39.424254Z"
    }
   },
   "outputs": [
    {
     "data": {
      "text/plain": [
       "array([[-4.94830877e-01, -3.07748497e-01,  2.38643706e-01,\n",
       "        -1.12242088e-01,  3.68263185e-01, -2.13435516e-01,\n",
       "         8.10863554e-01, -2.53932953e-01,  8.49518254e-02,\n",
       "         4.34113666e-02, -5.31976391e-03,  4.72682863e-01,\n",
       "         9.99898016e-02,  4.15400296e-01, -1.31251180e+00,\n",
       "         4.92496580e-01,  1.40618965e-01, -3.23016405e-01,\n",
       "         1.41713113e-01, -3.53501767e-01,  4.34755124e-02,\n",
       "        -7.69813284e-02,  2.29930565e-01,  5.27145088e-01,\n",
       "         9.18621957e-01,  6.17869377e-01, -5.80663979e-01,\n",
       "         2.21835390e-01, -7.82553732e-01,  5.84526539e-01,\n",
       "        -1.58552885e-01,  2.56739974e-01, -1.15312052e+00,\n",
       "         5.24774147e-03,  6.55010790e-02,  5.42442918e-01,\n",
       "         1.94232747e-01, -1.94006234e-01,  2.46752918e-01,\n",
       "         1.75805941e-01, -6.84098899e-01,  1.05391644e-01,\n",
       "        -3.26745480e-01, -2.70014167e-01, -1.21031687e-01,\n",
       "        -4.18343127e-01,  1.40245140e+00,  4.35338885e-01,\n",
       "         9.15403128e-01, -1.82648510e-01,  3.20812970e-01,\n",
       "        -3.37160751e-02,  2.50563890e-01,  6.34266138e-01,\n",
       "        -8.73689950e-02, -3.58801365e-01,  2.10093901e-01,\n",
       "        -1.33581209e+00, -5.36160886e-01, -6.65950656e-01,\n",
       "        -1.74879730e+00,  1.99232250e-01,  3.76123965e-01,\n",
       "         7.68951848e-02, -2.29368180e-01,  6.20273769e-01,\n",
       "         3.97533029e-02,  4.03672516e-01, -6.55951083e-01,\n",
       "        -1.03310621e+00, -2.63909191e-01, -6.79480135e-01,\n",
       "        -3.81375343e-01, -2.27513894e-01,  1.59781680e-01,\n",
       "         3.76415849e-02,  4.05864418e-01, -4.15389508e-01,\n",
       "         5.55446982e-01,  9.55577269e-02, -1.74441069e-01,\n",
       "         1.85953259e-01,  9.73319560e-02, -6.60529137e-02,\n",
       "         3.92818242e-01, -7.35286772e-02,  4.76899624e-01,\n",
       "        -1.57018512e-01,  5.07549234e-02,  2.37077892e-01,\n",
       "         3.44092309e-01,  8.78544331e-01,  2.68818200e-01,\n",
       "        -2.50640780e-01, -1.52339101e+00, -4.51913327e-02,\n",
       "         8.85809660e-01,  3.25627089e-01,  1.29080191e-01,\n",
       "         8.13653409e-01,  1.32442266e-01, -1.80368841e-01,\n",
       "         4.88336653e-01,  3.23032618e-01, -7.34839886e-02,\n",
       "        -3.91306221e-01,  5.74955165e-01, -2.41364852e-01,\n",
       "        -2.30796039e-01,  6.88165128e-01,  6.29660070e-01,\n",
       "        -4.35485452e-01,  6.02914631e-01, -1.38477728e-01,\n",
       "        -7.83147454e-01, -9.89373699e-02, -8.45814109e-01,\n",
       "         2.52879471e-01,  5.69936812e-01,  1.03368819e+00,\n",
       "         4.46311057e-01, -6.19129658e-01,  1.87330753e-01,\n",
       "         3.73134673e-01,  5.39432883e-01, -4.47433591e-01,\n",
       "         7.40260363e-01,  8.50257993e-01, -9.92434144e-01,\n",
       "         1.40863564e-03,  5.91125071e-01,  6.97640777e-01,\n",
       "        -5.67038879e-02, -1.40537411e-01, -4.68162924e-01,\n",
       "         3.42601001e-01,  2.83308458e-02, -1.23147416e+00,\n",
       "         8.01840782e-01, -1.70997515e-01, -6.10751547e-02,\n",
       "        -5.40796161e-01,  1.09734941e+00, -1.38616931e+00,\n",
       "        -3.00004780e-01, -3.02745700e-01,  8.50539863e-01,\n",
       "        -1.16842151e-01,  1.39101282e-01, -7.08590329e-01,\n",
       "         8.22295547e-02, -3.12403977e-01, -4.37126935e-01,\n",
       "         5.62887013e-01, -1.31694272e-01, -9.63340580e-01,\n",
       "         9.02550817e-02,  8.85739177e-02, -1.89751402e-01,\n",
       "         5.22285879e-01, -3.47676098e-01, -2.84024626e-01,\n",
       "         4.49691385e-01,  4.07626271e-01,  5.47265768e-01,\n",
       "        -5.35683692e-01,  3.94391656e-01, -3.08114946e-01,\n",
       "         2.83940822e-01, -1.85429841e-01, -7.28028476e-01,\n",
       "         1.73794433e-01,  1.53900158e+00, -4.30610150e-01,\n",
       "         1.77929342e+00,  7.27843165e-01, -8.05239230e-02,\n",
       "        -2.07652710e-02,  5.54295853e-02, -3.65855426e-01,\n",
       "        -2.92561799e-01,  9.74238992e-01, -1.18804169e+00,\n",
       "         6.00906789e-01, -1.50523305e-01, -8.61144483e-01,\n",
       "         3.98380011e-01, -2.03205302e-01,  5.86120665e-01,\n",
       "        -8.03967297e-01, -4.48113322e-01,  7.55534232e-01,\n",
       "         5.10871589e-01,  2.40429640e-01, -1.95607707e-01,\n",
       "        -3.24225396e-01, -2.33524963e-01,  6.46924794e-01,\n",
       "        -9.93757606e-01,  3.11269790e-01, -4.98780981e-02,\n",
       "         2.06499547e-01,  7.67876506e-01, -2.07203448e-01,\n",
       "        -5.49774706e-01,  4.98629600e-01,  1.14301980e-01,\n",
       "        -1.65153190e-01, -4.20421720e-01, -2.25722119e-01,\n",
       "        -4.42287952e-01,  9.59575623e-02, -3.01172227e-01,\n",
       "         4.29889321e-01,  1.27023891e-01, -6.14401400e-01,\n",
       "         2.54112512e-01, -6.83308005e-01,  1.71400285e+00,\n",
       "         1.70572087e-01,  3.94289255e-01,  5.01924753e-01,\n",
       "         6.54985458e-02,  8.14680457e-01, -5.14158681e-02,\n",
       "         6.97415888e-01, -6.13715291e-01, -1.43163860e-01,\n",
       "        -4.46613669e-01,  1.59437203e+00,  1.28557645e-02,\n",
       "         2.73687243e-01, -6.95271552e-01, -1.85752988e-01,\n",
       "        -1.97744101e-01, -2.98595577e-01, -1.40229356e+00,\n",
       "         1.20836131e-01,  7.58048058e-01, -7.09800363e-01,\n",
       "         4.02997583e-01,  2.24646419e-01,  6.67314112e-01,\n",
       "         5.27511120e-01, -1.84893832e-01, -9.13695768e-02,\n",
       "        -6.35023534e-01, -6.41418338e-01, -3.05117667e-01,\n",
       "         3.43878508e-01, -1.28545594e+00,  1.43706128e-02,\n",
       "         1.29957438e-01, -2.52062142e-01,  2.99791276e-01,\n",
       "        -2.33998105e-01,  3.63006257e-02,  5.39414585e-01,\n",
       "        -2.91223228e-01, -6.17981017e-01, -2.11941078e-01,\n",
       "         4.65131588e-02, -5.75435221e-01,  5.19803800e-02,\n",
       "        -7.05936372e-01, -2.27682274e-02, -6.45391166e-01,\n",
       "         8.46533597e-01, -1.01438844e+00,  3.46472472e-01,\n",
       "        -3.38977754e-01, -9.87775505e-01, -2.22396180e-01,\n",
       "         5.78691542e-01, -1.09522057e+00, -9.80645716e-02,\n",
       "        -5.43909669e-01, -6.53543994e-02,  4.18574661e-01,\n",
       "         3.87090176e-01,  5.32745600e-01,  3.55759203e-01,\n",
       "        -6.74407840e-01,  2.69138157e-01, -2.57262260e-01,\n",
       "         2.67571747e-01,  6.34925127e-01, -4.90366340e-01,\n",
       "        -5.59578121e-01,  2.01252073e-01, -3.93838406e-01,\n",
       "         1.76681191e-01,  1.61203340e-01, -3.14107060e-01,\n",
       "         4.18515414e-01, -4.87894118e-01,  6.08222723e-01,\n",
       "        -6.47856653e-01,  7.21287489e-01, -5.61722755e-01,\n",
       "        -1.73136696e-01, -4.82341588e-01, -1.12035789e-01,\n",
       "         1.14114344e+00, -5.84037900e-01,  3.75974536e-01,\n",
       "         1.78565025e-01,  6.72815859e-01, -8.25788602e-02,\n",
       "        -1.38282120e-01, -2.74486780e-01, -2.35197946e-01,\n",
       "         1.44599602e-01,  1.01501298e+00,  9.56065893e-01,\n",
       "        -6.69430077e-01, -1.37930617e-01, -4.91008580e-01,\n",
       "         4.16740805e-01, -5.25136888e-01,  5.88584304e-01,\n",
       "         1.94438368e-01,  1.83207735e-01, -9.93691105e-03,\n",
       "         1.56001702e-01, -1.17795753e+00,  9.85644907e-02,\n",
       "         1.83731064e-01,  2.78073460e-01, -8.67669404e-01,\n",
       "         2.32138634e-01, -8.50153089e-01,  1.09212291e+00,\n",
       "         8.63696873e-01,  2.08132789e-01,  5.28289497e-01,\n",
       "        -2.94759184e-01,  2.40429580e-01,  1.71171930e-02,\n",
       "        -5.64055681e-01,  1.46337068e+00, -6.49668694e-01,\n",
       "         5.11157960e-02,  6.73074782e-01,  1.16161332e-01,\n",
       "        -2.80185528e-02, -1.47454897e-02,  6.10694826e-01,\n",
       "        -5.56327283e-01, -4.62063067e-02, -1.84999868e-01,\n",
       "         6.29542232e-01,  5.68885028e-01,  2.78860331e-01,\n",
       "        -1.68804482e-01,  2.77573138e-01, -5.60225308e-01,\n",
       "         6.12227142e-01, -1.15501485e-03,  1.33354768e-01,\n",
       "        -4.84295994e-01,  5.84887028e-01, -7.33433783e-01,\n",
       "         1.73295625e-02, -1.39701545e-01,  5.58860302e-02,\n",
       "        -5.87092519e-01,  9.75126550e-02,  1.98314935e-01,\n",
       "        -5.33573687e-01, -4.68975842e-01,  6.87534213e-01,\n",
       "         1.27744719e-01, -3.82242590e-01, -4.84664053e-01,\n",
       "        -2.03487173e-01,  1.96507379e-01, -4.32732552e-01,\n",
       "        -1.80200636e-01, -5.15703149e-02, -4.52756315e-01,\n",
       "        -3.11417639e-01,  5.78519225e-01, -5.68013668e-01,\n",
       "        -4.54190940e-01, -6.62279904e-01,  3.42526942e-01,\n",
       "        -4.96873222e-02,  1.76707894e-01,  3.15550476e-01,\n",
       "        -6.29974669e-03,  3.19062412e-01, -8.42136443e-02,\n",
       "         6.78641126e-02,  2.92367697e-01,  8.25795680e-02,\n",
       "        -4.73762155e-01, -2.19510511e-01,  2.12455332e-01,\n",
       "         4.97488856e-01, -6.73275173e-01,  3.26953344e-02,\n",
       "         1.31066695e-01, -5.84229946e-01,  6.80440485e-01,\n",
       "        -1.67175382e-01, -1.41102403e-01,  4.89532761e-02,\n",
       "         3.15580338e-01, -1.74363971e-01,  2.64624476e-01,\n",
       "        -1.07606828e+00, -1.22857951e-01, -1.71772927e-01,\n",
       "        -5.38426340e-01,  4.00503755e-01, -6.96898937e-01,\n",
       "        -1.16829395e+00, -1.01237810e+00,  3.35559040e-01,\n",
       "         7.19877899e-01,  3.17477584e-02,  6.01902604e-01,\n",
       "        -7.89185047e-01,  2.99960643e-01,  6.89593196e-01,\n",
       "        -8.48608911e-02, -7.39989519e-01,  3.50488961e-01,\n",
       "         3.36766601e-01, -2.09047586e-01, -2.08877936e-01,\n",
       "        -6.21689677e-01, -8.96544568e-03, -1.04092009e-01,\n",
       "        -2.32589692e-02, -2.59468347e-01,  6.14959180e-01,\n",
       "         2.81654954e-01, -3.15845042e-01, -6.59689844e-01,\n",
       "         2.62233555e-01,  4.59172040e-01, -7.58670866e-02,\n",
       "        -6.46409214e-01, -3.07322055e-01, -1.60025224e-01,\n",
       "         1.18041265e+00,  5.10421813e-01,  6.33685514e-02,\n",
       "        -9.02763754e-03, -8.01623166e-01, -1.21303432e-01,\n",
       "         3.08762103e-01,  8.13875854e-01, -3.18043202e-01,\n",
       "        -8.41938138e-01,  7.60777518e-02, -4.31386739e-01,\n",
       "         1.30853131e-01, -2.21216425e-01, -4.30370308e-02,\n",
       "         2.37276271e-01, -3.44481409e-01,  3.39225382e-01,\n",
       "         4.00186747e-01,  4.02098864e-01, -1.08866107e+00,\n",
       "        -1.75745308e-01,  1.84033334e-01, -2.91465759e-01,\n",
       "        -7.52038896e-01,  2.31503710e-01,  6.78881764e-01,\n",
       "        -3.78049761e-01, -1.13098395e+00, -1.34805584e+00,\n",
       "         1.92356780e-01, -8.23721707e-01,  1.17989637e-01,\n",
       "        -7.07402527e-02, -4.30684775e-01,  6.41725302e-01,\n",
       "        -2.78189689e-01, -2.24553764e-01, -1.00141501e+00,\n",
       "        -9.51508045e-01,  1.85192630e-01,  3.55754286e-01,\n",
       "        -9.39522088e-01, -6.80952609e-01,  3.27832662e-02,\n",
       "         5.88381551e-02, -1.14128709e+00,  6.83751881e-01,\n",
       "        -1.11088598e+00, -1.81136832e-01,  3.44851732e-01,\n",
       "         5.43866575e-01, -3.67731333e-01,  6.76228285e-01,\n",
       "         2.33847529e-01,  5.06072581e-01,  2.30397969e-01,\n",
       "         1.32623971e+00, -5.11282027e-01, -2.29955748e-01,\n",
       "         2.10393891e-02,  6.77833498e-01,  1.90719873e-01,\n",
       "        -8.02394375e-02,  1.44706935e-01, -1.34390086e-01,\n",
       "        -1.09617732e-01, -2.13817000e-01,  3.43628675e-01,\n",
       "         9.54836532e-02,  1.35019898e-01, -2.88149953e-01,\n",
       "        -4.13649976e-01,  4.60018307e-01,  6.79810166e-01,\n",
       "         5.07494807e-01, -8.17100286e-01,  3.14388782e-01,\n",
       "        -4.07320499e-01, -6.15099609e-01,  7.24802494e-01,\n",
       "         1.56621099e-01, -6.46359265e-01, -1.99095085e-01,\n",
       "        -1.91104665e-01, -1.12997703e-02,  5.10291934e-01,\n",
       "        -3.87059510e-01, -3.03098232e-01,  5.45878373e-02,\n",
       "         4.39844728e-01, -5.02579272e-01, -6.56696677e-01,\n",
       "        -4.68895346e-01,  2.34149441e-01,  1.41624063e-01,\n",
       "        -1.17474636e-02, -1.09074652e+00, -4.62100387e-01,\n",
       "        -3.62396240e-01,  4.21996474e-01, -3.63820165e-01,\n",
       "         3.61359537e-01, -2.17309609e-01, -6.73976719e-01,\n",
       "         2.40062371e-01,  1.59743987e-02,  1.86106741e-01,\n",
       "         2.84809284e-02, -1.52771965e-01,  4.61891562e-01,\n",
       "        -9.38616171e-02,  4.56042141e-01,  3.34799081e-01,\n",
       "         6.77886605e-01, -1.35896683e-01,  4.14668471e-01,\n",
       "         1.39468297e-01, -1.83572099e-01, -2.72617340e-01,\n",
       "        -3.42840850e-01, -6.23292327e-01, -4.77971464e-01,\n",
       "         9.46877301e-02, -8.44023526e-01,  6.32980525e-01,\n",
       "        -3.90775025e-01, -2.95010656e-01,  3.52559239e-01,\n",
       "         4.20096248e-01, -8.78449678e-01, -1.49703115e-01,\n",
       "        -3.56268644e-01,  5.27826011e-01, -2.23303944e-01,\n",
       "        -6.58546448e-01,  2.28997841e-01, -6.29695833e-01,\n",
       "         2.21199065e-01,  1.94177106e-01, -2.59450495e-01,\n",
       "        -3.80531013e-01, -1.71957567e-01, -5.10862052e-01,\n",
       "        -2.86442161e-01, -7.76478574e-02,  1.09614655e-01,\n",
       "         4.72533077e-01,  6.97635412e-01, -8.43884110e-01,\n",
       "        -4.39936042e-01,  2.25004464e-01, -9.85311806e-01,\n",
       "         2.20579177e-01, -3.24908763e-01, -2.20096350e-01,\n",
       "         2.19809219e-01, -4.38354351e-02,  7.20594168e-01,\n",
       "         7.69402444e-01,  1.16782188e-01, -7.00330913e-01,\n",
       "         1.00626491e-01,  6.96710348e-01, -4.64361280e-01,\n",
       "         1.13805374e-02,  1.96149841e-01, -6.54532015e-01,\n",
       "        -4.90937442e-01, -5.19809246e-01,  1.75999224e-01,\n",
       "        -5.26391089e-01, -2.64054716e-01,  9.43651259e-01,\n",
       "         3.09482157e-01,  2.71842659e-01,  4.36680093e-02,\n",
       "         2.87242472e-01, -2.69184500e-01, -1.00473255e-01,\n",
       "        -4.32936281e-01, -2.61140883e-01,  2.86742449e-01,\n",
       "         4.89724994e-01, -3.96405727e-01,  4.87634093e-01,\n",
       "         5.81988037e-01, -1.25585631e-01,  1.04623449e+00,\n",
       "         3.03153515e-01,  2.59901822e-01, -3.31272006e-01,\n",
       "         5.64391911e-01, -7.48955965e-01,  1.06745839e+00,\n",
       "        -3.90471637e-01,  8.27850178e-02,  6.69528902e-01,\n",
       "        -3.61635208e-01, -2.54907180e-02,  3.10723614e-02,\n",
       "         7.74991632e-01,  3.06731999e-01,  1.83820724e-01,\n",
       "         6.89335108e-01,  3.34201723e-01,  1.51051134e-01,\n",
       "        -1.41043901e-01,  5.29360138e-02,  6.91400766e-02,\n",
       "        -1.46187544e-01, -4.85347688e-01,  6.76764309e-01,\n",
       "         4.16773349e-01, -1.07475922e-01,  4.88357574e-01,\n",
       "         2.82419354e-01,  9.50513631e-02,  7.58635104e-01,\n",
       "        -1.67980582e-01,  9.25909430e-02,  1.89386606e-01,\n",
       "         4.92715150e-01,  3.07846755e-01, -4.51806992e-01,\n",
       "         1.62840828e-01,  1.49903506e-01,  9.45544064e-01,\n",
       "         2.70319641e-01, -3.30272198e-01, -1.05754249e-01,\n",
       "         5.45996465e-02, -5.10669172e-01, -2.56190356e-02,\n",
       "        -9.88171577e-01, -1.81063622e-01, -1.02946770e+00,\n",
       "         1.02955794e+00, -1.49236321e-01, -3.12292546e-01,\n",
       "         8.02145600e-01, -1.38842195e-01, -2.24864874e-02,\n",
       "         2.96778679e-02, -4.37600702e-01, -4.57905442e-01,\n",
       "        -9.60874856e-01, -2.43807156e-02, -4.47529763e-01,\n",
       "        -3.74768794e-01,  4.25203472e-01, -4.28958863e-01,\n",
       "         9.25443709e-01, -7.78041124e-01,  5.44282138e-01,\n",
       "        -6.01465881e-01, -3.34511548e-01,  9.79600787e-01,\n",
       "         2.84722298e-01,  4.43952084e-01,  4.48059797e-01,\n",
       "         1.42330021e-01,  1.97741523e-01, -2.23847449e-01,\n",
       "         7.12708712e-01, -4.73314434e-01, -2.01137394e-01,\n",
       "        -9.62886572e-01,  1.70263186e-01, -2.51300454e-01,\n",
       "        -6.39114082e-02, -6.92217290e-01,  3.89449090e-01,\n",
       "        -2.18413636e-01, -1.56035453e-01, -8.70952129e-01,\n",
       "        -7.05168307e-01,  7.75942862e-01,  8.55137557e-02,\n",
       "         2.24175528e-01, -6.46441355e-02,  1.36369944e-01,\n",
       "        -5.69571674e-01,  6.81261048e-02,  3.53915155e-01,\n",
       "         1.69931069e-01, -2.56172568e-01,  6.47336483e-01,\n",
       "         5.58914661e-01, -3.95074040e-02, -2.93877840e-01,\n",
       "        -5.68687141e-01, -1.11683440e+00, -2.10368559e-01,\n",
       "         4.61813092e-01, -8.34288672e-02, -1.46795899e-01,\n",
       "         3.85752589e-01, -9.22253430e-02, -6.93681955e-01,\n",
       "        -2.16034800e-01,  2.65550703e-01,  7.76298761e-01,\n",
       "        -3.22662801e-01, -1.77185595e-01,  7.17961133e-01,\n",
       "         6.17642581e-01, -6.78557932e-01, -2.95927018e-01,\n",
       "        -3.06377202e-01, -1.85924679e-01, -8.25984895e-01,\n",
       "         3.12023703e-02, -7.17977360e-02, -1.52973139e+00,\n",
       "         1.78838089e-01, -8.58503640e-01, -1.77481845e-01,\n",
       "         1.54243067e-01, -5.96778512e-01, -1.67773351e-01]], dtype=float32)"
      ]
     },
     "execution_count": 89,
     "metadata": {},
     "output_type": "execute_result"
    }
   ],
   "source": [
    "text_encoded"
   ]
  }
 ],
 "metadata": {
  "kernelspec": {
   "display_name": "Python 3 (ipykernel)",
   "language": "python",
   "name": "python3"
  },
  "language_info": {
   "codemirror_mode": {
    "name": "ipython",
    "version": 3
   },
   "file_extension": ".py",
   "mimetype": "text/x-python",
   "name": "python",
   "nbconvert_exporter": "python",
   "pygments_lexer": "ipython3",
   "version": "3.7.13"
  },
  "toc": {
   "base_numbering": 1,
   "nav_menu": {},
   "number_sections": true,
   "sideBar": true,
   "skip_h1_title": false,
   "title_cell": "Table of Contents",
   "title_sidebar": "Contents",
   "toc_cell": false,
   "toc_position": {},
   "toc_section_display": true,
   "toc_window_display": true
  }
 },
 "nbformat": 4,
 "nbformat_minor": 4
}
